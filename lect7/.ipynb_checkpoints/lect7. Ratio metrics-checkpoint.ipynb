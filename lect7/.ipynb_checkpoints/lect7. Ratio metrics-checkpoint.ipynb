{
 "cells": [
  {
   "cell_type": "markdown",
   "metadata": {},
   "source": [
    "# Тестирование на примере метрик-отношений"
   ]
  },
  {
   "cell_type": "markdown",
   "metadata": {},
   "source": [
    "*Подготовил Ян Пиле*"
   ]
  },
  {
   "cell_type": "markdown",
   "metadata": {},
   "source": [
    "До сих пор мы разбирали различные методы и способы тестирования гипотез на примере различных задач. Здесь мы сконцентрируемся на применении большого набора различных методов к одной задаче: проведении A/B теста на крайне часто встречающейся задаче. Представим, что у нас есть две модели показа баннеров пользователям. Чем больше они в баннеры кликают, тем больше мы заработаем :) Стало быть, наша задача увеличить среднее количество кликов, которое сделает пользователь в группе \n",
    "$$CPU = \\frac{1}{|Users|}\\sum_i{clicks_i}\\text{ }\\text{, здесь CPU - clicks per user}$$\n",
    "\n",
    "Мы будем считать, что у нас есть хорошая система сплитования пользователей (разбиения пользователей на группы) и в группах абсолютно одинаковое количество пользователей. Давайте посмотрим, как мы могли бы устроить процесс сравнения кликов в целевой и контрольной группах."
   ]
  },
  {
   "cell_type": "markdown",
   "metadata": {},
   "source": [
    "## Гипотезы\n",
    "\n",
    "Наши гипотезы выглядят так:\n",
    "\n",
    "**Нулевая гипотеза**    $H_0: CPU_1 = CPU_2$\n",
    "\n",
    "**Альтернативная гипотеза**     $H_1: CPU_1  \\not= CPU_2$ (Двусторонняя альтернатива)\n",
    "\n",
    "Теперь нужно каким-то образом выбрать тест, с помощью которого мы будем проверять гипотезу. Любой тест можно охарактеризовать такими величинами как:\n",
    "\n",
    "**False Positive Rate** - вероятность ошибки первого рода или вероятность отклонения верной нулевой гипотезы. Если ваша процедура проверки гипотез, сплитование и т.д. устроены так как нужно, эта ошибка сверху должна ограничиваться уровнем значимости или p-value.\n",
    "\n",
    "**Чувствительность (Sensitivity)** - вероятность отклонения неверной нулевой гипотезы. Эта штука уже в явном виде не ограничена.\n",
    "\n",
    "Нетрудно представить два крайних случая: Если мы всегда будем принимать нулевую гипотезу(вне зависимости от ее правдивости) мы получим нулевой **False Positive Rate**, с другой стороны – если мы всегда будем отвергать нулевую гипотезу в пользу любой альтернативы, мы получим критерий со стопроцентной **чувствительностью**, естественно, в народном хозяйстве такая процедура совершенно бесполезна и в реальной жизни выбор теста - всегда компромисс между вероятностью ошибки первого рода и чуствительностью. \n",
    "\n",
    "Обычно зависимость **False Positive Rate** от **чувствительности** имеет такой вид:\n",
    "\n",
    "<img src=\"sample CDF.png\" width=\"500\">\n",
    "\n",
    "Наша задача сделать так, чтобы график был как можно ближе к левому верхнему углу. Если вы уже что-то знаете про машинное обучение, в этом рисунке можно угадать ROC-кривую. Не пугайтесь, если не знаете, что это, мы обязательно обсудим это потом. Мы предположили, что наш эксперимент проведен правильно, никаких проблем с ним нет и тогда **False Positive Rate** ограничен сверху нашим уровнем значимости. Часто тесты принимаются на уровне 0.05. Давайте попробуем сранивать наши различные методы по чувствительности на уровне значимости 0.05. Как раз мы успеем понять, какие методы лучше, а какие хуже для этой конкретной задачи. Будем говорить, что если **чувствительность** одного теста на уровне 0.05 выше, чем чувствительность другого теста, то он **мощнее**. А чувствительность на уровне 0.05 в рамках нашей лекции будем называть мощностью (хотя в общем случае мощность и чувствительнось – $\\pm$ одинаковые понятия)\n",
    "\n"
   ]
  },
  {
   "cell_type": "markdown",
   "metadata": {},
   "source": [
    "## От чего зависит мощность теста\n",
    "\n",
    "Мощность теста зависит от:\n",
    "\n",
    "    1) Типа теста\n",
    "    2) Распределения данных\n",
    "    3) Размера эффекта\n",
    "    4) Размера тестовых групп\n",
    "\n",
    "Мы попробуем смоделировать какой-то разумный вид измеряемых нами параметров и провести исследование того, как различные тесты будут себя вести в зависимости от изменения этих параметров.\n",
    "\n",
    "Для начала оговорим то, с помощью каких распределений мы будем моделировать наши величины.\n",
    "У нас есть две одинаковые группы пользователей. Одной группе мы покажем один набор баннеров, а другой - другой набор. Каждый пользователь в каждой из групп, соответственно, описывается количеством просмотров баннеров, которые он совершил и количеством кликов в эти баннеры. Можно немного формализовать это. Будем считать, что каждый пользователь обладает неким истинным $CTR$ или вероятностью того, что он кликнет в показанный ему баннер. Показы баннеров кажется разумным моделировать с помощью логнормального распределения - оно скошено влево и следовательно большая часть пользователей посмотрит мало баннеров, но некоторые посмотрят много (это довольно логичное предположение). Выглядит это так:"
   ]
  },
  {
   "cell_type": "code",
   "execution_count": 1,
   "metadata": {},
   "outputs": [],
   "source": [
    "import numpy as np\n",
    "import seaborn as sns\n",
    "import scipy\n",
    "from scipy.stats import norm, probplot, rankdata\n",
    "from matplotlib import pyplot as plt\n",
    "from matplotlib.axes import Axes\n",
    "from typing import Tuple, Dict, Optional, Set, List\n",
    "import os"
   ]
  },
  {
   "cell_type": "code",
   "execution_count": null,
   "metadata": {},
   "outputs": [],
   "source": []
  },
  {
   "cell_type": "markdown",
   "metadata": {},
   "source": [
    "## Генерируем распределения просмотров\n",
    "\n",
    "Для логнормального распределения мы попробуем $\\mu = 1$, $\\sigma^2 = 1.5$, количество экспериментов равно 1000, а выборка имеет длину 5000.\n",
    "\n",
    "Рекомендую посмотреть, какой параметр за что в распределении отвечает (в наших экспериментах мы будем варьировать $\\sigma^2$, но менять $\\mu$ тоже не возбраняется - в конце концов здесь мы хотим посмотреть на модель того, как выглядят просмотры."
   ]
  },
  {
   "cell_type": "code",
   "execution_count": 2,
   "metadata": {},
   "outputs": [],
   "source": [
    "mu = 1\n",
    "sigma2 = 1\n",
    "N = 5000\n",
    "experiments = 1000\n",
    "views_A = np.absolute(np.exp(norm(mu, sigma2).rvs(experiments * N)).astype(np.int64).reshape(experiments, N) + 1)"
   ]
  },
  {
   "cell_type": "code",
   "execution_count": 3,
   "metadata": {},
   "outputs": [
    {
     "data": {
      "text/plain": [
       "Text(0.5, 1.0, 'Views, 99%-ile = 28.0   ')"
      ]
     },
     "execution_count": 3,
     "metadata": {},
     "output_type": "execute_result"
    },
    {
     "data": {
      "image/png": "[encoded data removed]",
      "text/plain": [
       "<Figure size 432x288 with 1 Axes>"
      ]
     },
     "metadata": {
      "needs_background": "light"
     },
     "output_type": "display_data"
    }
   ],
   "source": [
    "fig = plt.figure()\n",
    "ax_views = fig.add_subplot()\n",
    "views_distr = sns.histplot(views_A.ravel(),  # Теперь это массив длины experiments * N\n",
    "                           bins=range(0, 30),\n",
    "                           kde=False,\n",
    "                           ax=ax_views,\n",
    "                           stat='probability')\n",
    "ax_views.set_xlim((0, 30))\n",
    "views_99_percentile = np.percentile(views_A.ravel(), 99)\n",
    "ax_views.set_title(f'Views, 99%-ile = {views_99_percentile:<7.1f}')"
   ]
  },
  {
   "cell_type": "markdown",
   "metadata": {},
   "source": [
    "Скошенность распределения можно контролировать с помощью параметра $\\sigma^2$"
   ]
  },
  {
   "cell_type": "markdown",
   "metadata": {},
   "source": [
    "## Генерируем распределение ctr\n",
    "\n",
    "Далее мы с вами договорились, что у каждого пользователя есть некий свой $CTR$. Сэмплировать его мы будем из Бета-распределения. Оно является ограниченным (принимает значения из промежутка от нуля до единицы), а это именно то, что нам и нужно :) Мы зафиксируем **среднее значение** этого распределения и будем называть его **success rate** или конверсией (из просмотров в клики) и будем менять дисперсию нашего бета распределения. При нулевой дисперсии истинный CTR в группе у всех будет одинаковым, а с ростом дисперсии пользователи будут становиться более \"разношерстными\" внутри группы. Дисперсией при фиксированном среднем будет управлять параметр $beta$. Заранее предположим, что конверсия в группах нашего АБ-теста отличается на некоторую величину, которую мы хотим \"поймать\" с помощью нашей статистической процедуры. Назовем эту величину дополнительного эффекта **uplift**. Тогда:\n",
    "\n",
    "$$success\\_rate_{treatment} = success\\_rate_{control}(1+uplift)$$"
   ]
  },
  {
   "cell_type": "code",
   "execution_count": 5,
   "metadata": {},
   "outputs": [],
   "source": [
    "success_rate = 0.02\n",
    "beta = 1000\n",
    "alpha = success_rate * beta / (1 - success_rate)\n",
    "\n",
    "success_rate_A = scipy.stats.beta(alpha, beta).rvs(\n",
    "    experiments * N).reshape(experiments, N)"
   ]
  },
  {
   "cell_type": "markdown",
   "metadata": {},
   "source": [
    "Вы возможно спросите, откуда взялось такое значение alpha. Мы выбрали alpha в таком виде, чтобы мат.ожидание нашего бета-распределения равнялось success_rate. Для произвольных альфа и бета математическое ожидание бета-распределения равно:\n",
    "\n",
    "$$E(X) = \\frac{\\alpha}{\\alpha+\\beta}$$"
   ]
  },
  {
   "cell_type": "code",
   "execution_count": 6,
   "metadata": {},
   "outputs": [
    {
     "data": {
      "text/plain": [
       "0.02"
      ]
     },
     "execution_count": 6,
     "metadata": {},
     "output_type": "execute_result"
    }
   ],
   "source": [
    "# Мы выбрали правильно :)\n",
    "alpha/(alpha+beta)"
   ]
  },
  {
   "cell_type": "code",
   "execution_count": 7,
   "metadata": {},
   "outputs": [
    {
     "data": {
      "text/plain": [
       "Text(0.5, 1.0, 'Ground truth user CTR, std = 0.004')"
      ]
     },
     "execution_count": 7,
     "metadata": {},
     "output_type": "execute_result"
    },
    {
     "data": {
      "image/png": "[encoded data removed]",
      "text/plain": [
       "<Figure size 432x288 with 1 Axes>"
      ]
     },
     "metadata": {
      "needs_background": "light"
     },
     "output_type": "display_data"
    }
   ],
   "source": [
    "fig = plt.figure()\n",
    "ax_ctr = fig.add_subplot()\n",
    "sns.histplot(success_rate_A.ravel(),\n",
    "             bins=np.linspace(0, 0.2, 100),\n",
    "             ax=ax_ctr,\n",
    "             kde=False,\n",
    "             stat='probability')\n",
    "ax_ctr.set_xlim((0, 0.1))\n",
    "success_rate_std = success_rate_A[:10].flatten().std()\n",
    "ax_ctr.set_title(f'Ground truth user CTR, std = {success_rate_std:2.3f}')"
   ]
  },
  {
   "cell_type": "markdown",
   "metadata": {},
   "source": [
    "## Генерируем распределение кликов\n",
    "\n",
    "Ну а распределение кликов для пользователей можно моделировать как биномиальное распределение для $views$ испытаний с с вероятностью успеха $ctr$:\n",
    "\n",
    "$$clicks \\sim Binomial(views, ctr)$$\n",
    "\n",
    "С биномиальным распределением мы знакомы. Выглядеть это будет так:"
   ]
  },
  {
   "cell_type": "code",
   "execution_count": 29,
   "metadata": {},
   "outputs": [
    {
     "data": {
      "text/plain": [
       "(14, 0)"
      ]
     },
     "execution_count": 29,
     "metadata": {},
     "output_type": "execute_result"
    }
   ],
   "source": [
    "clicks_A = scipy.stats.binom.rvs(views_A, success_rate_A)\n",
    "\n",
    "# Сколько кликов было максимум\n",
    "clicks_A.max(), clicks_A.min()"
   ]
  },
  {
   "cell_type": "code",
   "execution_count": 9,
   "metadata": {},
   "outputs": [
    {
     "data": {
      "text/plain": [
       "((1000, 5000), (1000, 5000), (1000, 5000))"
      ]
     },
     "execution_count": 9,
     "metadata": {},
     "output_type": "execute_result"
    }
   ],
   "source": [
    "views_A.shape, success_rate_A.shape, clicks_A.shape"
   ]
  },
  {
   "cell_type": "code",
   "execution_count": 10,
   "metadata": {},
   "outputs": [
    {
     "data": {
      "text/plain": [
       "(0.0, 10.0)"
      ]
     },
     "execution_count": 10,
     "metadata": {},
     "output_type": "execute_result"
    },
    {
     "data": {
      "image/png": "[encoded data removed]",
      "text/plain": [
       "<Figure size 432x288 with 1 Axes>"
      ]
     },
     "metadata": {
      "needs_background": "light"
     },
     "output_type": "display_data"
    }
   ],
   "source": [
    "fig = plt.figure()\n",
    "ax_clicks = fig.add_subplot()\n",
    "clicks_distr = sns.histplot(clicks_A.ravel(),  # Теперь это массив длины experiments * N\n",
    "                            bins=range(0, 10),\n",
    "                            kde=False,\n",
    "                            ax=ax_clicks,\n",
    "                            stat='probability')\n",
    "ax_clicks.set_xlim((0, 10))"
   ]
  },
  {
   "cell_type": "markdown",
   "metadata": {},
   "source": [
    "## Соберем в кучу процесс генерации данных\n",
    "\n",
    "    1) Задаем размер тестовой и контрольной групп (у нас он будет одинаковым. Это позволит использовать t-тест)\n",
    "    2) Генерируем для теста и контроля распределение просмотров с помощью одного и того же логнормального\n",
    "        распределения (это означает, что мы нашим тестом не влияем на просмотры, а влияем только на клики)\n",
    "    3) Генерируем истинный ctr каждого пользователя из бета-распределений со средним равным success_rate для\n",
    "        контрольной группы и средним равным success_rate*(1+uplift) для тестовой группы\n",
    "    4) Для каждого пользователя генерируем количество просмотров из биномиального распределения с views\n",
    "        испытаний и success_rate или success_rate*(1+uplift) вероятностью успеха соответственно\n",
    "        \n",
    "Если один раз таким образом сгенерировать данные, мы получим выборки для одного синтетического A/B-теста. А в процессе выше мы ввели две переменные, чтобы генерировать *experiments* синтетических А/В-тестов с выборками длины *n*."
   ]
  },
  {
   "cell_type": "markdown",
   "metadata": {},
   "source": [
    "# Проверка того, как работает наш тест\n",
    "\n",
    "Мы сгенерировали *experiments* синтетических А/Б тестов. В них нам совершенно точно известно, что нулевая гипотеза НЕ верна (потому что есть ненулевой uplift). Давайте выберем какой-либо статистический тест (например t-тест для среднего количества кликов в группах. Заодно и проверим, как он работает при отклонениях от нормальности), применим его на каждом из наших синтетических тестов и получим тем самым выборку из *experiments* достигаемых уровней значимости (p-value). Если бы тест работал идеально, все p-value оказались бы нулями. В реальности мы получим какое-то распределение p-value. Посмотрим на кумулятивную функцию распределения наших p-value, напоминаю, что для выборки это функция на интервале от 0 до 1 равная \"доле p-value, которые меньше или равны х\". "
   ]
  },
  {
   "cell_type": "markdown",
   "metadata": {},
   "source": [
    "## Мы сделали 1000 синтетических А/Б тестов по 5000 пользователей.\n",
    "\n",
    "Смотрим на QQ-график данных о кликах:"
   ]
  },
  {
   "cell_type": "code",
   "execution_count": 11,
   "metadata": {},
   "outputs": [
    {
     "data": {
      "image/png": "[encoded data removed]",
      "text/plain": [
       "<Figure size 432x288 with 1 Axes>"
      ]
     },
     "metadata": {
      "needs_background": "light"
     },
     "output_type": "display_data"
    }
   ],
   "source": [
    "f = probplot(np.random.choice(clicks_A.ravel(),5000), dist=\"norm\",plot=plt)"
   ]
  },
  {
   "cell_type": "markdown",
   "metadata": {},
   "source": [
    "Как видите, данные вообще не нормальные. \n",
    "\n",
    "## Сгенерируем данные для тестовой группы ( uplift = 20%)"
   ]
  },
  {
   "cell_type": "code",
   "execution_count": 12,
   "metadata": {},
   "outputs": [],
   "source": [
    "uplift = 0.2\n",
    "views_B = np.absolute(np.exp(norm(mu, sigma2).rvs(experiments * N)).astype(np.int64).reshape(experiments, N) + 1)\n",
    "alpha_B = success_rate * (1 + uplift) * beta / (1 - success_rate * (1 + uplift))\n",
    "success_rate_B = scipy.stats.beta(alpha_B, beta).rvs(experiments * N).reshape(experiments, N)\n",
    "clicks_B = scipy.stats.binom(n=views_B, p=success_rate_B).rvs()"
   ]
  },
  {
   "cell_type": "code",
   "execution_count": 13,
   "metadata": {},
   "outputs": [
    {
     "data": {
      "text/plain": [
       "((1000, 5000), (1000, 5000), (1000, 5000))"
      ]
     },
     "execution_count": 13,
     "metadata": {},
     "output_type": "execute_result"
    }
   ],
   "source": [
    "views_B.shape, success_rate_B.shape, clicks_B.shape"
   ]
  },
  {
   "cell_type": "markdown",
   "metadata": {},
   "source": [
    "# t-тест на количестве кликов \n",
    "\n",
    "Ниже приведена функция, которая по данным *experiments* синтетических тестов по *N* человек получает массив из *N* p-values. По ним мы посмотрим распределение и построим кумулятивную функцию распределения. "
   ]
  },
  {
   "cell_type": "code",
   "execution_count": 14,
   "metadata": {},
   "outputs": [],
   "source": [
    "def t_test(a, b):\n",
    "    \"\"\"\n",
    "    Считает p-value для t-теста с двусторонней альтернативой \n",
    "    :param a: np.array вида (n_experiments, n_users), значения метрик в контрольных группах\n",
    "    :param b: np.array вида (n_experiments, n_users), значения метрик в тестовых группах\n",
    "    :return: np.array вида (n_experiments), посчитанные p-value t-теста для всего списка экспериментов\n",
    "    \"\"\"\n",
    "    result = list(map(lambda x: scipy.stats.ttest_ind(\n",
    "        x[0], x[1]).pvalue, zip(a, b)))\n",
    "    return np.array(result)"
   ]
  },
  {
   "cell_type": "markdown",
   "metadata": {},
   "source": [
    "## Получили список p-value\n",
    "\n",
    "Построим гистограмму p-values, а затем построим их кумулятивную функцию распределения."
   ]
  },
  {
   "cell_type": "code",
   "execution_count": 15,
   "metadata": {},
   "outputs": [],
   "source": [
    "p_values = t_test(clicks_A, clicks_B)"
   ]
  },
  {
   "cell_type": "code",
   "execution_count": 16,
   "metadata": {},
   "outputs": [
    {
     "data": {
      "text/plain": [
       "array([1.43366971e-01, 5.40591839e-04, 1.96453279e-04, 1.57397863e-03,\n",
       "       5.66424922e-02, 6.51280462e-04, 8.60342038e-05, 5.50821069e-03,\n",
       "       4.09793682e-02, 1.37182346e-03, 2.48151505e-02, 1.87342700e-03,\n",
       "       3.11602171e-07, 4.17643942e-04, 2.08458984e-03, 7.59696138e-02,\n",
       "       1.20777759e-01, 5.74645802e-03, 1.89410541e-02, 1.07506115e-02,\n",
       "       2.59577397e-03, 1.28649488e-03, 1.06520727e-03, 2.23063755e-01,\n",
       "       1.10469378e-04, 8.90126361e-02, 2.09682596e-03, 1.59623215e-03,\n",
       "       1.32428745e-02, 1.76902461e-03, 3.06900901e-02, 8.55583763e-02,\n",
       "       9.52631541e-03, 1.16443768e-02, 8.62561854e-07, 8.81467208e-02,\n",
       "       6.22549647e-06, 2.15714323e-01, 8.70526010e-02, 3.76453192e-05,\n",
       "       1.46766106e-04, 3.48997465e-03, 5.02750676e-01, 7.43510541e-02,\n",
       "       2.14482028e-07, 4.07601482e-02, 3.47015194e-03, 8.62372622e-06,\n",
       "       3.05880751e-04, 1.38921479e-01, 3.34346647e-03, 4.30220613e-02,\n",
       "       8.69705444e-03, 6.38922560e-05, 2.39422738e-01, 2.47092201e-02,\n",
       "       1.94845481e-02, 4.46383424e-03, 7.80615637e-02, 2.04078068e-01,\n",
       "       7.57565792e-03, 2.11250251e-01, 2.01681031e-02, 3.52867506e-02,\n",
       "       3.74920567e-02, 1.75965943e-05, 1.18217607e-03, 1.69848821e-01,\n",
       "       2.31429386e-01, 5.36563698e-05, 1.01459069e-03, 3.74213721e-05,\n",
       "       7.70225263e-03, 5.30602519e-03, 8.92192425e-05, 3.06158050e-03,\n",
       "       5.79881238e-02, 7.13857837e-03, 2.11500250e-01, 4.47603464e-01,\n",
       "       2.89620598e-01, 1.57946027e-05, 1.73721268e-02, 1.83027244e-03,\n",
       "       2.26619796e-03, 3.93210499e-03, 1.10809662e-02, 9.56877504e-04,\n",
       "       2.49659066e-04, 1.60661340e-03, 9.81900567e-09, 5.42657273e-05,\n",
       "       4.76822488e-02, 1.85733964e-01, 9.29613455e-03, 1.74026573e-03,\n",
       "       1.28920376e-04, 5.81252107e-02, 1.75440827e-03, 8.49713492e-04,\n",
       "       2.92700583e-03, 8.37779014e-04, 1.78499546e-03, 1.88722244e-04,\n",
       "       3.51987810e-03, 7.74360404e-03, 7.73843841e-01, 1.34889597e-02,\n",
       "       4.92797652e-02, 1.26170872e-02, 5.52695481e-04, 4.90763653e-06,\n",
       "       4.74813864e-01, 2.23085990e-03, 5.04089678e-05, 8.25328863e-02,\n",
       "       3.44305031e-02, 1.50682433e-06, 3.87033966e-02, 2.16578748e-04,\n",
       "       5.66081881e-06, 2.54297389e-02, 4.40641730e-03, 4.23982471e-01,\n",
       "       9.91879446e-02, 1.57005058e-02, 1.30370131e-03, 3.98179771e-02,\n",
       "       2.63143140e-03, 7.31091940e-03, 6.11295578e-06, 7.22630674e-05,\n",
       "       1.17701356e-03, 1.98945366e-04, 5.16789742e-04, 9.65608130e-06,\n",
       "       2.90085079e-03, 9.18427827e-02, 1.89315689e-04, 2.26999811e-04,\n",
       "       5.81760117e-07, 2.74957976e-04, 2.41400253e-03, 3.32927833e-03,\n",
       "       1.35054370e-04, 2.69044939e-01, 3.26661450e-02, 1.69811451e-01,\n",
       "       1.44556607e-08, 2.80723159e-01, 1.00270310e-01, 2.46268301e-04,\n",
       "       1.12692848e-03, 1.58005548e-01, 1.35304602e-03, 6.78158704e-02,\n",
       "       4.15432714e-07, 2.50242749e-06, 7.06046615e-07, 1.04368823e-01,\n",
       "       3.48826434e-02, 5.59116030e-04, 4.49023145e-01, 1.33660182e-03,\n",
       "       2.87343760e-05, 7.51048342e-02, 7.32188460e-05, 1.29304198e-05,\n",
       "       5.06333352e-02, 1.95258994e-07, 3.69041738e-02, 1.33664173e-02,\n",
       "       2.41928941e-06, 2.26997877e-06, 1.43181082e-03, 1.62623845e-04,\n",
       "       5.35570047e-03, 1.53056029e-02, 3.73694525e-05, 2.41354934e-04,\n",
       "       2.23528860e-01, 1.29968025e-03, 2.64258530e-03, 1.06451806e-01,\n",
       "       4.28885010e-03, 3.92892854e-03, 3.27808607e-05, 4.23352152e-02,\n",
       "       2.98485266e-01, 5.74839158e-03, 4.56631535e-01, 1.81301481e-02,\n",
       "       5.74811435e-01, 5.14805580e-05, 1.57391192e-01, 9.33938871e-01,\n",
       "       1.89878575e-01, 1.80347622e-03, 3.58554717e-05, 3.37030295e-02,\n",
       "       1.45008661e-01, 2.52251760e-03, 2.22580670e-01, 2.27571109e-03,\n",
       "       3.61460936e-02, 2.47086966e-02, 9.37342678e-02, 2.42049663e-02,\n",
       "       3.47502695e-04, 4.77397357e-02, 1.63498050e-01, 1.93692734e-04,\n",
       "       1.53193407e-05, 6.21163793e-03, 3.54297838e-02, 4.58197848e-02,\n",
       "       1.47995525e-03, 8.71905098e-05, 5.66992489e-04, 1.72834356e-05,\n",
       "       4.72833927e-02, 2.86823766e-02, 2.18562634e-02, 1.83111360e-04,\n",
       "       3.31589913e-02, 4.08623760e-02, 2.32112779e-03, 2.26576875e-01,\n",
       "       1.32436013e-02, 4.54518131e-02, 1.08033461e-01, 4.21155218e-02,\n",
       "       6.56551711e-03, 2.27073189e-04, 1.14900576e-02, 1.19388671e-03,\n",
       "       4.43130713e-02, 6.49373045e-06, 1.19350707e-04, 7.38936353e-05,\n",
       "       5.09475351e-03, 6.17755766e-05, 3.76452900e-04, 9.75808288e-03,\n",
       "       3.58974203e-01, 6.10445151e-02, 5.18529964e-03, 1.44683722e-04,\n",
       "       8.38474281e-02, 2.20942180e-02, 8.46791236e-01, 3.87457531e-02,\n",
       "       3.15484710e-03, 2.89503684e-01, 9.03745910e-03, 3.67873588e-04,\n",
       "       3.47241194e-04, 1.99713290e-01, 1.55938508e-03, 1.43518128e-01,\n",
       "       9.33893931e-01, 5.98874403e-03, 9.81509387e-03, 2.51222825e-05,\n",
       "       2.22507456e-03, 7.96817137e-03, 2.66506575e-02, 2.85918339e-01,\n",
       "       4.56924033e-02, 3.76934015e-02, 4.18791711e-03, 4.77238395e-03,\n",
       "       2.96752650e-02, 2.68348539e-04, 1.88151217e-03, 1.21774627e-04,\n",
       "       4.07103681e-03, 1.77853717e-02, 1.96086059e-01, 1.03363039e-04,\n",
       "       2.80381902e-02, 1.92935766e-02, 4.00661220e-02, 7.72676015e-02,\n",
       "       1.00290070e-03, 1.23004959e-02, 3.51770934e-01, 5.88976459e-03,\n",
       "       2.53401705e-04, 1.10606935e-02, 6.64158277e-06, 3.81940329e-02,\n",
       "       1.49197895e-02, 5.62639286e-05, 5.78415080e-06, 7.97762064e-02,\n",
       "       7.76536386e-03, 1.20172306e-02, 2.50107661e-03, 3.39490016e-01,\n",
       "       5.41326500e-05, 2.60643461e-03, 9.19212957e-05, 2.85690982e-02,\n",
       "       6.26465942e-04, 2.03665502e-02, 8.98326713e-04, 1.96729133e-03,\n",
       "       1.82449516e-05, 6.19008089e-03, 2.84552833e-02, 1.62500791e-06,\n",
       "       1.82635066e-01, 3.30993400e-02, 1.01212300e-01, 9.15504524e-02,\n",
       "       2.03518453e-05, 3.94598397e-04, 8.25611605e-03, 1.80718604e-02,\n",
       "       1.29189939e-01, 4.26060754e-03, 8.00161128e-04, 5.02373239e-02,\n",
       "       7.80144985e-04, 1.56648958e-01, 7.78331120e-03, 2.14596923e-02,\n",
       "       3.04488757e-03, 5.31862165e-03, 2.90487764e-02, 1.91579807e-02,\n",
       "       1.21121456e-03, 4.43971275e-03, 5.19836278e-04, 1.21478799e-02,\n",
       "       7.07649606e-03, 1.04477876e-02, 5.10586426e-02, 4.19187254e-04,\n",
       "       3.27815191e-02, 4.46465681e-04, 3.97190481e-02, 1.94062626e-02,\n",
       "       1.10048676e-02, 1.08772598e-03, 1.08737035e-01, 4.94477190e-03,\n",
       "       4.29461860e-02, 8.52874369e-05, 1.98348506e-02, 6.26201492e-03,\n",
       "       5.31531801e-03, 4.33401830e-02, 5.93572776e-07, 9.69901942e-03,\n",
       "       3.08801083e-03, 1.75575751e-02, 1.55492855e-03, 4.20434141e-06,\n",
       "       1.33482409e-03, 2.99105568e-03, 4.50759749e-03, 5.97668406e-06,\n",
       "       5.18698518e-04, 5.71298069e-02, 2.68445416e-03, 5.85988669e-03,\n",
       "       1.52653758e-02, 1.77852953e-02, 1.21709605e-05, 2.75539388e-02,\n",
       "       9.97939453e-04, 1.15309937e-03, 2.15494980e-07, 7.86901145e-02,\n",
       "       4.61986477e-03, 1.11517947e-01, 1.48997734e-03, 1.85447338e-01,\n",
       "       2.62510980e-01, 1.94617407e-04, 9.53074981e-06, 1.36774795e-03,\n",
       "       1.11098731e-03, 8.57492852e-02, 5.50476576e-02, 6.32713005e-02,\n",
       "       2.38735587e-02, 1.29050411e-04, 3.03040198e-03, 4.64272522e-04,\n",
       "       4.06746597e-07, 1.55270224e-01, 3.83164856e-03, 1.31460905e-04,\n",
       "       6.22041181e-04, 7.11444254e-05, 1.19713201e-02, 1.00755571e-03,\n",
       "       6.93082510e-02, 8.47388550e-04, 2.38388056e-02, 4.84699356e-04,\n",
       "       9.71119194e-03, 1.13186980e-01, 5.26743577e-02, 3.33706455e-03,\n",
       "       6.90974055e-04, 3.76822194e-01, 1.23905297e-03, 5.67231720e-04,\n",
       "       5.45821750e-04, 4.28432078e-03, 3.74528752e-02, 1.31280426e-04,\n",
       "       9.20200815e-02, 7.61915633e-03, 1.35705512e-05, 9.03056081e-03,\n",
       "       7.08788821e-02, 1.15122655e-02, 1.45049908e-01, 1.82209228e-03,\n",
       "       2.00402898e-02, 2.40183364e-02, 1.54269530e-02, 8.67126426e-02,\n",
       "       2.49670142e-01, 1.43435150e-03, 1.19896549e-04, 7.35052081e-05,\n",
       "       2.36917696e-02, 7.28843859e-02, 1.54657622e-02, 8.31090625e-02,\n",
       "       1.24202356e-03, 4.32592241e-01, 1.05468968e-02, 1.60274574e-02,\n",
       "       6.54248534e-02, 8.67016562e-05, 3.55408253e-02, 2.03364717e-04,\n",
       "       1.42117319e-03, 9.45676550e-02, 8.38667583e-03, 8.47751331e-05,\n",
       "       5.12325514e-02, 8.59535294e-06, 5.15091533e-04, 5.46431716e-04,\n",
       "       1.53973200e-02, 4.67006640e-03, 6.04929653e-01, 4.60955287e-02,\n",
       "       2.32381310e-05, 9.95692310e-06, 3.03930159e-02, 7.04523069e-05,\n",
       "       3.45884561e-03, 3.67974612e-06, 1.36473369e-03, 7.65464281e-02,\n",
       "       5.89643613e-05, 2.43581175e-02, 1.08558110e-05, 7.97444472e-03,\n",
       "       1.30728779e-04, 2.84031526e-03, 8.09000870e-03, 5.19917471e-03,\n",
       "       2.82124398e-02, 2.62743566e-04, 9.00610012e-03, 1.10073564e-01,\n",
       "       1.12727333e-02, 4.42691025e-02, 5.80547007e-02, 2.51491774e-04,\n",
       "       9.59049937e-02, 6.32159630e-03, 5.22619838e-01, 4.96898880e-01,\n",
       "       1.30106588e-04, 6.21140053e-01, 1.88046999e-01, 4.87865444e-04,\n",
       "       3.04666622e-02, 6.69672263e-02, 3.86399661e-04, 1.40833784e-05,\n",
       "       3.21968383e-02, 4.64786417e-04, 3.60462907e-03, 7.38948976e-03,\n",
       "       1.34333013e-03, 3.34696132e-01, 1.84835656e-05, 5.70432459e-02,\n",
       "       1.17606506e-03, 1.08096050e-01, 7.11459950e-03, 5.54920201e-03,\n",
       "       7.27548111e-02, 1.77013741e-03, 1.76588685e-04, 1.76120511e-04,\n",
       "       1.16358731e-01, 3.56918864e-02, 2.65166390e-03, 1.31828771e-01,\n",
       "       4.77393539e-02, 6.05501611e-04, 4.80750757e-02, 4.19260442e-03,\n",
       "       2.66532198e-05, 4.15245636e-02, 3.50472738e-03, 3.45702214e-02,\n",
       "       3.61049344e-03, 7.39002245e-02, 9.64693137e-03, 1.06499294e-03,\n",
       "       1.10036131e-03, 2.25636063e-03, 5.40592803e-04, 1.53841887e-01,\n",
       "       1.52512624e-04, 6.72718271e-04, 6.73578657e-06, 1.12564603e-01,\n",
       "       1.85035697e-02, 1.92253734e-03, 5.15098287e-03, 1.40580290e-01,\n",
       "       3.41953902e-05, 5.91426770e-02, 2.76119077e-03, 1.00030558e-01,\n",
       "       1.31641121e-04, 2.15267655e-04, 6.82262669e-04, 1.83586277e-02,\n",
       "       4.56616632e-03, 6.90160014e-02, 1.37493944e-03, 4.35891171e-01,\n",
       "       5.40547102e-04, 4.84797049e-03, 5.17895643e-03, 2.30118788e-02,\n",
       "       1.15214152e-04, 9.82871800e-03, 1.03393363e-05, 8.03845183e-03,\n",
       "       1.04760521e-03, 4.80485413e-01, 4.35249578e-04, 1.97375943e-03,\n",
       "       5.95476790e-02, 1.27643478e-01, 1.85725233e-04, 7.79478859e-01,\n",
       "       1.38048533e-03, 1.29845186e-01, 6.71373638e-05, 2.72260773e-06,\n",
       "       2.69934578e-01, 9.70839591e-05, 1.60108388e-04, 6.01137254e-03,\n",
       "       1.71822697e-04, 2.10509407e-06, 3.54474272e-02, 1.15221427e-05,\n",
       "       1.43104630e-04, 9.48313501e-03, 1.03020653e-02, 4.66956593e-01,\n",
       "       1.43887973e-02, 2.16547087e-06, 2.16721156e-02, 1.21741399e-04,\n",
       "       1.23294689e-03, 6.24775735e-03, 2.63519558e-02, 2.70535343e-03,\n",
       "       1.50536779e-01, 4.36133907e-04, 9.02232976e-04, 1.20437674e-03,\n",
       "       2.95233325e-04, 7.08459566e-02, 3.51801098e-01, 3.05913795e-02,\n",
       "       1.63288834e-02, 1.43050272e-01, 5.17780918e-02, 5.37268319e-03,\n",
       "       9.09131363e-04, 1.75075565e-01, 4.04685232e-02, 2.65075661e-03,\n",
       "       4.27721379e-02, 1.53511311e-02, 5.42397770e-05, 7.16370645e-02,\n",
       "       1.48291610e-02, 3.82392006e-04, 6.18965638e-05, 9.53377751e-05,\n",
       "       6.63860473e-02, 2.85172236e-03, 1.11934953e-04, 1.47174056e-02,\n",
       "       1.40961355e-01, 6.31989559e-04, 2.47479053e-04, 5.68770359e-02,\n",
       "       8.30371243e-04, 8.42596711e-04, 3.52728883e-03, 6.95498266e-03,\n",
       "       1.29974162e-03, 6.50380513e-02, 3.34662025e-03, 4.19442055e-03,\n",
       "       1.09518734e-03, 8.15669257e-02, 2.48549095e-02, 1.97439055e-02,\n",
       "       1.95204272e-02, 5.83770030e-03, 3.76574195e-02, 3.90805020e-05,\n",
       "       5.00849521e-02, 2.46792540e-04, 1.10931723e-04, 6.29536059e-01,\n",
       "       1.07620085e-02, 1.16149916e-01, 5.09093409e-04, 1.11526035e-04,\n",
       "       6.62171208e-04, 1.37695293e-02, 1.68457367e-05, 2.14029339e-01,\n",
       "       6.19886306e-06, 1.06368764e-01, 4.64001424e-02, 3.88321470e-02,\n",
       "       9.10985416e-01, 6.29539080e-02, 5.27541404e-03, 9.53855362e-03,\n",
       "       2.03554798e-02, 1.61893297e-02, 1.26469746e-01, 5.28125413e-03,\n",
       "       1.95056618e-01, 1.50073881e-05, 1.87426074e-06, 6.94112848e-05,\n",
       "       9.52212370e-04, 2.00339999e-01, 2.25757304e-02, 4.96919197e-04,\n",
       "       1.22262591e-02, 7.15866292e-01, 2.33246961e-03, 2.86901993e-01,\n",
       "       4.18364122e-06, 4.17267488e-03, 1.55057848e-04, 1.92003207e-03,\n",
       "       3.24201865e-04, 1.67050039e-01, 3.94672016e-05, 7.46518999e-04,\n",
       "       1.76444988e-05, 3.45265948e-03, 3.99447858e-06, 3.88039463e-02,\n",
       "       3.88171696e-01, 2.76791348e-01, 1.17899995e-01, 1.10338949e-02,\n",
       "       2.52334370e-05, 2.34315765e-02, 2.13651443e-04, 1.03655898e-03,\n",
       "       4.72091214e-03, 3.33584193e-01, 3.79658966e-05, 6.19563630e-02,\n",
       "       2.04041887e-07, 3.06402063e-03, 8.51308348e-04, 1.65690302e-02,\n",
       "       1.13119461e-02, 2.96770292e-05, 3.00209569e-03, 2.01967806e-02,\n",
       "       3.26211986e-05, 2.21889105e-04, 1.03151313e-02, 2.50541573e-01,\n",
       "       1.13096254e-01, 5.53242939e-04, 4.01545676e-03, 2.16306029e-04,\n",
       "       1.61152214e-03, 1.13195508e-02, 1.67990167e-05, 4.82834691e-02,\n",
       "       1.52340076e-02, 4.38561973e-06, 1.20018096e-04, 1.42006584e-03,\n",
       "       3.72386967e-03, 3.76591377e-03, 7.53351035e-03, 7.22046175e-05,\n",
       "       3.21417978e-03, 5.22891335e-05, 1.33254708e-03, 4.62492413e-06,\n",
       "       8.07306172e-02, 5.80225633e-02, 2.47044425e-02, 6.48135440e-02,\n",
       "       2.57338085e-03, 1.74486332e-03, 1.35817967e-03, 2.13513990e-03,\n",
       "       3.32291270e-05, 2.04014380e-03, 1.07797803e-05, 3.92039984e-04,\n",
       "       3.24612129e-02, 2.22763174e-01, 4.57761833e-03, 2.36175614e-03,\n",
       "       2.46148551e-01, 6.33502350e-03, 4.78009852e-01, 3.46833603e-04,\n",
       "       1.44861605e-03, 5.67050003e-03, 2.93863452e-05, 1.52943676e-02,\n",
       "       1.03408483e-04, 1.78067636e-02, 9.44653222e-03, 7.89567747e-04,\n",
       "       4.41765408e-02, 4.06708480e-03, 3.35875871e-03, 7.40001677e-03,\n",
       "       6.22123627e-03, 3.59925476e-04, 6.52540934e-04, 5.11853389e-08,\n",
       "       3.52920797e-03, 4.44835972e-05, 2.98039125e-02, 4.52759119e-02,\n",
       "       1.01558193e-02, 4.92432196e-03, 3.41748240e-04, 2.63601290e-03,\n",
       "       5.58193487e-06, 1.89595609e-03, 6.96358180e-03, 7.67787213e-02,\n",
       "       2.43253522e-02, 3.48405120e-03, 2.42365792e-01, 1.50568173e-05,\n",
       "       1.35374974e-01, 6.15970204e-04, 8.52858056e-04, 3.05572470e-03,\n",
       "       3.56828693e-03, 1.31100660e-04, 1.14436475e-04, 1.67019022e-02,\n",
       "       2.72834482e-02, 5.57216727e-05, 1.34196682e-01, 2.01044255e-01,\n",
       "       3.53899490e-03, 2.06491602e-02, 1.36075577e-02, 6.25696960e-01,\n",
       "       2.50874476e-03, 1.20118485e-02, 1.23048998e-02, 1.61655192e-03,\n",
       "       2.01596504e-01, 6.03610161e-06, 1.47023917e-02, 2.12096972e-02,\n",
       "       7.34430365e-04, 1.44933109e-02, 3.01644923e-01, 5.45958246e-02,\n",
       "       1.24048301e-01, 6.02839319e-03, 3.51093405e-03, 1.25104007e-03,\n",
       "       4.26850699e-02, 1.09993231e-03, 1.22406640e-04, 5.08228183e-03,\n",
       "       7.30388594e-02, 1.66540186e-02, 4.60425547e-02, 6.77974342e-05,\n",
       "       2.50516154e-01, 1.88381654e-06, 2.01646251e-03, 4.85865935e-02,\n",
       "       5.33873831e-01, 1.47219315e-01, 1.69752201e-02, 7.63872555e-05,\n",
       "       1.01475680e-01, 7.39666173e-02, 1.90796303e-01, 1.69086806e-04,\n",
       "       3.69947070e-03, 5.17589642e-03, 2.11427219e-05, 1.24896350e-02,\n",
       "       4.67481227e-04, 3.67318356e-02, 2.67553286e-04, 1.12708159e-03,\n",
       "       3.30241425e-02, 2.34267544e-03, 9.60590444e-05, 3.83149070e-04,\n",
       "       4.08287794e-04, 2.81063970e-02, 1.70309030e-03, 2.75431778e-02,\n",
       "       1.09852198e-02, 1.18995325e-02, 6.23238878e-04, 1.57778543e-03,\n",
       "       8.39023345e-02, 1.46595330e-02, 4.11170016e-02, 1.45817152e-01,\n",
       "       3.10486875e-03, 1.40328594e-03, 1.26516667e-03, 1.11352057e-01,\n",
       "       3.12591444e-02, 3.10451452e-03, 1.45336859e-05, 2.70072010e-02,\n",
       "       1.02169016e-05, 1.02751369e-02, 3.75761685e-07, 2.17130827e-02,\n",
       "       1.91579807e-02, 2.05439225e-07, 1.04579527e-01, 1.11720634e-01,\n",
       "       1.20254517e-03, 1.76211669e-07, 1.44398759e-02, 4.77312194e-03,\n",
       "       6.39984240e-01, 2.83202923e-03, 1.60629536e-02, 6.42925950e-04,\n",
       "       1.09712975e-01, 1.20421289e-02, 2.87927468e-02, 2.52695942e-05,\n",
       "       7.94238076e-04, 3.56193719e-03, 5.21371022e-03, 1.70876846e-02,\n",
       "       5.58617993e-02, 2.91101580e-04, 7.54960092e-01, 8.46030981e-04,\n",
       "       6.46631508e-01, 2.22275017e-03, 1.41133570e-01, 1.61520496e-01,\n",
       "       2.84017041e-02, 1.28319986e-04, 4.26402012e-02, 3.09797561e-06,\n",
       "       6.51452653e-03, 3.18552057e-04, 2.85915763e-02, 3.03451304e-03,\n",
       "       1.29107191e-06, 2.51139234e-02, 1.33658872e-01, 1.49200731e-04,\n",
       "       5.50392773e-02, 2.80259262e-02, 5.19711444e-05, 1.93681968e-01,\n",
       "       3.35788181e-02, 1.37840428e-01, 9.11720926e-02, 4.30240165e-03,\n",
       "       6.29321693e-05, 2.26861815e-02, 3.73582440e-02, 4.27226732e-04,\n",
       "       2.10397090e-01, 1.48753987e-03, 4.97326549e-02, 3.81737040e-03,\n",
       "       1.70912628e-04, 2.37105836e-02, 1.80407695e-02, 9.76528861e-03,\n",
       "       3.28318057e-02, 1.20580751e-05, 4.54237568e-01, 1.56380995e-02,\n",
       "       5.47595049e-01, 1.10534371e-03, 1.50349522e-04, 2.11734767e-01,\n",
       "       1.21174249e-01, 3.44805518e-05, 6.28529482e-02, 7.41209706e-05,\n",
       "       9.83417248e-02, 9.24009516e-04, 3.15529861e-02, 8.72310891e-03,\n",
       "       1.21332541e-02, 1.36869593e-03, 5.29947014e-05, 1.88603413e-03,\n",
       "       2.34416219e-02, 1.00614280e-02, 6.53114072e-02, 2.23586618e-02,\n",
       "       6.53805125e-02, 7.15056491e-04, 1.78264620e-03, 1.08649697e-02,\n",
       "       2.81777289e-03, 4.08462274e-05, 1.87198083e-02, 1.60174990e-03,\n",
       "       2.30428156e-04, 2.31190636e-01, 1.11606004e-02, 2.24312787e-02,\n",
       "       2.97238378e-04, 2.59108195e-05, 5.09585638e-03, 1.16674826e-04,\n",
       "       1.81816684e-03, 6.54806873e-04, 2.14898557e-03, 4.57451577e-03,\n",
       "       1.78026449e-03, 8.56717519e-02, 6.99884799e-02, 1.27493418e-01,\n",
       "       1.31051463e-01, 5.37103353e-03, 1.67733602e-02, 2.78134879e-04,\n",
       "       9.28704051e-03, 3.05536553e-02, 1.44951104e-03, 6.87991706e-03,\n",
       "       4.33777945e-03, 1.65832361e-02, 6.30073981e-05, 3.36117746e-07,\n",
       "       5.12936070e-04, 2.69470313e-04, 4.70156436e-05, 8.28583272e-06,\n",
       "       4.75188656e-04, 6.60943293e-02, 4.76598090e-05, 2.00787088e-04,\n",
       "       1.25335196e-03, 4.93903467e-01, 3.71546977e-06, 1.01254455e-01])"
      ]
     },
     "execution_count": 16,
     "metadata": {},
     "output_type": "execute_result"
    }
   ],
   "source": [
    "p_values"
   ]
  },
  {
   "cell_type": "code",
   "execution_count": 17,
   "metadata": {},
   "outputs": [
    {
     "data": {
      "text/plain": [
       "(0.0, 1.0)"
      ]
     },
     "execution_count": 17,
     "metadata": {},
     "output_type": "execute_result"
    },
    {
     "data": {
      "image/png": "[encoded data removed]",
      "text/plain": [
       "<Figure size 432x288 with 1 Axes>"
      ]
     },
     "metadata": {
      "needs_background": "light"
     },
     "output_type": "display_data"
    }
   ],
   "source": [
    "fig, axes = plt.subplots(ncols=1, nrows=1)\n",
    "p_values_distr = sns.histplot(p_values,  # Теперь это массив длины experiments * N\n",
    "                              bins=np.linspace(0, 1, 100),\n",
    "                              kde=False,\n",
    "                              ax=axes,\n",
    "                              stat='probability')\n",
    "axes.set_xlim((0, 1))"
   ]
  },
  {
   "cell_type": "markdown",
   "metadata": {},
   "source": [
    "БОльшая часть p-values находится на гистограмме слева, это означает, что при справедливости альтернативной гипотезы (uplift $\\not =$ 0) бОльшая часть тестов отличие регистрирует. Если нарисовать кумулятивную функцию распределения, то каждая ее точка будет показывать \"какая доля тестов зарегистрировала отличие при условии того, что отличие есть\". Этот показатель мы называли чувствительностью :) FPR в экспериментах ограничен p-value, то есть кумулятивная функция распределения показывает нам график зависимость **Чувствительности** от **FPR**.\n",
    "\n",
    "Ниже приведена вспомогательная функция, рисующая график кумулятивной функции распределения наших p-value."
   ]
  },
  {
   "cell_type": "code",
   "execution_count": 19,
   "metadata": {},
   "outputs": [],
   "source": [
    "# Палитра цветов\n",
    "colors = sns.color_palette(\"deep\")\n",
    "\n",
    "\n",
    "def plot_cdf(data: np.ndarray, label: str, ax: Axes, color: str = colors[0], linewidth=3):\n",
    "    sorted_data = np.sort(data)\n",
    "    position = scipy.stats.rankdata(sorted_data, method='ordinal')\n",
    "    cdf = position / data.shape[0]\n",
    "\n",
    "    sorted_data = np.hstack((sorted_data, 1))\n",
    "    cdf = np.hstack((cdf, 1))\n",
    "\n",
    "    return ax.plot(sorted_data,\n",
    "                   cdf,\n",
    "                   color=color,\n",
    "                   linestyle='solid',\n",
    "                   label=label,\n",
    "                   linewidth=linewidth)"
   ]
  },
  {
   "cell_type": "code",
   "execution_count": 20,
   "metadata": {},
   "outputs": [
    {
     "data": {
      "image/png": "[encoded data removed]",
      "text/plain": [
       "<Figure size 300x300 with 1 Axes>"
      ]
     },
     "metadata": {
      "needs_background": "light"
     },
     "output_type": "display_data"
    }
   ],
   "source": [
    "fig, ax = plt.subplots(figsize=(3, 3), dpi = 100)\n",
    "gr = ax.grid(True)\n",
    "xlim = ax.set_xlim(-0.05,1.02)\n",
    "ylim = ax.set_ylim(-0.02,1.02)\n",
    "ax.axvline(0.05, color='k', alpha=0.5)\n",
    "cdf = plot_cdf(p_values,'t-test',ax)\n",
    "ax.set_xlabel(r'$\\alpha$')\n",
    "ax.set_ylabel('Sensitivity')\n",
    "legend = ax.legend()"
   ]
  },
  {
   "cell_type": "markdown",
   "metadata": {},
   "source": [
    "Выше мы говорили, что **FPR** в экспериментах ограничен сверху **p-value**. На самом деле, это утверждение тоже может нарушаться. Наиболее распространенный случай, когда это может быть неверно, - когда допущения статистического теста нарушаются (например, нарушение нормальности для t-критерия). Важно отметить, что нарушение предположений необходимо, но недостаточно, чтобы испортить статистический тест. Если **p-value** достаточно хорошо контролирует **FPR**, тест даст правильные результаты, несмотря на нарушение предположений. Таким образом, для каждого статистического теста мы должны иметь возможность проверить, контролирует ли **p-value** **FPR**.\n",
    "\n",
    "Сгенерируем для нашего А/B теста выборки с $uplift = 0$. В этом случае среднее число кликов должно быть идентичным, так как мы возьмем образцы тестовой и контрольной групп из одного и того же распределения, так что нулевая гипотеза будет верна. **p-value** будет правильно контролировать **FPR** тогда и только тогда, когда **p-value** имеет равномерное на [0, 1] распределение для A / A тестов. \n",
    "\n",
    "Давайте разберемся :) \n",
    "\n",
    "Рассмотрим пороговое **p-value** равное 0,05. Когда фактическое **p-value** меньше 0.05, мы отклоняем H0 и получаем ложноположительный результат (потому что для A/A-тестов $H_0$ верна). Утверждается, что в этом случае **FPR** равен нашему порогу по **p-value**, например для A/A-тестов **p-value** ниже порога 0,05 только в 5% случаев. Это как раз и есть требование однородности. \n",
    "\n",
    "После чего построим кумулятивную функцию распределения. Теперь нам точно известно, что группы одинаковые, то есть верна нулевая гипотеза. Тогда по оси Y будет отображаться доля неверно отклоненных нулевых гипотез, а это и есть **FPR**. В случае, если наш тест состоятелен, кумулятивная функция распределения будет выглядеть как диагональ единичного квадрата (то есть $FPR \\simeq \\text{p-value}$). "
   ]
  },
  {
   "cell_type": "code",
   "execution_count": 21,
   "metadata": {},
   "outputs": [],
   "source": [
    "uplift = 0\n",
    "views_B = np.absolute(np.exp(norm(mu, sigma2).rvs(\n",
    "    experiments * N)).astype(np.int64).reshape(experiments, N) + 1)\n",
    "alpha_B = success_rate * (1 + uplift) * beta / \\\n",
    "    (1 - success_rate * (1 + uplift))\n",
    "success_rate_B = scipy.stats.beta(alpha_B, beta).rvs(\n",
    "    experiments * N).reshape(experiments, N)\n",
    "clicks_B = scipy.stats.binom(n=views_B, p=success_rate_B).rvs()"
   ]
  },
  {
   "cell_type": "markdown",
   "metadata": {},
   "source": [
    "## p-values для А/А-теста"
   ]
  },
  {
   "cell_type": "code",
   "execution_count": 22,
   "metadata": {},
   "outputs": [],
   "source": [
    "p_values = t_test(clicks_A, clicks_B)"
   ]
  },
  {
   "cell_type": "code",
   "execution_count": 23,
   "metadata": {},
   "outputs": [
    {
     "data": {
      "text/plain": [
       "array([4.35085818e-01, 5.67196540e-01, 1.83295076e-01, 3.41486282e-01,\n",
       "       9.21569863e-02, 1.20048544e-01, 9.75462055e-01, 8.13995927e-01,\n",
       "       6.78638227e-01, 4.33428425e-01, 7.40854816e-01, 1.94980880e-02,\n",
       "       4.08829767e-02, 2.65406915e-01, 6.03694471e-01, 7.75383335e-01,\n",
       "       7.17626657e-02, 3.28006909e-01, 6.39763297e-01, 7.64048017e-01,\n",
       "       5.96241548e-01, 8.52631166e-01, 3.75896124e-01, 7.09732163e-01,\n",
       "       1.95733012e-01, 3.69690675e-01, 4.43282182e-01, 9.28465576e-01,\n",
       "       2.23091177e-01, 7.36920098e-01, 9.28337038e-01, 8.84995802e-01,\n",
       "       5.94951290e-01, 6.42369763e-01, 2.38072347e-01, 9.29178578e-01,\n",
       "       2.44593998e-01, 8.83575374e-01, 2.78270504e-01, 7.82411565e-01,\n",
       "       3.14273601e-01, 7.88818973e-01, 2.14370471e-02, 8.60345862e-01,\n",
       "       4.45830362e-01, 7.61955260e-01, 5.95606984e-01, 8.40434139e-02,\n",
       "       9.05886416e-01, 8.85114534e-01, 4.39304485e-01, 5.54531310e-01,\n",
       "       7.70192494e-01, 6.28332800e-01, 1.48640182e-01, 4.71035415e-01,\n",
       "       1.77608612e-01, 3.05959586e-01, 6.43282730e-01, 4.46852489e-02,\n",
       "       4.11624548e-01, 7.93085581e-01, 7.69929608e-01, 6.71545544e-01,\n",
       "       5.33861143e-01, 9.51139834e-01, 1.42178833e-01, 3.28168042e-01,\n",
       "       3.54891825e-01, 5.74657151e-01, 6.67509941e-01, 6.20244162e-01,\n",
       "       5.99822391e-01, 4.58364432e-01, 6.30603972e-01, 2.47767740e-01,\n",
       "       7.48574777e-01, 7.16054038e-01, 4.21795199e-03, 1.74670094e-01,\n",
       "       3.55792475e-01, 8.55823223e-01, 6.66623457e-01, 9.52163481e-01,\n",
       "       8.54907365e-01, 4.54939301e-01, 5.51062102e-01, 9.01942804e-01,\n",
       "       7.58970054e-01, 7.43742441e-01, 3.63164531e-02, 2.46264175e-01,\n",
       "       7.65635810e-01, 5.52279364e-01, 7.46447543e-01, 6.34489999e-01,\n",
       "       9.75727223e-01, 5.00701282e-01, 9.75559939e-01, 9.02367844e-01,\n",
       "       2.91581735e-01, 3.69732724e-01, 8.58006737e-01, 4.55424421e-02,\n",
       "       4.24511343e-01, 9.27921092e-01, 3.75241534e-02, 3.98303545e-01,\n",
       "       5.80155685e-01, 4.41217789e-01, 8.78861085e-01, 6.29569949e-01,\n",
       "       6.08610551e-01, 2.12804954e-01, 8.76322251e-01, 6.27195714e-02,\n",
       "       5.39494812e-01, 3.27113924e-01, 4.20999536e-01, 4.85422605e-01,\n",
       "       5.40254069e-01, 4.23298809e-01, 2.20946103e-01, 6.58775107e-02,\n",
       "       8.29876827e-01, 6.66265919e-01, 5.56024676e-01, 1.24611590e-01,\n",
       "       1.47573095e-01, 5.89589860e-01, 2.22136030e-01, 8.05881058e-01,\n",
       "       7.62616978e-01, 2.26687051e-02, 5.67820074e-01, 1.11742299e-01,\n",
       "       2.67834401e-01, 8.31190815e-01, 9.74604587e-01, 9.51043700e-01,\n",
       "       1.97829171e-01, 6.98432179e-01, 3.82692131e-01, 1.06180082e-01,\n",
       "       3.26215189e-01, 8.16619315e-01, 7.66283724e-01, 9.54065043e-01,\n",
       "       3.31981686e-03, 1.38529525e-01, 1.05980232e-01, 9.51470225e-01,\n",
       "       6.83672559e-01, 8.38024169e-01, 2.19469555e-01, 2.86243484e-01,\n",
       "       1.58786848e-01, 5.29642052e-01, 1.64921117e-01, 2.96720081e-01,\n",
       "       1.33499214e-01, 8.59116948e-01, 3.83905256e-02, 6.67148164e-01,\n",
       "       6.13215646e-01, 7.25291910e-01, 4.52817321e-01, 5.17419711e-01,\n",
       "       6.26522914e-01, 4.41710713e-01, 7.19658776e-01, 4.96978039e-01,\n",
       "       2.06571873e-01, 4.91334160e-01, 6.59504731e-01, 1.72722050e-01,\n",
       "       3.21263730e-01, 1.17456873e-01, 3.77388265e-01, 8.31344842e-01,\n",
       "       1.85294322e-01, 8.81144348e-01, 6.15276169e-01, 7.21045652e-01,\n",
       "       2.10761449e-01, 9.76333535e-01, 7.29472876e-01, 7.91631950e-01,\n",
       "       2.35265135e-01, 7.86477613e-01, 7.26598497e-01, 5.04366125e-01,\n",
       "       3.13549701e-01, 6.07558101e-01, 2.15819993e-01, 4.77673572e-02,\n",
       "       1.00000000e+00, 5.70535251e-01, 3.00116553e-01, 6.28012796e-01,\n",
       "       9.29535045e-01, 3.79872601e-01, 4.52704475e-01, 9.52553575e-01,\n",
       "       2.19456068e-02, 8.16554935e-02, 9.02004195e-02, 9.76383387e-01,\n",
       "       8.35029696e-01, 7.40764683e-01, 4.95410343e-01, 1.58941157e-01,\n",
       "       5.35632012e-01, 1.00000000e+00, 9.54491046e-01, 7.90963491e-01,\n",
       "       7.89871121e-01, 1.80233545e-01, 4.38740978e-01, 4.07927378e-01,\n",
       "       8.61497529e-01, 4.01906785e-01, 1.00000000e+00, 3.52250224e-01,\n",
       "       4.30832972e-01, 4.82259674e-01, 1.54799898e-01, 4.54045816e-01,\n",
       "       7.87678356e-01, 4.48379878e-01, 3.13810480e-02, 5.14959572e-03,\n",
       "       6.45960318e-01, 6.47460760e-01, 7.27224730e-02, 8.30693959e-01,\n",
       "       9.52317551e-01, 8.54085814e-01, 9.27147729e-01, 6.28658540e-01,\n",
       "       4.10301309e-01, 9.01534671e-01, 5.82802025e-01, 9.90512796e-02,\n",
       "       9.29425333e-01, 7.50523460e-02, 8.78590174e-01, 7.23957164e-02,\n",
       "       1.39954127e-01, 5.77302968e-01, 1.04784084e-01, 8.82079717e-01,\n",
       "       1.32404322e-01, 1.52329097e-01, 8.32740405e-01, 9.05342654e-01,\n",
       "       4.94805513e-02, 2.00470743e-01, 6.29611982e-01, 9.64393238e-04,\n",
       "       3.38890079e-01, 9.76113468e-01, 3.21316719e-01, 8.60394526e-01,\n",
       "       7.69154211e-01, 2.59075845e-01, 3.38248489e-01, 1.75894946e-01,\n",
       "       6.50214563e-01, 1.50055937e-01, 9.04215559e-01, 3.75254791e-01,\n",
       "       7.26737329e-01, 4.49461044e-01, 7.33982928e-01, 8.11750678e-01,\n",
       "       6.53518851e-01, 1.09042697e-01, 1.65866862e-01, 8.29919561e-01,\n",
       "       7.06715027e-01, 7.48209891e-01, 7.21515767e-01, 4.34297976e-01,\n",
       "       4.10611594e-01, 8.60912567e-01, 1.57036261e-01, 4.50537801e-01,\n",
       "       8.55597515e-01, 6.07180020e-01, 5.56837725e-02, 1.91439490e-01,\n",
       "       9.76321054e-01, 4.78732677e-01, 7.37573901e-01, 7.16429256e-01,\n",
       "       5.28297146e-01, 4.54891229e-01, 3.42535707e-01, 3.05132708e-01,\n",
       "       3.12945803e-01, 9.75861588e-01, 3.10519148e-01, 5.00626060e-01,\n",
       "       5.14986016e-01, 4.02760929e-01, 4.09852234e-01, 8.35118071e-01,\n",
       "       8.22990630e-02, 8.06025511e-01, 1.34587461e-01, 3.72434388e-01,\n",
       "       8.36846510e-01, 1.25791699e-01, 2.13804475e-01, 6.90952716e-02,\n",
       "       5.37273585e-01, 4.22269136e-01, 6.10941203e-01, 2.89153729e-01,\n",
       "       4.50452946e-01, 9.77332698e-01, 7.89871121e-01, 8.79922958e-01,\n",
       "       9.75517939e-01, 2.97618745e-02, 6.50156295e-01, 8.58206225e-01,\n",
       "       9.53013999e-01, 8.80462899e-01, 4.96225565e-01, 2.90173855e-01,\n",
       "       8.12596130e-01, 5.01073725e-01, 8.81227917e-01, 7.86100153e-01,\n",
       "       3.12747835e-01, 1.63704776e-01, 6.16750180e-01, 2.01569112e-01,\n",
       "       4.52409275e-01, 6.93203744e-01, 4.65719054e-01, 2.84242736e-01,\n",
       "       5.46897050e-01, 4.47306270e-01, 6.23353336e-01, 3.78028917e-01,\n",
       "       5.07599749e-01, 7.34918260e-01, 8.61795609e-01, 3.78052760e-01,\n",
       "       6.35210540e-01, 5.60527889e-01, 3.85624373e-01, 4.90083081e-01,\n",
       "       6.84544824e-01, 3.95616252e-01, 3.47525888e-01, 6.20059083e-02,\n",
       "       8.72660858e-02, 5.92631844e-01, 7.42774859e-01, 6.79997234e-02,\n",
       "       2.09726568e-01, 1.08471235e-01, 1.96772596e-01, 2.80635764e-01,\n",
       "       6.71198549e-02, 3.07095954e-01, 2.13298924e-01, 6.11558140e-02,\n",
       "       9.06790316e-01, 1.97320155e-01, 3.73079764e-01, 1.63864134e-01,\n",
       "       5.20963194e-01, 7.67765364e-01, 4.04590694e-01, 6.57730816e-01,\n",
       "       7.67156538e-01, 8.55958668e-01, 9.50291728e-01, 2.00749249e-01,\n",
       "       7.87973265e-01, 2.09488253e-01, 2.39094596e-01, 3.04885654e-01,\n",
       "       2.06128654e-01, 1.97018019e-01, 6.64502440e-02, 5.74065323e-01,\n",
       "       3.05154749e-01, 9.52365828e-01, 2.64031156e-01, 7.63094554e-01,\n",
       "       4.40984007e-01, 8.10360554e-01, 1.99516473e-01, 6.95066042e-01,\n",
       "       7.24063648e-02, 7.09281273e-01, 2.54090512e-01, 8.10278905e-01,\n",
       "       9.52145610e-01, 3.48943870e-01, 1.56699459e-02, 8.37702465e-01,\n",
       "       7.28007270e-01, 2.71524271e-02, 8.35744788e-01, 1.87913348e-01,\n",
       "       3.82115023e-01, 8.83359798e-01, 2.99869868e-01, 4.90570846e-01,\n",
       "       4.26748082e-01, 2.25904169e-01, 8.99938699e-01, 4.17333188e-01,\n",
       "       9.05674046e-01, 7.86214397e-01, 1.18805585e-01, 6.04703364e-01,\n",
       "       7.72426044e-01, 3.02691063e-01, 1.04709096e-01, 7.27070515e-02,\n",
       "       1.71779632e-02, 6.34727984e-01, 5.49357721e-02, 7.99060131e-02,\n",
       "       8.05693543e-02, 1.45119241e-01, 9.76360921e-01, 3.12664150e-01,\n",
       "       8.28558628e-01, 7.65925192e-01, 8.28358843e-01, 4.03097375e-02,\n",
       "       3.34546969e-01, 1.00000000e+00, 1.00000000e+00, 9.75347794e-01,\n",
       "       7.34899400e-01, 1.59421427e-01, 9.76623705e-01, 6.98526914e-01,\n",
       "       1.00000000e+00, 6.02588995e-02, 7.35102775e-01, 5.13500603e-01,\n",
       "       1.55016740e-01, 2.27002971e-01, 1.03015215e-01, 1.98714595e-01,\n",
       "       1.32168852e-01, 7.34200897e-01, 3.13050519e-01, 7.83918387e-01,\n",
       "       5.68245448e-01, 5.87343627e-02, 1.54940267e-01, 5.68040887e-01,\n",
       "       8.37921661e-01, 3.17007318e-01, 2.98798191e-01, 1.00000000e+00,\n",
       "       6.77903801e-01, 8.03164053e-01, 6.53804506e-01, 1.90981954e-01,\n",
       "       5.89120586e-01, 5.75850297e-01, 5.89121592e-01, 5.34146712e-01,\n",
       "       2.40585250e-01, 1.86805313e-01, 1.23010415e-01, 1.69008176e-01,\n",
       "       5.72582044e-01, 9.27279538e-01, 6.21378039e-02, 6.47249797e-02,\n",
       "       8.07763509e-01, 8.19393393e-02, 7.28718376e-01, 7.85487590e-01,\n",
       "       3.90525061e-01, 6.39583954e-01, 5.85028254e-01, 3.29669731e-01,\n",
       "       6.33714246e-01, 6.43991804e-01, 6.53977988e-01, 1.88325672e-01,\n",
       "       2.45394158e-01, 1.69510071e-01, 8.59723192e-01, 1.77067692e-01,\n",
       "       8.55489110e-01, 7.08303887e-01, 8.08867299e-01, 1.80483316e-01,\n",
       "       8.33279990e-01, 5.61234753e-01, 7.22688068e-01, 7.60800106e-01,\n",
       "       4.96766374e-01, 7.90901958e-01, 6.55012408e-01, 9.04974191e-01,\n",
       "       9.76836363e-01, 6.93686636e-01, 1.55117428e-02, 6.81328722e-01,\n",
       "       4.68516340e-01, 2.94257481e-01, 2.36981660e-01, 6.02996408e-01,\n",
       "       8.10749807e-03, 7.93356438e-01, 4.72383387e-01, 1.00000000e+00,\n",
       "       3.73967302e-01, 7.73506433e-01, 2.69462228e-01, 3.40745705e-01,\n",
       "       6.17102517e-01, 2.18329542e-01, 5.81814187e-01, 9.00264377e-02,\n",
       "       7.25065552e-01, 2.29423237e-01, 9.11511899e-01, 7.08838504e-01,\n",
       "       4.36415401e-02, 5.13605795e-01, 7.85575520e-01, 9.77971563e-01,\n",
       "       4.25265609e-01, 9.26420410e-01, 2.80655156e-01, 7.44508992e-01,\n",
       "       3.28430504e-01, 6.60772351e-02, 3.96435310e-01, 5.13961874e-01,\n",
       "       4.70091614e-01, 8.58873344e-01, 6.41967632e-01, 2.60162231e-01,\n",
       "       3.00810827e-01, 3.14833869e-01, 2.13099362e-02, 9.30841566e-01,\n",
       "       4.95548161e-01, 1.07620778e-01, 2.64997045e-01, 3.36076492e-01,\n",
       "       4.23105616e-02, 9.34333198e-01, 7.18152876e-01, 9.94247889e-03,\n",
       "       9.75781265e-01, 9.53941132e-01, 8.10478302e-01, 2.16173003e-01,\n",
       "       6.33767409e-01, 2.37007028e-01, 5.30501040e-01, 5.78865377e-01,\n",
       "       9.52323614e-01, 8.29323434e-01, 5.93601362e-01, 4.60115229e-01,\n",
       "       7.35381714e-01, 7.88159358e-01, 8.80009476e-01, 1.16628648e-01,\n",
       "       5.10897339e-01, 4.78594939e-01, 1.91770974e-01, 3.89025623e-01,\n",
       "       5.98329856e-01, 1.72098657e-01, 8.82614268e-01, 1.00000000e+00,\n",
       "       7.63093092e-01, 1.00000000e+00, 4.88605665e-01, 1.77480946e-01,\n",
       "       5.22913375e-01, 4.70609169e-01, 7.29162102e-02, 3.21180041e-01,\n",
       "       6.61093064e-01, 2.11066985e-01, 6.97615710e-01, 8.59434265e-01,\n",
       "       6.50102658e-01, 8.52355576e-02, 1.68587905e-01, 1.59248688e-01,\n",
       "       3.98087920e-01, 9.04515883e-01, 2.26735832e-01, 2.60143234e-01,\n",
       "       7.21794585e-01, 4.74438935e-01, 8.01599168e-01, 2.35509003e-01,\n",
       "       5.55582203e-02, 7.60458124e-01, 3.11358525e-01, 7.94200485e-01,\n",
       "       6.57397226e-01, 2.67483894e-01, 5.10243743e-01, 5.55937074e-01,\n",
       "       2.81122463e-01, 8.14943559e-01, 4.36650352e-02, 7.95428527e-01,\n",
       "       2.57557207e-01, 7.68964801e-01, 8.57857469e-01, 9.30538826e-01,\n",
       "       1.00000000e+00, 4.28452688e-01, 3.39151571e-01, 7.90436435e-01,\n",
       "       2.03174516e-01, 7.03645920e-01, 5.02572778e-01, 4.83987270e-01,\n",
       "       7.41211709e-01, 2.80914294e-01, 5.79261856e-01, 5.54766503e-01,\n",
       "       9.01556563e-01, 6.93716428e-01, 8.55860799e-01, 9.51858179e-01,\n",
       "       7.79961374e-01, 3.75441348e-01, 6.02838186e-02, 1.64532357e-01,\n",
       "       7.56775494e-01, 2.68479586e-01, 3.37827544e-01, 8.19321937e-01,\n",
       "       8.55850714e-02, 5.92430300e-01, 3.24064014e-01, 3.22415700e-01,\n",
       "       2.96093480e-01, 3.98068313e-01, 9.56897493e-02, 5.31761450e-01,\n",
       "       8.85333357e-01, 8.54744353e-01, 3.21752885e-01, 3.02915199e-02,\n",
       "       1.32043543e-01, 3.82820486e-02, 3.56262754e-01, 8.81267069e-01,\n",
       "       4.24256216e-01, 1.09200153e-01, 8.03044585e-01, 4.87469619e-01,\n",
       "       1.72591732e-01, 3.43047145e-01, 9.25491968e-01, 5.16172205e-01,\n",
       "       1.75343008e-01, 4.14238829e-03, 1.83458383e-01, 1.64907516e-01,\n",
       "       3.58945837e-02, 7.87635500e-01, 3.95280512e-01, 4.46321903e-02,\n",
       "       7.54737090e-01, 1.32024103e-01, 6.01544984e-01, 8.12564165e-01,\n",
       "       7.81299315e-01, 7.15436258e-01, 2.26992357e-01, 1.01888274e-01,\n",
       "       7.28085624e-01, 7.33029211e-01, 9.52428639e-03, 1.63953908e-01,\n",
       "       1.46001808e-01, 2.76022815e-01, 7.69120697e-01, 4.28197634e-01,\n",
       "       7.19276699e-01, 4.88429135e-02, 9.53039330e-01, 3.12093558e-01,\n",
       "       8.47254280e-01, 4.52630058e-01, 8.09651458e-01, 6.40449525e-01,\n",
       "       3.81428770e-01, 5.04990640e-01, 4.94862165e-01, 5.95217413e-01,\n",
       "       1.93993848e-01, 8.09923914e-01, 4.92268948e-01, 8.13335366e-02,\n",
       "       6.38197730e-02, 1.79590428e-01, 8.32582050e-01, 6.19643090e-01,\n",
       "       1.71903649e-01, 9.62212887e-02, 1.84407884e-02, 7.95754106e-02,\n",
       "       4.56817932e-01, 7.10892938e-01, 4.62049877e-01, 1.15166875e-01,\n",
       "       8.08455200e-01, 5.76510546e-02, 2.01111531e-01, 4.00122908e-01,\n",
       "       6.91302769e-02, 2.42326602e-01, 7.91119491e-01, 4.87177190e-01,\n",
       "       1.77199724e-01, 7.42399552e-01, 1.10191802e-01, 4.28884911e-01,\n",
       "       3.32884939e-01, 5.97117449e-01, 5.14852822e-01, 7.74330999e-01,\n",
       "       2.60323403e-01, 5.74519950e-01, 2.23275112e-01, 2.85747198e-01,\n",
       "       3.23716956e-01, 2.47934852e-01, 2.65103772e-01, 2.14683696e-01,\n",
       "       8.33985473e-01, 7.01930265e-01, 7.52514096e-01, 3.47194264e-01,\n",
       "       2.49508171e-01, 3.10746608e-01, 4.52731622e-01, 3.69219469e-01,\n",
       "       1.00000000e+00, 5.28639753e-01, 8.58667201e-02, 8.48154719e-03,\n",
       "       8.07308607e-01, 4.12533620e-01, 7.44482144e-01, 5.22720197e-02,\n",
       "       5.23400301e-01, 6.50997164e-01, 9.06519785e-01, 7.86593515e-01,\n",
       "       8.12886620e-01, 4.55820303e-01, 7.47058507e-01, 4.75902691e-01,\n",
       "       5.08478175e-01, 5.91910474e-01, 8.80377101e-01, 9.01739392e-01,\n",
       "       2.00843067e-01, 8.79264074e-01, 3.75700832e-01, 1.63309636e-01,\n",
       "       5.06624486e-01, 3.89243254e-01, 5.48012832e-01, 6.20778384e-01,\n",
       "       3.63395477e-01, 4.75647605e-01, 9.52886061e-01, 2.34764158e-01,\n",
       "       3.73972758e-01, 5.03775886e-02, 2.85733460e-01, 4.18339621e-01,\n",
       "       9.00335838e-02, 6.00554348e-01, 3.33526380e-01, 9.76428704e-01,\n",
       "       3.78467268e-02, 9.25586786e-01, 2.67567954e-01, 3.08750263e-01,\n",
       "       8.79955457e-01, 1.00000000e+00, 3.42110554e-01, 5.32784513e-01,\n",
       "       1.10577756e-01, 9.06643250e-01, 7.66085547e-01, 3.64584646e-01,\n",
       "       4.64826318e-01, 7.38931437e-01, 4.06328231e-01, 1.00000000e+00,\n",
       "       3.34370623e-01, 1.04267174e-01, 7.89871121e-01, 4.54699308e-01,\n",
       "       1.58344371e-01, 5.19807450e-02, 3.10340328e-01, 8.59987879e-01,\n",
       "       2.67268812e-01, 3.01985617e-01, 6.64804920e-01, 3.05520588e-01,\n",
       "       9.97622856e-02, 2.55117268e-01, 1.00000000e+00, 4.47217440e-01,\n",
       "       3.53367973e-01, 1.73053950e-01, 9.74876391e-01, 1.30534178e-01,\n",
       "       1.20719870e-01, 3.33615761e-01, 3.23798506e-01, 2.02362977e-01,\n",
       "       3.85969143e-01, 9.24670976e-02, 6.63498807e-01, 1.23164806e-01,\n",
       "       6.89969415e-02, 9.01390058e-01, 2.49950653e-01, 5.58440046e-01,\n",
       "       1.73464575e-01, 8.28993173e-02, 5.26803936e-01, 7.88378274e-01,\n",
       "       9.53962372e-01, 9.06965644e-01, 4.53030962e-01, 3.03308239e-01,\n",
       "       9.75878074e-01, 1.26615079e-01, 4.02415771e-01, 1.00000000e+00,\n",
       "       6.25477650e-01, 1.68722946e-01, 9.76113468e-01, 8.07095291e-01,\n",
       "       5.52053730e-01, 5.60982018e-01, 5.34652570e-01, 4.01992503e-01,\n",
       "       4.53886539e-01, 2.82224962e-01, 2.07085373e-01, 6.87469401e-01,\n",
       "       5.02050667e-01, 9.27349393e-01, 7.35008827e-01, 4.02157004e-01,\n",
       "       6.77402957e-01, 5.63823064e-01, 7.86470060e-01, 5.86261423e-01,\n",
       "       8.41358577e-01, 7.89762786e-01, 8.08190442e-02, 1.63057870e-01,\n",
       "       5.07858196e-01, 9.51885792e-01, 5.57574606e-01, 6.54786551e-01,\n",
       "       4.61975442e-01, 7.89365180e-01, 2.14651274e-01, 3.79362367e-01,\n",
       "       2.10456114e-01, 5.53104859e-01, 6.19025963e-01, 4.26857102e-01,\n",
       "       1.92144069e-01, 7.84178075e-01, 6.58457569e-01, 8.03571889e-01,\n",
       "       1.61753092e-01, 2.03491967e-01, 3.37516477e-02, 6.76883349e-01,\n",
       "       1.21112798e-01, 3.27847394e-01, 7.73939173e-01, 8.29889707e-01,\n",
       "       3.32463203e-01, 8.10393626e-01, 3.74532928e-01, 1.48097814e-01,\n",
       "       2.01435416e-01, 9.76513083e-01, 3.07098137e-01, 8.76703882e-01,\n",
       "       8.31276075e-01, 5.67751719e-01, 2.57325155e-01, 7.58436064e-01,\n",
       "       4.04673712e-01, 7.75952469e-02, 1.00000000e+00, 3.40833358e-01,\n",
       "       1.46755155e-02, 1.71441886e-01, 5.34142455e-01, 4.93102522e-01,\n",
       "       9.28040196e-01, 2.09760192e-01, 9.90665853e-02, 4.82588727e-01,\n",
       "       7.08447120e-01, 6.79497564e-01, 3.19238358e-01, 3.99097445e-01,\n",
       "       6.57340672e-01, 6.60874047e-01, 8.82977919e-01, 6.88502265e-01,\n",
       "       3.36430142e-01, 4.84594222e-01, 8.14055958e-01, 6.73019242e-01,\n",
       "       3.67757353e-01, 8.63068603e-01, 5.06318016e-01, 9.52869884e-01,\n",
       "       6.10551743e-01, 9.05657642e-01, 7.39944216e-01, 8.34919490e-01,\n",
       "       7.04828799e-01, 6.25161396e-01, 3.56502760e-01, 7.40174473e-01,\n",
       "       9.53203017e-01, 1.55123121e-01, 6.44906476e-01, 6.83565371e-02,\n",
       "       1.19536734e-01, 9.05589294e-01, 9.02956420e-01, 5.28456130e-01,\n",
       "       2.47095807e-01, 1.85189631e-01, 3.14825408e-01, 7.95691492e-01,\n",
       "       3.51231446e-01, 3.38130413e-01, 6.53690444e-01, 4.35901874e-01,\n",
       "       2.78772821e-01, 6.93139450e-01, 3.55527453e-01, 1.54581639e-01,\n",
       "       6.24647402e-01, 7.90587205e-01, 6.47547130e-01, 9.75660213e-01,\n",
       "       7.60930876e-01, 9.76346046e-01, 2.15834956e-02, 3.53200638e-01,\n",
       "       8.56895113e-01, 8.81826970e-01, 8.07120062e-01, 8.53414692e-01,\n",
       "       5.49143173e-01, 3.20317190e-01, 7.80327206e-02, 1.55432923e-01,\n",
       "       4.35443462e-02, 7.00236858e-01, 9.51880016e-01, 3.40319377e-01,\n",
       "       9.29355147e-01, 7.02708915e-02, 2.26220087e-01, 9.53740870e-01])"
      ]
     },
     "execution_count": 23,
     "metadata": {},
     "output_type": "execute_result"
    }
   ],
   "source": [
    "p_values"
   ]
  },
  {
   "cell_type": "code",
   "execution_count": 24,
   "metadata": {},
   "outputs": [
    {
     "data": {
      "text/plain": [
       "(0.0, 1.0)"
      ]
     },
     "execution_count": 24,
     "metadata": {},
     "output_type": "execute_result"
    },
    {
     "data": {
      "image/png": "[encoded data removed]",
      "text/plain": [
       "<Figure size 432x288 with 1 Axes>"
      ]
     },
     "metadata": {
      "needs_background": "light"
     },
     "output_type": "display_data"
    }
   ],
   "source": [
    "fig, axes = plt.subplots(ncols=1, nrows=1)\n",
    "p_values_distr = sns.histplot(p_values, # Теперь это массив длины experiments * N \n",
    "                 bins=np.linspace(0, 1, 20),\n",
    "                 kde=False,\n",
    "                 ax = axes,\n",
    "                 stat='probability')\n",
    "axes.set_xlim((0, 1))"
   ]
  },
  {
   "cell_type": "code",
   "execution_count": 25,
   "metadata": {},
   "outputs": [
    {
     "data": {
      "image/png": "[encoded data removed]",
      "text/plain": [
       "<Figure size 300x300 with 1 Axes>"
      ]
     },
     "metadata": {
      "needs_background": "light"
     },
     "output_type": "display_data"
    }
   ],
   "source": [
    "fig, ax = plt.subplots(figsize=(3, 3), dpi = 100)\n",
    "gr = ax.grid(True)\n",
    "xlim = ax.set_xlim(-0.05,1.02)\n",
    "ylim = ax.set_ylim(-0.02,1.02)\n",
    "ax.axvline(0.05, color='k', alpha=0.5)\n",
    "ax.set_xlabel(r'$\\alpha$')\n",
    "ax.set_ylabel('Sensitivity')\n",
    "cdf = plot_cdf(p_values,'t-test',ax)\n",
    "legend = ax.legend()"
   ]
  },
  {
   "cell_type": "markdown",
   "metadata": {},
   "source": [
    "Завернем весь процесс генерации данных для А/А эксперимента и A/B эксперимента при заданных значениях параметров в одну функцию, которая будет выдавать три набора выборок: sample_a_1, sample_a_2 и sample_b."
   ]
  },
  {
   "cell_type": "code",
   "execution_count": 39,
   "metadata": {},
   "outputs": [],
   "source": [
    "def generation(N=5000,  # Кол-во человек в выборке\n",
    "               experiments=2000,  # Кол-во синтетических экспериментов А/А и А/В\n",
    "               # Один из параметров распределения просмотров (можете самостоятельно его пошатать)\n",
    "               mu=1,\n",
    "               # Скошенность распределения просмотров (можете самостоятельно его пошатать)\n",
    "               sigma2=0.5,\n",
    "               success_rate=0.02,  # Истинный CTR в контрольной группе\n",
    "               uplift=0.2,  # Аплифт теста над контролем. По умолчанию 20%\n",
    "               beta=1000  # Параметр для контроля дисперсии распределения истинного CTR\n",
    "               ):\n",
    "\n",
    "    # На просмотры мы не влияем, поэтому тут сэмплирование одинаковое\n",
    "    # Но что будет, если мы влияем на просмотры?\n",
    "    views_a_1 = np.exp(norm(mu, sigma2).rvs(experiments * N)\n",
    "                       ).astype(np.int64).reshape(experiments, N) + 1\n",
    "    views_a_2 = np.exp(norm(mu, sigma2).rvs(experiments * N)\n",
    "                       ).astype(np.int64).reshape(experiments, N) + 1\n",
    "    views_b = np.exp(norm(mu, sigma2).rvs(experiments * N)\n",
    "                     ).astype(np.int64).reshape(experiments, N) + 1\n",
    "\n",
    "    # Правит проблемы для случаев слишком большой скошенности\n",
    "    views_a_1 = np.absolute(views_a_1)\n",
    "    views_a_2 = np.absolute(views_a_2)\n",
    "    views_b = np.absolute(views_b)\n",
    "\n",
    "    # Истинный CTR для групп А/А\n",
    "    alpha_a = success_rate * beta / (1 - success_rate)\n",
    "    success_rate_a_1 = scipy.stats.beta(alpha_a, beta).rvs(\n",
    "        experiments * N).reshape(experiments, N)\n",
    "    success_rate_a_2 = scipy.stats.beta(alpha_a, beta).rvs(\n",
    "        experiments * N).reshape(experiments, N)\n",
    "\n",
    "    # Истинный CTR для группы В\n",
    "    alpha_b = success_rate * (1 + uplift) * beta / \\\n",
    "        (1 - success_rate * (1 + uplift))\n",
    "    success_rate_b = scipy.stats.beta(alpha_b, beta).rvs(\n",
    "        experiments * N).reshape(experiments, N)\n",
    "\n",
    "    # Распределение кликов в группах\n",
    "    clicks_a_1 = scipy.stats.binom(n=views_a_1, p=success_rate_a_1).rvs()\n",
    "    clicks_a_2 = scipy.stats.binom(n=views_a_2, p=success_rate_a_2).rvs()\n",
    "    clicks_b = scipy.stats.binom(n=views_b, p=success_rate_b).rvs()\n",
    "\n",
    "    return views_a_1, views_a_2, views_b,\\\n",
    "        success_rate_a_1, success_rate_a_2, success_rate_b,\\\n",
    "        clicks_a_1, clicks_a_2, clicks_b"
   ]
  },
  {
   "cell_type": "code",
   "execution_count": 40,
   "metadata": {},
   "outputs": [],
   "source": [
    "views_a_1, views_a_2, views_b,\\\n",
    "success_rate_a_1, success_rate_a_2, success_rate_b,\\\n",
    "clicks_a_1, clicks_a_2, clicks_b = generation()"
   ]
  },
  {
   "cell_type": "markdown",
   "metadata": {},
   "source": [
    "Остается нарисовать кумулятивную функцию распределения и на ней затем отметить чувствительность при заданном $\\alpha$"
   ]
  },
  {
   "cell_type": "code",
   "execution_count": 41,
   "metadata": {},
   "outputs": [
    {
     "data": {
      "image/png": "[encoded data removed]",
      "text/plain": [
       "<Figure size 300x300 with 1 Axes>"
      ]
     },
     "metadata": {
      "needs_background": "light"
     },
     "output_type": "display_data"
    }
   ],
   "source": [
    "p_values = t_test(clicks_a_1, clicks_b)\n",
    "fig, ax = plt.subplots(figsize=(3, 3), dpi = 100)\n",
    "gr = ax.grid(True)\n",
    "xlim = ax.set_xlim(-0.05,1.02)\n",
    "ylim = ax.set_ylim(-0.02,1.02)\n",
    "ax.axvline(0.05, color='k', alpha=0.5)\n",
    "ax.set_xlabel(r'$\\alpha$')\n",
    "ax.set_ylabel('Sensitivity')\n",
    "cdf = plot_cdf(p_values,'t-test',ax)\n",
    "legend = ax.legend()"
   ]
  },
  {
   "cell_type": "markdown",
   "metadata": {},
   "source": [
    "Отлично. Теперь давайте в виде одной функции научимся рисовать несколько графиков:\n",
    "\n",
    "    1) Кумулятивную функцию распределения для А/В тестов (по ней будем смотреть чувствительность)\n",
    "    2) Кумулятивную функцию распределения для А/А тестов (по ней будем смотреть, что FPR <= p-value\n",
    "    3) График просмотров \n",
    "    4) График истинного CTR пользователя \n",
    "    5) Столбиком будем рисовать мощность критерия - чувствительность на уровне 0.05\n",
    "\n",
    "Такие графики нужно научиться строить для различных тестов и тогда мы сможем понять, в чем плюсы и минусы каждого из подходов.\n",
    "\n",
    "Функция написана таким образом, что в нее можно подать набор названий тестов и набор названий функций, считающих эти тесты, а на графики выведутся соответствующие результаты."
   ]
  },
  {
   "cell_type": "code",
   "execution_count": 42,
   "metadata": {},
   "outputs": [],
   "source": [
    "colors = sns.color_palette(\"deep\")\n",
    "\n",
    "titles = ['t-test on clicks']\n",
    "p_values_ab = [t_test(clicks_a_1, clicks_b)]\n",
    "p_values_aa = [t_test(clicks_a_1, clicks_a_2)]\n",
    "views = views_b\n",
    "ground_truth_ctr = success_rate_a_1 \n",
    "color = colors[0]\n",
    "\n",
    "test_data = {}\n",
    "for i,j in enumerate(titles):\n",
    "    test_data[j] = (p_values_ab[i],p_values_aa[i],colors[i])\n",
    "\n",
    "def plot_summary(data, #Сюда мы будем укладывать сгенерированные данные \n",
    "                 ground_truth_ctr,\n",
    "                 views\n",
    "                ):\n",
    "    cdf_h1_title = 'p-value при справедливости H1 (Sensitivity)'\n",
    "    cdf_h0_title = 'p-value при справедливости H0 (FPR)'\n",
    "    \n",
    "    # Делаем табличку 4*3 из графиков\n",
    "    fig = plt.figure(constrained_layout=False, figsize=(3 * 3.5, 3.5 * 3), dpi = 100)\n",
    "    gs = fig.add_gridspec(4, 3)\n",
    "    \n",
    "    # Распределяем графики по сетке\n",
    "    ax_h1 = fig.add_subplot(gs[:2, :2]) # Чувствительность на А/В\n",
    "    ax_h0 = fig.add_subplot(gs[0, 2]) # Контроль FPR на A/A\n",
    "    ax_views = fig.add_subplot(gs[1, 2]) # Просмотры в контроле\n",
    "    ax_clicks = fig.add_subplot(gs[2, 2]) # клики в контроле\n",
    "    ax_powers = fig.add_subplot(gs[2, :2]) # Мощности сравниваемых критериев (чувствительность на 0.05)\n",
    "    ax_fpr = fig.add_subplot(gs[3, :2]) # Контроль FPR при на уровне 0.05\n",
    "    \n",
    "    # Подгонка отображения \n",
    "    fig.subplots_adjust(left=0.2, wspace=0.3, hspace=0.4)\n",
    "    \n",
    "    # Нарисуем диагонали на гарфиках с p-value, чтобы удобнее было сравнивать\n",
    "    ax_h1.plot(np.linspace(0, 1, 10000), np.linspace(0, 1, 10000), 'k', alpha=0.1)\n",
    "    ax_h0.plot(np.linspace(0, 1, 10000), np.linspace(0, 1, 10000), 'k', alpha=0.1)\n",
    "\n",
    "    \n",
    "    ax_h1.set_title(cdf_h1_title)\n",
    "    ax_h0.set_title(cdf_h0_title)\n",
    "\n",
    "    # ax_h1.set_ylabel('Sensitivity')\n",
    "    # ax_h0.set_ylabel('FPR')\n",
    "\n",
    "    ax_h1.axvline(0.05, color='k', alpha=0.5)\n",
    "    # ax_h1.set_xticks(list(ax_h1.get_xticks()) + [0.05])\n",
    "    \n",
    "    # Рисуем графики p-value для А/А и А/B для всех тестов\n",
    "    for title, (ab_pvals, aa_pvals, color) in data.items():\n",
    "        plot_cdf(ab_pvals, title, ax_h1, color, linewidth=3)\n",
    "        plot_cdf(aa_pvals, title, ax_h0, color, linewidth=1.5)\n",
    "    \n",
    "    ax_h1.grid(True)\n",
    "    ax_h0.grid(True)\n",
    "    \n",
    "    ax_powers.set_title('Test Power')\n",
    "    ax_fpr.set_title(r'False Positive rate для $\\alpha = 0.05$')\n",
    "    tests_powers = []\n",
    "    tests_fprs = []\n",
    "    tests_labels = []\n",
    "    tests_colours = []\n",
    "    \n",
    "    for title, (ab_pvals,aa_pvals, color) in data.items():\n",
    "        tests_labels.append(title)\n",
    "        tests_colours.append(color)\n",
    "        tests_powers.append(np.mean(ab_pvals < 0.05))\n",
    "        tests_fprs.append(np.mean(aa_pvals < 0.05))\n",
    "    ax_powers.barh(np.array(tests_labels), np.array(tests_powers), color=np.array(tests_colours))        \n",
    "    ax_fpr.barh(np.array(tests_labels), np.array(tests_fprs), color=np.array(tests_colours))\n",
    "\n",
    "    sns.histplot(views.ravel(),\n",
    "                 bins=range(0, 20),\n",
    "                 ax=ax_views,\n",
    "                 kde=False,\n",
    "                 stat='probability').set(ylabel=None)\n",
    "    ax_views.set_xlim((0, 20))\n",
    "    views_99_percentile = np.percentile(views[:100].ravel(), 99)\n",
    "    ax_views.set_title(f'Views, 99%-ile = {views_99_percentile:<7.1f}')\n",
    "\n",
    "    sns.histplot(ground_truth_ctr[:10].ravel(),\n",
    "                 bins=np.linspace(0, 0.2, 100),\n",
    "                 ax=ax_clicks,\n",
    "                 kde=False,\n",
    "                 stat='probability').set(ylabel=None)\n",
    "    ax_clicks.set_xlim((0, 0.1))\n",
    "    success_rate_std = ground_truth_ctr[:100].flatten().std()\n",
    "    ax_clicks.set_title(f'Истинный CTR, std = {success_rate_std:2.3f}')\n",
    "    plt.close() # Это чтобы функция не выплевывала картинку по умолчанию\n",
    "    return fig"
   ]
  },
  {
   "cell_type": "markdown",
   "metadata": {},
   "source": [
    "В ячейке выше использованы всякие функции для рисования :) Поэтому вот глоссарий:\n",
    "\n",
    "**plt.figure** - создание области рисунка, полный список параметров [тут](https://matplotlib.org/stable/api/_as_gen/matplotlib.pyplot.figure.html)\\\n",
    "**fig.add_gridspec** - сделать \"сетку\", на которой можно нарисовать графики разного размера, обучатор [тут](https://matplotlib.org/stable/tutorials/intermediate/gridspec.html#sphx-glr-tutorials-intermediate-gridspec-py)\\\n",
    "**fig.subplots_adjust** - делаем так, чтоб графики не были слишком близко друг к другу, описание параметров [тут](https://matplotlib.org/stable/tutorials/intermediate/gridspec.html#sphx-glr-tutorials-intermediate-gridspec-py)\\\n",
    "**plt.barh** - горизонтальная гистограмма (у нас там стат.мощность отображается) [тут](https://matplotlib.org/stable/api/_as_gen/matplotlib.pyplot.barh.html)\\\n",
    "**seaborn.histplot** - Рисуем гистограмму, полный список параметров [тут](https://seaborn.pydata.org/generated/seaborn.histplot.html#seaborn.histplot)"
   ]
  },
  {
   "cell_type": "markdown",
   "metadata": {},
   "source": [
    "# Т-тест на кликах"
   ]
  },
  {
   "cell_type": "code",
   "execution_count": 43,
   "metadata": {},
   "outputs": [
    {
     "data": {
      "image/png": "[encoded data removed]",
      "text/plain": [
       "<Figure size 1050x1050 with 6 Axes>"
      ]
     },
     "execution_count": 43,
     "metadata": {},
     "output_type": "execute_result"
    }
   ],
   "source": [
    "x = plot_summary(test_data,ground_truth_ctr,views)\n",
    "x"
   ]
  },
  {
   "cell_type": "markdown",
   "metadata": {},
   "source": [
    "Что ж, мы разобрались с \"рисовалкой\", осталось разобраться с тестами. Предложим разные методы оценки и параллельно будем менять вид наших распределений. Тем самым, попробуем понять, что лучше, а что хуже и в каком случае."
   ]
  },
  {
   "cell_type": "markdown",
   "metadata": {},
   "source": [
    "Предлагаю для начала \"пошатать\" то, насколько скошено наше распределение просмотров. Как вы помните, отвечает за это параметр $\\sigma^2$\n",
    "\n",
    "Поначалу будет: \\\n",
    "**uplift** = 20% ,\\\n",
    "**ctr_control** = 0.02,\\\n",
    "**beta** = 1000,\\\n",
    "**N**=5000,\\\n",
    "**experiments**=2000,\\\n",
    "**mu**=1"
   ]
  },
  {
   "cell_type": "code",
   "execution_count": 44,
   "metadata": {
    "scrolled": true
   },
   "outputs": [],
   "source": [
    "for sigm2 in [0.1, 0.2, 0.3, 0.5, 0.7, 0.9, 1.0, 1.2, 1.5, 1.7, 2.0, 2.5, 3.0, 3.5, 4.0, 4.5]:\n",
    "    views_a_1, views_a_2, views_b,\\\n",
    "    success_rate_a_1, success_rate_a_2,success_rate_b,\\\n",
    "    clicks_a_1, clicks_a_2, clicks_b = generation(sigma2 = sigm2)\n",
    "    titles = ['t-test on clicks']\n",
    "\n",
    "    p_values_ab = [t_test(clicks_a_1, clicks_b)]\n",
    "    p_values_aa = [t_test(clicks_a_1, clicks_a_2)]\n",
    "\n",
    "    views_target = views_b\n",
    "    ground_truth_ctr_target = success_rate_b \n",
    "    color = colors[0]\n",
    "    titles = ['t-test on clicks']\n",
    "\n",
    "    test_data = {}\n",
    "    for i,j in enumerate(titles):\n",
    "        test_data[j] = (p_values_ab[i],p_values_aa[i],colors[i])\n",
    "    pict = plot_summary(test_data,ground_truth_ctr_target,views_target)\n",
    "    name = f'experimens={2000}_sample_size={5000}_uplift={0.2}_success_rate={0.02}_beta={1000}_skew={sigm2}.png'\n",
    "    pict.savefig(f'{name}')"
   ]
  },
  {
   "cell_type": "markdown",
   "metadata": {},
   "source": [
    "Сохраним gif для изменения чувствительности t-теста в gif"
   ]
  },
  {
   "cell_type": "code",
   "execution_count": null,
   "metadata": {},
   "outputs": [],
   "source": [
    "gif_list = sorted([i for i in os.listdir() if '.png' in i and 'exp' in i])"
   ]
  },
  {
   "cell_type": "code",
   "execution_count": null,
   "metadata": {},
   "outputs": [],
   "source": [
    "gif_list"
   ]
  },
  {
   "cell_type": "markdown",
   "metadata": {},
   "source": [
    "Уложим наши графики в GIF"
   ]
  },
  {
   "cell_type": "code",
   "execution_count": null,
   "metadata": {},
   "outputs": [],
   "source": [
    "from PIL import Image\n",
    "import imageio\n",
    "\n",
    "frames = []\n",
    "for i in gif_list:\n",
    "    new_frame = Image.open(i)\n",
    "    frames.append(new_frame)\n",
    "\n",
    "frames[0].save('t_test_vs_views.gif', format='GIF',\n",
    "               append_images=frames[1:],\n",
    "               save_all=True,\n",
    "               duration=800, loop=0)\n",
    "# Удалим картинки\n",
    "for i in gif_list:\n",
    "    os.remove(i) "
   ]
  },
  {
   "cell_type": "markdown",
   "metadata": {},
   "source": [
    "<img src=\"t_test_vs_views.gif\" width=\"800\">"
   ]
  },
  {
   "cell_type": "markdown",
   "metadata": {},
   "source": [
    "# Тест Манна-Уитни на кликах"
   ]
  },
  {
   "cell_type": "markdown",
   "metadata": {},
   "source": [
    "Что мы видим? Т-тест начинает плохо работать при сильном перекосе в распределении просмотров. Тут нам должен помочь тест Манна-Уитни, мы в одной из лекций обсуждали, что он к распределению не слишком чувствителен. Единственное требование - для бОльшей части наблюдений не должно быть абсолютно одинаковым.\n",
    "\n",
    "* Плюсы: нет проблем с распределением \n",
    "* Минусы: не сравнивает средние/медианы или что-то подобное, вычислительно сложный\n",
    "\n",
    "Еще раз:\n",
    "Нужно быть осторожным: если подавляющее большинство пользователей в вашем наборе данных не кликнули ни разу, тест MW на ваших данных \"не заведется\". Описание можно найти [тут](https://www.tandfonline.com/doi/full/10.1080/00031305.2017.1305291)"
   ]
  },
  {
   "cell_type": "code",
   "execution_count": 26,
   "metadata": {},
   "outputs": [],
   "source": [
    "def mannwhitney(a, b):\n",
    "    \"\"\"\n",
    "    Двусторонний тест Манна-Уитни\n",
    "    :param a: np.array вида (n_experiments, n_users), значения метрики в контроле\n",
    "    :param b: np.array вида (n_experiments, n_users), значен я метрики в тесте\n",
    "    :return: np.array вида (n_experiments), двусторонние p-value методом Манна-Уитни для всех экспериментов\n",
    "    \"\"\"\n",
    "    result = list(map(lambda x: scipy.stats.mannwhitneyu(\n",
    "        x[0], x[1], alternative='two-sided').pvalue, zip(a, b)))\n",
    "    return np.array(result)"
   ]
  },
  {
   "cell_type": "code",
   "execution_count": 28,
   "metadata": {},
   "outputs": [
    {
     "data": {
      "text/plain": [
       "(1000,)"
      ]
     },
     "execution_count": 28,
     "metadata": {},
     "output_type": "execute_result"
    }
   ],
   "source": [
    "mannwhitney(clicks_A, clicks_B).shape"
   ]
  },
  {
   "cell_type": "markdown",
   "metadata": {},
   "source": [
    "Сравним его с тем, что мы получали для t-теста"
   ]
  },
  {
   "cell_type": "code",
   "execution_count": null,
   "metadata": {},
   "outputs": [],
   "source": [
    "for sigm2 in [0.1, 0.2, 0.3, 0.5, 0.7, 0.9, 1.0, 1.2, 1.5, 1.7, 2.0, 2.5, 3.0, 3.5, 4.0, 4.5]:\n",
    "    views_a_1, views_a_2, views_b,\\\n",
    "    success_rate_a_1, success_rate_a_2,success_rate_b,\\\n",
    "    clicks_a_1, clicks_a_2, clicks_b = generation(sigma2 = sigm2)\n",
    "    titles = ['t-test on clicks', 'Mann-Whitney on clicks']\n",
    "\n",
    "    p_values_ab = [t_test(clicks_a_1, clicks_b),mannwhitney(clicks_a_1, clicks_b)]\n",
    "    p_values_aa = [t_test(clicks_a_1, clicks_a_2),mannwhitney(clicks_a_1, clicks_a_2)]\n",
    "\n",
    "    views_target = views_b\n",
    "    ground_truth_ctr_target = success_rate_b \n",
    "    color = colors[0]\n",
    "\n",
    "    test_data = {}\n",
    "    for i,j in enumerate(titles):\n",
    "        test_data[j] = (p_values_ab[i],p_values_aa[i],colors[i])\n",
    "    pict = plot_summary(test_data,ground_truth_ctr_target,views_target)\n",
    "    name = f'experimens={2000}_sample_size={5000}_uplift={0.2}_success_rate={0.02}_beta={1000}_skew={sigm2}.png'\n",
    "    pict.savefig(f'{name}')\n",
    "    \n",
    "frames = []\n",
    "for i in gif_list:\n",
    "    new_frame = Image.open(i)\n",
    "    frames.append(new_frame)\n",
    "\n",
    "frames[0].save('t_test_and_Mann_Whitney.gif', format='GIF',\n",
    "               append_images=frames[1:],\n",
    "               save_all=True,\n",
    "               duration=800, loop=0)"
   ]
  },
  {
   "cell_type": "markdown",
   "metadata": {},
   "source": [
    "## Функция удаления картиночек"
   ]
  },
  {
   "cell_type": "code",
   "execution_count": null,
   "metadata": {},
   "outputs": [],
   "source": [
    "def del_png(gif_list):\n",
    "    for i in gif_list:\n",
    "        os.remove(i)"
   ]
  },
  {
   "cell_type": "markdown",
   "metadata": {},
   "source": [
    "## Функция заворачивания в GIF"
   ]
  },
  {
   "cell_type": "code",
   "execution_count": null,
   "metadata": {},
   "outputs": [],
   "source": [
    "def to_gif(png_list, gif_name):\n",
    "    frames = []\n",
    "    for i in png_list:\n",
    "        new_frame = Image.open(i)\n",
    "        frames.append(new_frame)\n",
    "\n",
    "    frames[0].save(gif_name, format='GIF',\n",
    "                   append_images=frames[1:],\n",
    "                   save_all=True,\n",
    "                   duration=800, loop=0)"
   ]
  },
  {
   "cell_type": "markdown",
   "metadata": {},
   "source": [
    "# Меняем скошенность"
   ]
  },
  {
   "cell_type": "markdown",
   "metadata": {},
   "source": [
    "<img src=\"t_test_and_Mann_Whitney.gif\" width=\"800\">"
   ]
  },
  {
   "cell_type": "markdown",
   "metadata": {},
   "source": [
    "Что здесь можно увидеть? Тест Манна-Уитни начинает обыгрывать Т-тест, когда распределение кликов сильно перекошено. Все дело в том, что t-тест работает в предположении нормальности, а мы с вами его начали портить. Мы только что \"перекосили\" распределение кликов, \"пошатав\" скошенность распределения просмотров. Еще одним источником \"проблем\" t-теста может стать распределение истинного CTR. Если в вашей группе находятся пользователи с очень РАЗНЫМИ вероятностями клика (большая диверсификация aka большая дисперсия), этот разброс в CTR испортит вам распределение кликов. Будем менять $\\beta$, оставив $\\sigma^2 = 1$. Выглядеть будет так:"
   ]
  },
  {
   "cell_type": "code",
   "execution_count": null,
   "metadata": {},
   "outputs": [],
   "source": [
    "for beta in [1, 5, 10, 30, 50, 75, 100, 200, 300, 500, 1000]:\n",
    "    views_a_1, views_a_2, views_b,\\\n",
    "    success_rate_a_1, success_rate_a_2,success_rate_b,\\\n",
    "    clicks_a_1, clicks_a_2, clicks_b = generation(sigma2 = 1, beta = beta)\n",
    "    titles = ['t-test on clicks', 'Mann-Whitney on clicks']\n",
    "\n",
    "    p_values_ab = [t_test(clicks_a_1, clicks_b),mannwhitney(clicks_a_1, clicks_b)]\n",
    "    p_values_aa = [t_test(clicks_a_1, clicks_a_2),mannwhitney(clicks_a_1, clicks_a_2)]\n",
    "\n",
    "    views_target = views_b\n",
    "    ground_truth_ctr_target = success_rate_b \n",
    "    color = colors[0]\n",
    "\n",
    "    test_data = {}\n",
    "    for i,j in enumerate(titles):\n",
    "        test_data[j] = (p_values_ab[i],p_values_aa[i],colors[i])\n",
    "    pict = plot_summary(test_data,ground_truth_ctr_target,views_target)\n",
    "    name = f'experimens={2000}_sample_size={5000}_uplift={0.2}_success_rate={0.02}_beta={beta}_skew={1}.png'\n",
    "    pict.savefig(f'{name}')"
   ]
  },
  {
   "cell_type": "code",
   "execution_count": null,
   "metadata": {},
   "outputs": [],
   "source": [
    "x = 'experimens=2000_sample_size=5000_uplift=0.2_success_rate=0.02_beta=1000_skew=1.png'"
   ]
  },
  {
   "cell_type": "code",
   "execution_count": null,
   "metadata": {},
   "outputs": [],
   "source": [
    "import re\n",
    "\n",
    "gif_list = sorted([i for i in os.listdir() if '.png' in i and 'exp' in i],\n",
    "                 key=lambda x: int(re.search(r'(?<=beta=)\\d+',x).group(0)),\n",
    "                 reverse = True)\n"
   ]
  },
  {
   "cell_type": "code",
   "execution_count": null,
   "metadata": {},
   "outputs": [],
   "source": [
    "to_gif(gif_list, 't_test_and_Mann_Whitney_beta_variation.gif')\n",
    "del_png(gif_list)"
   ]
  },
  {
   "cell_type": "markdown",
   "metadata": {},
   "source": [
    "<img src=\"t_test_and_Mann_Whitney_beta_variation.gif\" width=\"800\">"
   ]
  },
  {
   "cell_type": "markdown",
   "metadata": {},
   "source": [
    "# Тесты CTR\n",
    "\n",
    "Намного чаще чем \"просто клики\" для тестирования используются показатели CTR, то есть:\n",
    "\n",
    "$$CTR = \\dfrac{\\sum_{u \\in Users}clicks_u}{\\sum_{u \\in Users}views_u}$$\n",
    "\\\n",
    "Направление изменения общегруппового CTR такое же, как и направление изменения суммы кликов, если мы не влияем на показатель просмотров в нашем эксперименте. Это разумное предположением, если вы работаете, например, с таргетингом рекламного баннера на главной странице вашего сайта. Крайне маловероятно, что, изменив баннер, мы изменим среднее количество раз, которое пользователь видит его, поскольку это зависит от количества посещений главной страницы. Утверждение точно выполняется \"не всегда\", например оно может быть неверным для ранжирования ленты новостей, потому что более высокий рейтинг увеличивает вовлеченность пользователей и они склонны чаще посещать новостную ленту."
   ]
  },
  {
   "cell_type": "markdown",
   "metadata": {},
   "source": [
    "Первое, что приходит в голову :\n",
    "## [Биномиальный тест](https://en.wikipedia.org/wiki/Binomial_test) для доли\n"
   ]
  },
  {
   "cell_type": "markdown",
   "metadata": {},
   "source": [
    "### Предположения\n",
    "\n",
    "* Мы не влияем на просмотры\n",
    "* Каждый клик и просмотр - реализации независимых, одинаково распределенных случайных величин"
   ]
  },
  {
   "cell_type": "code",
   "execution_count": null,
   "metadata": {},
   "outputs": [],
   "source": [
    "def binomial_test(global_ctr_0, total_views_0, global_ctr_1, total_views_1):\n",
    "    \"\"\"\n",
    "    Считает двусторонние p-value для сех тестов на общий CTRs, используется z-test\n",
    "    :param global_ctr_0: np.array вида (n_experiments), общий ctr in control group in every experiment\n",
    "    :param total_views_0: np.array вида (n_experiments), sum of views in control group in every experiment\n",
    "    :param global_ctr_1: np.array вида (n_experiments), общий ctr in treatment group in every experiment\n",
    "    :param total_views_1: np.array вида (n_experiments), sum of views in treatment group in every experiment\n",
    "    :return: np.array вида (n_experiments), двусторонние p-value \n",
    "    \"\"\"\n",
    "    overall_ctrs = (global_ctr_0 * total_views_0 + global_ctr_1 * total_views_1) / (total_views_0 + total_views_1)\n",
    "    z_stats = (global_ctr_0 - global_ctr_1) / np.sqrt(\n",
    "        overall_ctrs * (1 - overall_ctrs) * (1. / total_views_0 + 1. / total_views_1))\n",
    "    return 2 * np.minimum(scipy.stats.norm(0, 1).cdf(z_stats), 1 - scipy.stats.norm(0, 1).cdf(z_stats))"
   ]
  },
  {
   "cell_type": "markdown",
   "metadata": {},
   "source": [
    "Снова \"пошатаем\" распределение истинного CTR (при большой вариабельности предположения биномиального теста нарушаются)"
   ]
  },
  {
   "cell_type": "code",
   "execution_count": null,
   "metadata": {},
   "outputs": [],
   "source": [
    "for beta in [1, 5, 10, 30, 50, 75, 100, 200, 300, 500, 1000]:\n",
    "    views_a_1, views_a_2, views_b,\\\n",
    "        success_rate_a_1, success_rate_a_2, success_rate_b,\\\n",
    "        clicks_a_1, clicks_a_2, clicks_b = generation(sigma2=1, beta=beta)\n",
    "    titles = ['Binomial test for CTR']\n",
    "\n",
    "    # Считаем CTR для групп\n",
    "    global_ctr_a1 = clicks_a_1.sum(axis=1) / views_a_1.sum(axis=1)\n",
    "    global_ctr_a2 = clicks_a_2.sum(axis=1) / views_a_2.sum(axis=1)\n",
    "    global_ctr_b = clicks_b.sum(axis=1) / views_b.sum(axis=1)\n",
    "\n",
    "    # Считаем p-value\n",
    "    p_values_ab = [binomial_test(global_ctr_a1, views_a_1.sum(\n",
    "        axis=1), global_ctr_b, views_b.sum(axis=1))]\n",
    "    p_values_aa = [binomial_test(global_ctr_a1, views_a_1.sum(\n",
    "        axis=1), global_ctr_a2, views_a_2.sum(axis=1))]\n",
    "\n",
    "    # Просмотры\n",
    "    views_target = views_b\n",
    "    \n",
    "    # CTR\n",
    "    ground_truth_ctr_target = success_rate_b\n",
    "    color = colors[0]\n",
    "\n",
    "    test_data = {}\n",
    "    for i, j in enumerate(titles):\n",
    "        test_data[j] = (p_values_ab[i], p_values_aa[i], colors[i])\n",
    "    pict = plot_summary(test_data, ground_truth_ctr_target, views_target)\n",
    "    name = f'experimens={2000}_sample_size={5000}_uplift={0.2}_success_rate={0.02}_beta={beta}_skew={1}.png'\n",
    "    pict.savefig(f'{name}')"
   ]
  },
  {
   "cell_type": "code",
   "execution_count": null,
   "metadata": {},
   "outputs": [],
   "source": [
    "gif_list = sorted([i for i in os.listdir() if '.png' in i and 'exp' in i],\n",
    "                 key=lambda x: int(re.search(r'(?<=beta=)\\d+',x).group(0)),\n",
    "                 reverse = True)\n",
    "\n",
    "to_gif(gif_list, 'Binomial_test.gif')\n",
    "del_png(gif_list)"
   ]
  },
  {
   "cell_type": "code",
   "execution_count": null,
   "metadata": {},
   "outputs": [],
   "source": [
    "def binomial_test(global_ctr_0, total_views_0, global_ctr_1, total_views_1):\n",
    "    \"\"\"\n",
    "    Считает двусторонние p-value для сех тестов на общий CTRs, используется z-test\n",
    "    :param global_ctr_0: np.array вида (n_experiments), общий ctr in control group in every experiment\n",
    "    :param total_views_0: np.array вида (n_experiments), sum of views in control group in every experiment\n",
    "    :param global_ctr_1: np.array вида (n_experiments), общий ctr in treatment group in every experiment\n",
    "    :param total_views_1: np.array вида (n_experiments), sum of views in treatment group in every experiment\n",
    "    :return: np.array вида (n_experiments), двусторонние p-value \n",
    "    \"\"\"\n",
    "    overall_ctrs = (global_ctr_0 * total_views_0 + global_ctr_1 *\n",
    "                    total_views_1) / (total_views_0 + total_views_1)\n",
    "    z_stats = (global_ctr_0 - global_ctr_1) / np.sqrt(\n",
    "        overall_ctrs * (1 - overall_ctrs) * (1. / total_views_0 + 1. / total_views_1))\n",
    "    return 2 * np.minimum(scipy.stats.norm(0, 1).cdf(z_stats), 1 - scipy.stats.norm(0, 1).cdf(z_stats))\n",
    "\n",
    "\n",
    "\n"
   ]
  },
  {
   "cell_type": "code",
   "execution_count": null,
   "metadata": {},
   "outputs": [],
   "source": [
    "scipy.stats.binom.rvs(2600, 0.22)/2600-0.22"
   ]
  },
  {
   "cell_type": "markdown",
   "metadata": {},
   "source": [
    "<img src=\"Binomial_test.gif\" width=\"800\">"
   ]
  },
  {
   "cell_type": "markdown",
   "metadata": {},
   "source": [
    "Как видите, когда все пользователи имеют одинаковый CTR, биномиальный тест работает очень хорошо. Теоретически в данном случае это самый мощный тест. К сожалению, когда мы увеличиваем дисперсию истинного пользовательского CTR, тестовые предположения нарушаются, и он начинает недооценивать FPR, а CDF при H0 лежит намного выше диагонали. Это означает, что наш тест не контролирует, что FPR <= p-value. Тогда понятие \"значимости\", полученной на этом тесте, теряет смысл и нам следует держаться от него подальше."
   ]
  },
  {
   "cell_type": "markdown",
   "metadata": {},
   "source": [
    "# [Бутстреп](https://en.wikipedia.org/wiki/Bootstrapping_(statistics)#Bootstrap_hypothesis_testing) для CTR\n",
    "\n",
    "Предположение:\n",
    "* Мы не влияем на просмотры\n",
    "\n",
    "Как видно из предыдущего раздела, нельзя использовать биномиальный z-тест для глобального CTR. Часто тут применияется бутстреп. Мы делаем выборки пользователей с возвращением и вычисляем глобальный CTR для каждой выборки. Затем мы используем полученное распределение статистики по бутстрепированным выборкам для построения доверительных интервалов и выполнения статистических тестов.\n",
    "\n",
    "Бутстреп с большими данными работает довольно долго. В нашем случае мы можем применить бутстреп [Пуассона](http://www.unofficialgoogledatascience.com/2015/08/an-introduction-to-poisson-bootstrap26.html). \n",
    "\n",
    "Идея проста: вместо выборки пользователей c возвращением мы сэмплируем количество раз, которое каждый пользователь появляется в выборке из распределения Пуассона. Затем мы взвешиваем просмотры и клики с этим числом. Тут мы используем технику Пуассоновского бутстрепа для ускорения вычислений.\n",
    "\n",
    "Глобальный CTR может быть выражен как средневзвешенное значение CTR пользователей, при этом CTR каждого пользователя взвешивается по количеству просмотров.\n",
    "\n",
    "$$CTR = \\dfrac{\\sum_{u \\in Users}clicks_u}{\\sum_{u \\in Users}views_u} = \\dfrac{\\sum_{u \\in Users}views_u*User\\_CTR_u}{\\sum_{u \\in Users}views_u}$$"
   ]
  },
  {
   "cell_type": "markdown",
   "metadata": {},
   "source": [
    "# DISCLAIMER:\n",
    "\n",
    "Бутстреп - очень долгая процедура. "
   ]
  },
  {
   "cell_type": "code",
   "execution_count": null,
   "metadata": {},
   "outputs": [],
   "source": [
    "def bootstrap(ctrs_0, weights_0, ctrs_1, weights_1, n_bootstrap=2000):\n",
    "    \"\"\"\n",
    "    Считает взвешенный bootstrap и вычисляет p-value по распределению статистик из псевдовыборок\n",
    "    :param ctrs_0: np.array вида (n_experiments, n_users), \n",
    "        CTR каждого пользователя из контрольной группы в каждом эксперименте \n",
    "        \n",
    "    :param weights_0: np.array (n_experiments, n_users), \n",
    "        вес каждого пользователя из контрольной группы в каждом эксперименте \n",
    "        \n",
    "    :param ctrs_1: np.array (n_experiments, n_users), \n",
    "        CTR каждого пользователя из целевой группы в каждом эксперименте \n",
    "        \n",
    "    :param weights_1: np.array (n_experiments, n_users), \n",
    "        вес каждого пользователя из целевой группы в каждом эксперименте \n",
    "        \n",
    "    :param n_bootstrap: int - кол-во бутстрапированных псевдовыборок для каждого эксперимента\n",
    "    :return: np.array shape (n_experiments), двусторонние p-value\n",
    "    \"\"\"\n",
    "    poisson_bootstraps = scipy.stats.poisson(1).rvs(\n",
    "        (n_bootstrap, ctrs_0.shape[1])).astype(np.int64)\n",
    "\n",
    "    values_0 = np.matmul(ctrs_0 * weights_0, poisson_bootstraps.T)\n",
    "    weights_0 = np.matmul(weights_0, poisson_bootstraps.T)\n",
    "\n",
    "    values_1 = np.matmul(ctrs_1 * weights_1, poisson_bootstraps.T)\n",
    "    weights_1 = np.matmul(weights_1, poisson_bootstraps.T)\n",
    "\n",
    "    deltas = values_1 / weights_1 - values_0 / weights_0\n",
    "\n",
    "    positions = np.sum(deltas < 0, axis=1)\n",
    "\n",
    "    return 2 * np.minimum(positions, n_bootstrap - positions) / n_bootstrap"
   ]
  },
  {
   "cell_type": "markdown",
   "metadata": {},
   "source": [
    "### Код ниже собирает картинки для разных $\\sigma^2$"
   ]
  },
  {
   "cell_type": "code",
   "execution_count": null,
   "metadata": {},
   "outputs": [],
   "source": [
    "for sigm2 in [0.1, 0.2, 0.3, 0.5, 0.7, 0.9, 1.0, 1.2, 1.5, 1.7, 2.0, 2.5, 3.0, 3.5, 4.0, 4.5]:\n",
    "    views_a_1, views_a_2, views_b,\\\n",
    "    success_rate_a_1, success_rate_a_2,success_rate_b,\\\n",
    "    clicks_a_1, clicks_a_2, clicks_b = generation(sigma2 = sigm2)\n",
    "    titles = ['Mann-Whitney on clicks', 'Bootstrap for CTR']\n",
    "\n",
    "    p_values_ab = [mannwhitney(clicks_a_1, clicks_b),\n",
    "                   bootstrap(clicks_a_1 / views_a_1, views_a_1, clicks_b / views_b, views_b)]\n",
    "    p_values_aa = [mannwhitney(clicks_a_1, clicks_a_2),\n",
    "                   bootstrap(clicks_a_1 / views_a_1, views_a_1, clicks_a_2 / views_a_2, views_a_2)]\n",
    "\n",
    "    views_target = views_b\n",
    "    ground_truth_ctr_target = success_rate_b \n",
    "    color = colors[0]\n",
    "\n",
    "    test_data = {}\n",
    "    for i,j in enumerate(titles):\n",
    "        test_data[j] = (p_values_ab[i],p_values_aa[i],colors[i+1])\n",
    "    pict = plot_summary(test_data,ground_truth_ctr_target,views_target)\n",
    "    name = f'experimens={2000}_sample_size={5000}_uplift={0.2}_success_rate={0.02}_beta={1000}_skew={sigm2}.png'\n",
    "    pict.savefig(f'{name}')\n",
    "\n"
   ]
  },
  {
   "cell_type": "code",
   "execution_count": null,
   "metadata": {},
   "outputs": [],
   "source": [
    "gif_list = sorted([i for i in os.listdir() if '.png' in i and 'exp' in i])\n",
    "\n",
    "to_gif(gif_list, 'Bootstrap_and_Mann_Whitney_skew.gif')"
   ]
  },
  {
   "cell_type": "markdown",
   "metadata": {},
   "source": [
    "<img src=\"Bootstrap_and_Mann_Whitney_skew.gif\" width=\"800\">"
   ]
  },
  {
   "cell_type": "markdown",
   "metadata": {},
   "source": [
    "При разумных величинах скошенности бутстреп дает очень хорошие результаты, но когда скошенность превышает некоторое критическое значение, наша статистическая процедура перестает быть корректной."
   ]
  },
  {
   "cell_type": "markdown",
   "metadata": {},
   "source": [
    "# Сейчас сделаем глубокий вдох и сгенерируем выборки для наших тестов\n",
    "\n",
    "(Иначе будем каждый раз ждать до потери сознания)\n",
    "Сохраним их и в дальнейшем вы сами сможете их покрутить. Только заметьте, что занимают эти выборки немало места (9 выборок для каждого набора параметров ~ 750 МБ). Подумайте, как можно генерировать поменьше или сохранять поэкономнее."
   ]
  },
  {
   "cell_type": "code",
   "execution_count": null,
   "metadata": {},
   "outputs": [],
   "source": [
    "import os\n",
    "\n",
    "# Сейчас будет выглядеть оооооооочень некрасиво\n",
    "lst = []\n",
    "for sigma2 in [0.1, 0.2, 0.3, 0.4, 0.5, 0.7, 0.9, 1.0, 1.2, 1.4, 1.5, 1.7, 1.9, 2, 2.2, 2.5, 2.7, 3, 3.5, 4, 4.5]:\n",
    "    folder_path = f'test_data/experimens={2000}/sample_size={5000}/uplift={0.2}/success_rate={0.02}/beta={1000}/skew={sigma2}'\n",
    "    os.makedirs(folder_path, exist_ok=True)\n",
    "    print('sigma2 = ', sigma2, ' in progress')\n",
    "\n",
    "    views_a_1, views_a_2, views_b,\\\n",
    "        success_rate_a_1, success_rate_a_2, success_rate_b,\\\n",
    "        clicks_a_1, clicks_a_2, clicks_b = generation(sigma2=sigma2)\n",
    "\n",
    "    np.save(folder_path+'/views_a_1.npy', views_a_1)\n",
    "    np.save(folder_path+'/views_a_2.npy', views_a_2)\n",
    "    np.save(folder_path+'/views_b.npy', views_b)\n",
    "\n",
    "    np.save(folder_path+'/success_rate_a_1.npy', success_rate_a_1)\n",
    "    np.save(folder_path+'/success_rate_a_2.npy', success_rate_a_2)\n",
    "    np.save(folder_path+'/success_rate_b.npy', success_rate_b)\n",
    "\n",
    "    np.save(folder_path+'/clicks_a_1.npy', clicks_a_1)\n",
    "    np.save(folder_path+'/clicks_a_2.npy', clicks_a_2)\n",
    "    np.save(folder_path+'/clicks_b.npy', clicks_b)\n",
    "\n",
    "for beta in [1, 5, 10, 20, 30, 40, 50, 60, 75, 90, 100, 125, 150, 175, 200, 300, 400, 500, 700, 1000, 1500, 2000]:\n",
    "    folder_path = f'test_data/experimens={2000}/sample_size={5000}/uplift={0.2}/success_rate={0.02}/beta={beta}/skew={1}'\n",
    "    os.makedirs(folder_path, exist_ok=True)\n",
    "    print('beta = ', beta, ' in progress')\n",
    "\n",
    "    views_a_1, views_a_2, views_b,\\\n",
    "        success_rate_a_1, success_rate_a_2, success_rate_b,\\\n",
    "        clicks_a_1, clicks_a_2, clicks_b = generation(sigma2=1, beta=beta)\n",
    "\n",
    "    np.save(folder_path+'/views_a_1.npy', views_a_1)\n",
    "    np.save(folder_path+'/views_a_2.npy', views_a_2)\n",
    "    np.save(folder_path+'/views_b.npy', views_b)\n",
    "\n",
    "    np.save(folder_path+'/success_rate_a_1.npy', success_rate_a_1)\n",
    "    np.save(folder_path+'/success_rate_a_2.npy', success_rate_a_2)\n",
    "    np.save(folder_path+'/success_rate_b.npy', success_rate_b)\n",
    "\n",
    "    np.save(folder_path+'/clicks_a_1.npy', clicks_a_1)\n",
    "    np.save(folder_path+'/clicks_a_2.npy', clicks_a_2)\n",
    "    np.save(folder_path+'/clicks_b.npy', clicks_b)"
   ]
  },
  {
   "cell_type": "markdown",
   "metadata": {},
   "source": [
    "# Вспомним, какие тесты мы с вами разобрали:\n",
    "\n",
    "* t-тест\n",
    "* Тест Манна-Уитни на кликах\n",
    "* Биномиальный тест для доли\n",
    "* Пуассоновский бутстреп для группового CTR"
   ]
  },
  {
   "cell_type": "markdown",
   "metadata": {},
   "source": [
    "А теперь давайте подсчитаем списки p-value для A/A и A/B тестов каждым из этих методов и сохраним в соответствующие папки. Чтобы, например, тяжелый бутстреп 125 раз не пересчитывать."
   ]
  },
  {
   "cell_type": "code",
   "execution_count": null,
   "metadata": {},
   "outputs": [],
   "source": [
    "for beta in [1, 5, 10, 20, 30, 40, 50, 60, 75, 90, 100, 125, 150, 175, 200, 300, 400, 500, 700, 1000, 1500, 2000]:\n",
    "    print('beta = ', beta,' in progress')\n",
    "    folder_path = f'test_data/experimens={2000}/sample_size={5000}/uplift={0.2}/success_rate={0.02}/beta={beta}/skew={1}'\n",
    "    views_a_1 = np.load(folder_path+'/views_a_1.npy')\n",
    "    views_a_2 = np.load(folder_path+'/views_a_2.npy')\n",
    "    views_b = np.load(folder_path+'/views_b.npy')\n",
    "\n",
    "    success_rate_a_1 = np.load(folder_path+'/success_rate_a_1.npy')\n",
    "    success_rate_a_2 = np.load(folder_path+'/success_rate_a_2.npy')\n",
    "    success_rate_b = np.load(folder_path+'/success_rate_b.npy')\n",
    "\n",
    "    clicks_a_1 = np.load(folder_path+'/clicks_a_1.npy')\n",
    "    clicks_a_2 = np.load(folder_path+'/clicks_a_2.npy')\n",
    "    clicks_b = np.load(folder_path+'/clicks_b.npy')\n",
    "\n",
    "    # Считаем CTR для групп\n",
    "    global_ctr_a1 = clicks_a_1.sum(axis=1) / views_a_1.sum(axis=1)\n",
    "    global_ctr_a2 = clicks_a_2.sum(axis=1) / views_a_2.sum(axis=1)\n",
    "    global_ctr_b = clicks_b.sum(axis=1) / views_b.sum(axis=1)\n",
    "\n",
    "    # Считаем p-value A/B\n",
    "    p_values_ab_t_test = t_test(clicks_a_1, clicks_b)\n",
    "    p_values_ab_mann_whitney = mannwhitney(clicks_a_1, clicks_b)\n",
    "    p_values_ab_binomial = binomial_test(global_ctr_a1, views_a_1.sum(\n",
    "        axis=1), global_ctr_b, views_b.sum(axis=1))\n",
    "    p_values_ab_bootstrap = bootstrap(clicks_a_1 / views_a_1, views_a_1, clicks_b / views_b, views_b)\n",
    "\n",
    "    \n",
    "    # Считаем p-value A/A\n",
    "    p_values_aa_t_test = t_test(clicks_a_1, clicks_a_2)\n",
    "    p_values_aa_mann_whitney = mannwhitney(clicks_a_1, clicks_a_2)\n",
    "    p_values_aa_binomial = binomial_test(global_ctr_a1, views_a_1.sum(\n",
    "        axis=1), global_ctr_a2, views_a_2.sum(axis=1))\n",
    "    p_values_aa_bootstrap = bootstrap(clicks_a_1 / views_a_1, views_a_1, clicks_a_2 / views_a_2, views_a_2)\n",
    "    \n",
    "    # Сохраняем\n",
    "    np.save(folder_path+'/p_values_ab_t_test.npy', p_values_ab_t_test)\n",
    "    np.save(folder_path+'/p_values_ab_mann_whitney.npy', p_values_ab_mann_whitney)\n",
    "    np.save(folder_path+'/p_values_ab_binomial.npy', p_values_ab_binomial)\n",
    "    np.save(folder_path+'/p_values_ab_bootstrap.npy', p_values_ab_bootstrap)\n",
    "    \n",
    "    np.save(folder_path+'/p_values_aa_t_test.npy', p_values_aa_t_test)\n",
    "    np.save(folder_path+'/p_values_aa_mann_whitney.npy', p_values_aa_mann_whitney)\n",
    "    np.save(folder_path+'/p_values_aa_binomial.npy', p_values_aa_binomial)\n",
    "    np.save(folder_path+'/p_values_aa_bootstrap.npy', p_values_aa_bootstrap)\n",
    "    \n",
    "for sigma2 in [0.1, 0.2, 0.3, 0.4, 0.5, 0.7, 0.9, 1.0, 1.2, 1.4, 1.5, 1.7, 1.9, 2, 2.2, 2.5, 2.7, 3, 3.5, 4, 4.5]:\n",
    "    print('sigma2 = ', sigma2,' in progress')\n",
    "    folder_path = f'test_data/experimens={2000}/sample_size={5000}/uplift={0.2}/success_rate={0.02}/beta={1000}/skew={sigma2}'\n",
    "    views_a_1 = np.load(folder_path+'/views_a_1.npy')\n",
    "    views_a_2 = np.load(folder_path+'/views_a_2.npy')\n",
    "    views_b = np.load(folder_path+'/views_b.npy')\n",
    "\n",
    "    success_rate_a_1 = np.load(folder_path+'/success_rate_a_1.npy')\n",
    "    success_rate_a_2 = np.load(folder_path+'/success_rate_a_2.npy')\n",
    "    success_rate_b = np.load(folder_path+'/success_rate_b.npy')\n",
    "\n",
    "    clicks_a_1 = np.load(folder_path+'/clicks_a_1.npy')\n",
    "    clicks_a_2 = np.load(folder_path+'/clicks_a_2.npy')\n",
    "    clicks_b = np.load(folder_path+'/clicks_b.npy')\n",
    "\n",
    "    # Считаем CTR для групп\n",
    "    global_ctr_a1 = clicks_a_1.sum(axis=1) / views_a_1.sum(axis=1)\n",
    "    global_ctr_a2 = clicks_a_2.sum(axis=1) / views_a_2.sum(axis=1)\n",
    "    global_ctr_b = clicks_b.sum(axis=1) / views_b.sum(axis=1)\n",
    "\n",
    "    # Считаем p-value A/B\n",
    "    p_values_ab_t_test = t_test(clicks_a_1, clicks_b)\n",
    "    p_values_ab_mann_whitney = mannwhitney(clicks_a_1, clicks_b)\n",
    "    p_values_ab_binomial = binomial_test(global_ctr_a1, views_a_1.sum(\n",
    "        axis=1), global_ctr_b, views_b.sum(axis=1))\n",
    "    p_values_ab_bootstrap = bootstrap(clicks_a_1 / views_a_1, views_a_1, clicks_b / views_b, views_b)\n",
    "\n",
    "    \n",
    "    # Считаем p-value A/A\n",
    "    p_values_aa_t_test = t_test(clicks_a_1, clicks_a_2)\n",
    "    p_values_aa_mann_whitney = mannwhitney(clicks_a_1, clicks_a_2)\n",
    "    p_values_aa_binomial = binomial_test(global_ctr_a1, views_a_1.sum(\n",
    "        axis=1), global_ctr_a2, views_a_2.sum(axis=1))\n",
    "    p_values_aa_bootstrap = bootstrap(clicks_a_1 / views_a_1, views_a_1, clicks_a_2 / views_a_2, views_a_2)\n",
    "    \n",
    "    # Сохраняем\n",
    "    np.save(folder_path+'/p_values_ab_t_test.npy', p_values_ab_t_test)\n",
    "    np.save(folder_path+'/p_values_ab_mann_whitney.npy', p_values_ab_mann_whitney)\n",
    "    np.save(folder_path+'/p_values_ab_binomial.npy', p_values_ab_binomial)\n",
    "    np.save(folder_path+'/p_values_ab_bootstrap.npy', p_values_ab_bootstrap)\n",
    "    \n",
    "    np.save(folder_path+'/p_values_aa_t_test.npy', p_values_aa_t_test)\n",
    "    np.save(folder_path+'/p_values_aa_mann_whitney.npy', p_values_aa_mann_whitney)\n",
    "    np.save(folder_path+'/p_values_aa_binomial.npy', p_values_aa_binomial)\n",
    "    np.save(folder_path+'/p_values_aa_bootstrap.npy', p_values_aa_bootstrap)"
   ]
  },
  {
   "cell_type": "markdown",
   "metadata": {},
   "source": [
    "# Функции для загрузки полученных данных и сохранения p-value"
   ]
  },
  {
   "cell_type": "code",
   "execution_count": null,
   "metadata": {},
   "outputs": [],
   "source": [
    "# По этим спискам мы будем ходить\n",
    "\n",
    "sigma_list = [0.1, 0.2, 0.3, 0.4, 0.5, 0.7, 0.9, 1.0, 1.2,\n",
    "              1.4, 1.5, 1.7, 1.9, 2, 2.2, 2.5, 2.7, 3, 3.5, 4, 4.5]\n",
    "beta_list = [1, 5, 10, 20, 30, 40, 50, 60, 75, 90, 100,\n",
    "                     125, 150, 175, 200, 300, 400, 500, 700, 1000, 1500, 2000]\n",
    "\n",
    "\n",
    "def data_loader(folder_path):\n",
    "\n",
    "    views_a_1 = np.load(folder_path+'/views_a_1.npy')\n",
    "    views_a_2 = np.load(folder_path+'/views_a_2.npy')\n",
    "    views_b = np.load(folder_path+'/views_b.npy')\n",
    "\n",
    "    success_rate_a_1 = np.load(folder_path+'/success_rate_a_1.npy')\n",
    "    success_rate_a_2 = np.load(folder_path+'/success_rate_a_2.npy')\n",
    "    success_rate_b = np.load(folder_path+'/success_rate_b.npy')\n",
    "\n",
    "    clicks_a_1 = np.load(folder_path+'/clicks_a_1.npy')\n",
    "    clicks_a_2 = np.load(folder_path+'/clicks_a_2.npy')\n",
    "    clicks_b = np.load(folder_path+'/clicks_b.npy')\n",
    "\n",
    "    return views_a_1, views_a_2, views_b,\\\n",
    "            success_rate_a_1, success_rate_a_2, success_rate_b,\\\n",
    "            clicks_a_1, clicks_a_2, clicks_b\n",
    "\n",
    "\n",
    "def p_value_saver(folder_path, name, p_values_ab, p_values_aa):\n",
    "    np.save(folder_path+'/p_values_ab_'+name+'.npy', p_values_ab)\n",
    "    np.save(folder_path+'/p_values_aa_'+name+'.npy', p_values_aa)"
   ]
  },
  {
   "cell_type": "code",
   "execution_count": null,
   "metadata": {},
   "outputs": [],
   "source": [
    "dct = {'a': 1, 'b': 5}\n",
    "lst = ['a', 'a', 'b', 'b', 'c']\n",
    "new_lst = [dct.get(i, 'no item') for i in lst]\n",
    "\n",
    "#или так:\n",
    "new_lst2 = list(map(lambda x: dct.get(x,'no item'), lst))\n",
    "\n",
    "new_lst == new_lst, new_lst"
   ]
  },
  {
   "cell_type": "markdown",
   "metadata": {},
   "source": [
    "# Дельта-метод для общегруппового CTR\n",
    "\n",
    "Подробнее про дельта-метод можно прочитать [тут](https://arxiv.org/pdf/1803.06336.pdf)\n",
    "\n",
    "Вспомним, как выглядит ЦПТ для среднего:\n",
    "$$\\sqrt{n}\\dfrac{\\overline{X}-\\mu}{\\sigma} \\rightarrow N(0,1)$$\n",
    "\n",
    "И из ЦПТ мы с вами получили оценку доверительного интервала для среднего на уровне $100(1-\\alpha)\\%$:\n",
    "$$\\overline{X} \\pm z_{\\alpha/2}\\sigma/\\sqrt{n}$$\n",
    "\n",
    "Дельта-метод позволяет такую оценку распространить на более широкий класс случаев. Возьмем случайную величину $T_n$ и константу $\\theta$ такую, что:\n",
    "$$\\lim_{n\\to\\infty}\\sqrt{n}(T_n - \\theta) \\rightarrow N(0,1)$$\n",
    "Тогда \n",
    "$$T_n - \\theta = O(1/\\sqrt{n})$$\n",
    "\n",
    "Пусть у нас есть непрерывная функция $\\phi(x)$. Запишем разность $\\phi(T_n) - \\phi(\\theta)$ и разложим ее в ряд Тейлора с точностью до первого члена:\n",
    "\n",
    "$$\\phi(T_n) - \\phi(\\theta) = \\phi'(\\theta)(T_n-\\theta)+O\\{(T_n-\\theta)^2\\}$$\n",
    "\n",
    "Подставив сюда выражение для $\\phi(T_n) - \\phi(\\theta)$, мы получаем, что для больших $n$:\n",
    "\n",
    "$$\\sqrt{n}(\\phi(T_n) - \\phi(\\theta)) \\rightarrow N(0,{\\phi'(\\theta)}^2) $$"
   ]
  },
  {
   "cell_type": "markdown",
   "metadata": {},
   "source": [
    "## А для нашего случая величина как бы \"двумерная\" - в числителе и знаменателе\n",
    "\n",
    "Можно взглянуть на описание из [википедии](https://en.wikipedia.org/wiki/Delta_method#Multivariate_delta_method)\n",
    "\n",
    "$$f\\left( \\left[ \\begin{matrix} \\overline{y} \\\\  \\overline{x}\\end{matrix}\\right]\\right) = \\dfrac{\\overline{y}}{\\overline{x}}$$\n",
    "\n",
    "Тогда для истинного мат.ожидания это имеет вид:\n",
    "\n",
    "$$f(\\overrightarrow{\\mu}) = f\\left( \\left[ \\begin{matrix} \\mu_{y} \\\\  \\mu_{x}\\end{matrix}\\right]\\right) = \\dfrac{\\mu_{y}}{\\mu_{x}}$$\n",
    "\n",
    "Производную надо заменить на [градиент](https://en.wikipedia.org/wiki/Gradient):\n",
    "$$\\nabla f(\\overrightarrow{\\mu}) = \\left[ \\begin{matrix} \\dfrac{1}{\\mu_{x}} \\\\  -\\dfrac{\\mu_{y}}{\\mu^2_{x}}\\end{matrix}\\right]$$\n",
    "\n",
    "Дисперсия заменяется на [матрицу ковариаций](https://en.wikipedia.org/wiki/Covariance_matrix) Если использовать нотацию из Википедии, это будет:\n",
    "\n",
    "$$\\dfrac{\\Sigma}{n} = \\begin{bmatrix} \\sigma^2_y/n & \\sigma_{yx} \\\\  \\sigma_{yx} & \\sigma^2_x/n \\end{bmatrix} $$\n",
    "\n",
    "Для вычисления дисперсии остается сосчитать квадратичную форму:\n",
    "\n",
    "$$\\sigma^2_R = \\nabla f(\\overrightarrow{\\mu})^T \\begin{bmatrix} \\sigma^2_y/n & \\sigma_{yx} \\\\  \\sigma_{yx} & \\sigma^2_x/n \\end{bmatrix} \\nabla f(\\overrightarrow{\\mu}) = \\left[ \\begin{matrix} \\dfrac{1}{\\mu_{x}} \\\\  -\\dfrac{\\mu_{y}}{\\mu^2_{x}}\\end{matrix}\\right]^T\\begin{bmatrix} \\sigma^2_y/n & \\sigma_{yx} \\\\  \\sigma_{yx} & \\sigma^2_x/n \\end{bmatrix}\\left[ \\begin{matrix} \\dfrac{1}{\\mu_{x}} \\\\  -\\dfrac{\\mu_{y}}{\\mu^2_{x}}\\end{matrix}\\right]$$\n",
    "\n",
    "Все эти чудеса сложатся вот в такое выражение:\n",
    "\n",
    "$$\\sigma^2_R = \\dfrac{\\sigma^2_y}{n\\mu^2_x} - 2\\dfrac{\\mu_y\\sigma_{xy}}{\\mu^3_x} + \\dfrac{\\sigma^2_x\\mu^2_y}{n\\mu^4_x}$$\n",
    "\n",
    "Это оценка нашей дисперсии, которая фигурирует в выражении для Дельта-метода.\n",
    "\n",
    "$$\\left(\\dfrac{\\overline{y}}{\\overline{x}} - \\dfrac{\\mu_{y}}{\\mu_{x}}\\right) \\sim N(0,\\sigma^2_R)$$\n",
    "\n",
    "Мы оцениваем показатель $CTR$ в обеих группах. Поэтому нужно вычислить $(\\sigma^2_R)_{target}$ и $(\\sigma^2_R)_{control}$ и $z$-статистика для теста будет иметь вид:\n",
    "\n",
    "$$Z = \\dfrac{CTR_{target} - CTR_{control}}{\\sqrt{\\dfrac{(\\sigma^2_R)_{target}}{n}+\\dfrac{(\\sigma^2_R)_{control}}{n}}}$$"
   ]
  },
  {
   "cell_type": "code",
   "execution_count": null,
   "metadata": {},
   "outputs": [],
   "source": [
    "def delta_method_ctrs(clicks_0, views_0, clicks_1, views_1):\n",
    "    \"\"\"\n",
    "    Высчитывает двусторонние p-value для отличия CTR с помощью дельта-метода\n",
    "    :param clicks_0: np.array вида (n_experiments, n_users), клики пользователей из контрольной группы в каждом эксперименте\n",
    "    :param views_0: np.array вида (n_experiments, n_users), просмотры пользователей из контрольной группы в каждом эксперименте\n",
    "    :param clicks_1: np.array вида (n_experiments, n_users), клики пользователей из целевой группы в каждом эксперименте\n",
    "    :param views_1: np.array вида (n_experiments, n_users), просмотры пользователей из целевой группы в каждом эксперименте\n",
    "    :return: np.array вида (n_experiments), двусторонник p-value для отличия CTR с помощью дельта-метода\n",
    "    \"\"\"\n",
    "    n_experiments, n_users = views_0.shape\n",
    "\n",
    "    mean_clicks_0, var_clicks_0 = np.mean(clicks_0, axis=1), np.var(clicks_0, axis=1)\n",
    "    mean_clicks_1, var_clicks_1 = np.mean(clicks_1, axis=1), np.var(clicks_1, axis=1)\n",
    "\n",
    "    mean_views_0, var_views_0 = np.mean(views_0, axis=1), np.var(views_0, axis=1)\n",
    "    mean_views_1, var_views_1 = np.mean(views_1, axis=1), np.var(views_1, axis=1)\n",
    "\n",
    "    cov_0 = np.mean((clicks_0 - mean_clicks_0.reshape(-1, 1)) * (views_0 - mean_views_0.reshape(-1, 1)),\n",
    "                    axis=1)\n",
    "    cov_1 = np.mean((clicks_1 - mean_clicks_1.reshape(-1, 1)) * (views_1 - mean_views_1.reshape(-1, 1)),\n",
    "                    axis=1)\n",
    "\n",
    "    var_0 = var_clicks_0 / mean_views_0 ** 2 + var_views_0 * mean_clicks_0 ** 2 / mean_views_0 ** 4 - 2 * mean_clicks_0 / mean_views_0 ** 3 * cov_0\n",
    "    var_1 = var_clicks_1 / mean_views_1 ** 2 + var_views_1 * mean_clicks_1 ** 2 / mean_views_1 ** 4 - 2 * mean_clicks_1 / mean_views_1 ** 3 * cov_1\n",
    "\n",
    "    ctrs_0 = np.sum(clicks_0, axis=1) / np.sum(views_0, axis=1)\n",
    "    ctrs_1 = np.sum(clicks_1, axis=1) / np.sum(views_1, axis=1)\n",
    "\n",
    "    z_stats = (ctrs_1 - ctrs_0) / np.sqrt(var_0 / n_users + var_1 / n_users)\n",
    "    p_ctr_delta = 2 * np.minimum(scipy.stats.norm(0, 1).cdf(z_stats), 1 - scipy.stats.norm(0, 1).cdf(z_stats))\n",
    "    return p_ctr_delta"
   ]
  },
  {
   "cell_type": "markdown",
   "metadata": {},
   "source": [
    "Варьируем $\\sigma$"
   ]
  },
  {
   "cell_type": "code",
   "execution_count": null,
   "metadata": {},
   "outputs": [],
   "source": [
    "for sigma2 in sigma_list:\n",
    "    folder_path = f'test_data/experimens={2000}/sample_size={5000}/uplift={0.2}/success_rate={0.02}/beta={1000}/skew={sigma2}'\n",
    "    views_a_1, views_a_2, views_b,\\\n",
    "        success_rate_a_1, success_rate_a_2, success_rate_b,\\\n",
    "        clicks_a_1, clicks_a_2, clicks_b = data_loader(folder_path)\n",
    "    p_values_aa = delta_method_ctrs(\n",
    "        clicks_a_1, views_a_1, clicks_a_2, views_a_2)\n",
    "    p_values_ab = delta_method_ctrs(\n",
    "        clicks_a_1, views_a_1, clicks_b, views_b)\n",
    "    p_value_saver(folder_path, 'delta_ctr', p_values_ab, p_values_aa)\n",
    "    "
   ]
  },
  {
   "cell_type": "markdown",
   "metadata": {},
   "source": [
    "Варьируем $\\beta$"
   ]
  },
  {
   "cell_type": "code",
   "execution_count": null,
   "metadata": {},
   "outputs": [],
   "source": [
    "for beta in beta_list:\n",
    "    folder_path = f'test_data/experimens={2000}/sample_size={5000}/uplift={0.2}/success_rate={0.02}/beta={beta}/skew={1}'\n",
    "    views_a_1, views_a_2, views_b,\\\n",
    "        success_rate_a_1, success_rate_a_2, success_rate_b,\\\n",
    "        clicks_a_1, clicks_a_2, clicks_b = data_loader(folder_path)\n",
    "    p_values_aa = delta_method_ctrs(\n",
    "        clicks_a_1, views_a_1, clicks_a_2, views_a_2)\n",
    "    p_values_ab = delta_method_ctrs(\n",
    "        clicks_a_1, views_a_1, clicks_b, views_b)\n",
    "    p_value_saver(folder_path, 'delta_ctr', p_values_ab, p_values_aa)"
   ]
  },
  {
   "cell_type": "code",
   "execution_count": null,
   "metadata": {},
   "outputs": [],
   "source": []
  },
  {
   "cell_type": "code",
   "execution_count": null,
   "metadata": {},
   "outputs": [],
   "source": []
  },
  {
   "cell_type": "markdown",
   "metadata": {},
   "source": [
    "## Рисуем одну картинку по готовым данным (возвращаем имя картинки)"
   ]
  },
  {
   "cell_type": "code",
   "execution_count": null,
   "metadata": {},
   "outputs": [],
   "source": [
    "def compare_tests(tests_list,\n",
    "                  experiments=2000,\n",
    "                  sample_size=5000,\n",
    "                  uplift=0.2,\n",
    "                  success_rate=0.02,\n",
    "                  beta=1000,\n",
    "                  sigma2=1):\n",
    "    folder_path = f'test_data/experimens={experiments}/sample_size={sample_size}/uplift={uplift}/success_rate={success_rate}/beta={beta}/skew={sigma2}'\n",
    "    _, _, views_b, _, _, success_rate_b, _, _, _ = data_loader(folder_path)\n",
    "    \n",
    "    p_values_ab, p_values_aa = [], []\n",
    "    for title in tests_list:\n",
    "        ab = np.load(folder_path+'/p_values_ab_'+title+'.npy')\n",
    "        aa = np.load(folder_path+'/p_values_aa_'+title+'.npy')\n",
    "        p_values_ab.append(ab)\n",
    "        p_values_aa.append(aa)\n",
    "\n",
    "    views_target = views_b\n",
    "    ground_truth_ctr_target = success_rate_b\n",
    "    color = colors[0]\n",
    "\n",
    "    test_data = {}\n",
    "    for i, j in enumerate(tests_list):\n",
    "        test_data[j] = (p_values_ab[i], p_values_aa[i], colors[i+1])\n",
    "    pict = plot_summary(test_data, ground_truth_ctr_target, views_target)\n",
    "    name = f'{folder_path}.png'.replace('/','_')\n",
    "    \n",
    "    pict.savefig(f'test_data/{name}')\n",
    "    return name"
   ]
  },
  {
   "cell_type": "markdown",
   "metadata": {},
   "source": [
    "## Собираем графики для $\\sigma$ в gif"
   ]
  },
  {
   "cell_type": "code",
   "execution_count": null,
   "metadata": {
    "scrolled": false
   },
   "outputs": [],
   "source": [
    "png_list = []\n",
    "for sigma in sigma_list:\n",
    "    png_list.append(compare_tests(\n",
    "        ['mann_whitney', 'bootstrap', 'delta_ctr'], sigma2=sigma))\n",
    "to_gif(png_list , 'delta_skew.gif')"
   ]
  },
  {
   "cell_type": "markdown",
   "metadata": {},
   "source": [
    "<img src=\"delta_skew.gif\" width=\"800\">"
   ]
  },
  {
   "cell_type": "markdown",
   "metadata": {},
   "source": [
    "Чувствительность дельта-метода примерно такая же , как и у бутстрепа, но при слишком перекошенном распределении просмотров он перестает контролировать FPR. \n",
    "\n",
    "## Собираем графики для $\\beta$ в gif"
   ]
  },
  {
   "cell_type": "code",
   "execution_count": null,
   "metadata": {
    "scrolled": false
   },
   "outputs": [],
   "source": [
    "png_list = []\n",
    "for _beta in beta_list:\n",
    "    png_list.append(compare_tests(\n",
    "        ['mann_whitney', 'bootstrap', 'delta_ctr'], beta=_beta))"
   ]
  },
  {
   "cell_type": "code",
   "execution_count": null,
   "metadata": {},
   "outputs": [],
   "source": [
    "os.chdir('test_data')\n",
    "to_gif(png_list, 'delta_beta.gif')"
   ]
  },
  {
   "cell_type": "markdown",
   "metadata": {},
   "source": [
    "<img src=\"delta_beta.gif\" width=\"800\">"
   ]
  },
  {
   "cell_type": "markdown",
   "metadata": {},
   "source": [
    "# Тест Юэна-Уэлча\n",
    "\n",
    "Вариация на тему t-теста, у которой отпиливаются концы распределения. Смотреть [тут](https://github.com/pileyan/Yuen_t_test)"
   ]
  },
  {
   "cell_type": "code",
   "execution_count": null,
   "metadata": {},
   "outputs": [],
   "source": [
    "from scipy import stats\n",
    "import numpy as np\n",
    "\n",
    "\n",
    "def xbar_tg_fun(x, g):\n",
    "    n = len(x)\n",
    "    return 1/(n-2*g)*np.sum(x[g:-g])\n",
    "\n",
    "\n",
    "def xbar_wg_fun(x, g):\n",
    "    n = len(x)\n",
    "    # return 1/n * ((g + 1)*x[g] + np.sum(x[g+1:-g-1]) + (g + 1)*x[-g-1])\n",
    "    i = np.arange(1, n+1)  # to make indexing really easy\n",
    "    return 1/n * ((g + 1)*x[i == g+1]\n",
    "                  + np.sum(x[(i >= g+2) & (i <= n-g-1)])\n",
    "                  + (g + 1)*x[i == n-g])[0]\n",
    "def SSD_wg_fun(x, g):\n",
    "    n = len(x)\n",
    "    xbar_wg = xbar_wg_fun(x, g)\n",
    "    # return ((g + 1)*(x[g] - xbar_wg)**2\n",
    "    #         + np.sum((x[g+1:-g-1] - xbar_wg)**2)\n",
    "    #         + (g + 1)*(x[-g-1] - xbar_wg)**2)\n",
    "    i = np.arange(1, n + 1)  # to make indexing really easy\n",
    "    return ((g + 1)*(x[i == g+1] - xbar_wg)**2\n",
    "            + np.sum((x[(i >= g+2) & (i <= n-g-1)] - xbar_wg)**2)\n",
    "            + (g + 1)*(x[i == n-g] - xbar_wg)**2)[0]\n",
    "\n",
    "\n",
    "def s_wg2_fun(x, g):\n",
    "    h = h_fun(x, g)\n",
    "    SSD_wg = SSD_wg_fun(x, g)\n",
    "    return SSD_wg / (h-1)\n",
    "\n",
    "\n",
    "def h_fun(x, g):\n",
    "    n = len(x)\n",
    "    return n - 2*g\n",
    "\n",
    "\n",
    "def ngh(x, trim):\n",
    "    n = len(x)\n",
    "    g = int(trim*n)\n",
    "    h = h_fun(x, g)\n",
    "    return n, g, h\n",
    "\n",
    "def t_unequal_var_fun(x1, x2, trim):\n",
    "    n1, g1, h1 = ngh(x1, trim)\n",
    "    n2, g2, h2 = ngh(x2, trim)\n",
    "\n",
    "    x1bar_tg = xbar_tg_fun(x1, g1)\n",
    "    x2bar_tg = xbar_tg_fun(x2, g2)\n",
    "    num = (x1bar_tg - x2bar_tg)\n",
    "\n",
    "    s1_wg2 = s_wg2_fun(x1, g1)\n",
    "    s2_wg2 = s_wg2_fun(x2, g2)\n",
    "    den = np.sqrt(s1_wg2 / h1 + s2_wg2 / h2)\n",
    "\n",
    "    return num/den\n",
    "\n",
    "\n",
    "def f_unequal_var_fun(x1, x2, trim):\n",
    "    n1, g1, h1 = ngh(x1, trim)\n",
    "    n2, g2, h2 = ngh(x2, trim)\n",
    "\n",
    "    c = c_fun(x1, x2, trim)\n",
    "    f_recip = c**2/(h1-1) + (1-c)**2/(h2-1)\n",
    "    return 1/f_recip\n",
    "\n",
    "\n",
    "def c_fun(x1, x2, trim):\n",
    "    n1, g1, h1 = ngh(x1, trim)\n",
    "    n2, g2, h2 = ngh(x2, trim)\n",
    "\n",
    "    s1_wg2 = s_wg2_fun(x1, g1)\n",
    "    s2_wg2 = s_wg2_fun(x2, g2)\n",
    "    return (s1_wg2/h1) / (s1_wg2/h1 + s2_wg2/h2)\n",
    "\n",
    "def t_equal_var_fun(x1, x2, trim):\n",
    "    n1, g1, h1 = ngh(x1, trim)\n",
    "    n2, g2, h2 = ngh(x2, trim)\n",
    "\n",
    "    x1bar_tg = xbar_tg_fun(x1, g1)\n",
    "    x2bar_tg = xbar_tg_fun(x2, g2)\n",
    "    num = (x1bar_tg - x2bar_tg)\n",
    "\n",
    "    SSD1_wg = SSD_wg_fun(x1, g1)\n",
    "    SSD2_wg = SSD_wg_fun(x2, g2)\n",
    "    den = np.sqrt((SSD1_wg + SSD2_wg) / (h1 + h2 - 2) * (1/h1 + 1/h2))\n",
    "\n",
    "    return num/den\n",
    "\n",
    "\n",
    "def f_equal_var_fun(x1, x2, trim):\n",
    "    n1, g1, h1 = ngh(x1, trim)\n",
    "    n2, g2, h2 = ngh(x2, trim)\n",
    "\n",
    "    return h1 + h2 - 2\n",
    "\n",
    "def yuen_t_test(x1, x2, trim, equal_var):\n",
    "    x1 = np.sort(x1)\n",
    "    x2 = np.sort(x2)\n",
    "    if equal_var:\n",
    "        t_fun = t_equal_var_fun\n",
    "        f_fun = f_equal_var_fun\n",
    "    else:\n",
    "        t_fun = t_unequal_var_fun\n",
    "        f_fun = f_unequal_var_fun\n",
    "    t = t_fun(x1, x2, trim)\n",
    "    df = f_fun(x1, x2, trim)\n",
    "    pval = 2*stats.t.sf(np.abs(t), df)\n",
    "    return t, pval"
   ]
  },
  {
   "cell_type": "code",
   "execution_count": null,
   "metadata": {},
   "outputs": [],
   "source": [
    "for sigma2 in sigma_list:\n",
    "    folder_path = f'test_data/experimens={2000}/sample_size={5000}/uplift={0.2}/success_rate={0.02}/beta={1000}/skew={sigma2}'\n",
    "    views_a_1, views_a_2, views_b,\\\n",
    "        success_rate_a_1, success_rate_a_2, success_rate_b,\\\n",
    "        clicks_a_1, clicks_a_2, clicks_b = data_loader(folder_path)\n",
    "    \n",
    "    ctrs_a_1 = clicks_a_1/views_a_1\n",
    "    ctrs_a_2 = clicks_a_2/views_a_2\n",
    "    ctrs_b = clicks_b/views_b\n",
    "    \n",
    "    p_values_aa = np.array([yuen_t_test(clicks_a_1[i,:],\n",
    "                        clicks_a_2[i,:], \n",
    "                        trim = 0.025, \n",
    "                        equal_var = False)[1] for i in range(2000)])\n",
    "    \n",
    "    p_values_ab = np.array([yuen_t_test(clicks_a_1[i,:],\n",
    "                        clicks_b[i,:], \n",
    "                        trim = 0.025, \n",
    "                        equal_var = False)[1] for i in range(2000)])\n",
    "    \n",
    "    p_value_saver(folder_path, 'yuen_welch_clicks_005', p_values_ab, p_values_aa)\n",
    "    \n",
    "    p_values_aa = np.array([yuen_t_test(ctrs_a_1[i,:],\n",
    "                        ctrs_a_2[i,:], \n",
    "                        trim = 0.025, \n",
    "                        equal_var = False)[1] for i in range(2000)])\n",
    "    \n",
    "    p_values_ab = np.array([yuen_t_test(ctrs_a_1[i,:],\n",
    "                        ctrs_b[i,:], \n",
    "                        trim = 0.025, \n",
    "                        equal_var = False)[1] for i in range(2000)])\n",
    "    \n",
    "    p_value_saver(folder_path, 'yuen_welch_ctrs_005', p_values_ab, p_values_aa)"
   ]
  },
  {
   "cell_type": "code",
   "execution_count": null,
   "metadata": {},
   "outputs": [],
   "source": [
    "png_list = []\n",
    "for sigma in sigma_list:\n",
    "    png_list.append(compare_tests(\n",
    "        ['mann_whitney', 'bootstrap', 'delta_ctr', 't_test_buckets','yuen_welch_clicks_005','yuen_welch_ctrs_005'], sigma2=sigma))"
   ]
  },
  {
   "cell_type": "code",
   "execution_count": null,
   "metadata": {},
   "outputs": [],
   "source": [
    "os.chdir('test_data')"
   ]
  },
  {
   "cell_type": "code",
   "execution_count": null,
   "metadata": {},
   "outputs": [],
   "source": [
    "to_gif(png_list, '../yuen_welch.gif')"
   ]
  },
  {
   "cell_type": "markdown",
   "metadata": {},
   "source": [
    "<img src=\"yuen_welch.gif\" width=\"800\">"
   ]
  },
  {
   "cell_type": "markdown",
   "metadata": {},
   "source": [
    "Перекос в распределении истинного CTR примерно одинаково обрабатывается дельта-методом и бутстрепом, однако при большой вариабельности оба метода проигрывают старому-доброму Манну-Уитни.\n",
    "\n",
    "# Бакетное преобразование\n",
    "\n",
    "Предположение:\n",
    "* Мы не влияем на просмотры\n",
    "\n",
    "Еще один подход, который очень часто применяется - бакетное преобразование. Надо разбить пользователей на n \"корзинок\" (\"бакетов\"). Нужно гарантировать, что каждый пользователь попадет только в один бакет и пользователи по бакетам будут распределены равномерно. Это можно гарантировать с помощью техники хеширования с солью. О применении такого в Авито можно прочитать [тут](https://habr.com/ru/company/avito/blog/454164/). Каждый бакет теперь становится как бы \"метапользователем\", участвующим в эксперименте. И внутри такого \"метапользователя\" показатель нужно как-то агрегировать. Обычно вычисляют среднюю метрику в бакете, но можно, например, подсчитать медиану. Скажем, если у нас 100 бакетов для теста и контроля, получается будто мы тест проводим на группах по 100 пользователей в каждой :)\n",
    "\n",
    "Поверх бакетного преобразования можно, например, применить стандартный t-тест (если +- выполнены его предположения) или тест Манна-Уитни.\n",
    "\n",
    "\n"
   ]
  },
  {
   "cell_type": "code",
   "execution_count": null,
   "metadata": {},
   "outputs": [],
   "source": [
    "def bucketization(ctrs_0, weights_0, ctrs_1, weights_1, n_buckets=100):\n",
    "    \"\"\"\n",
    "    Разбиваем на бакеты с весами\n",
    "    :param ctrs_0: np.array shape (n_experiments, n_users), CTRs of every user from control group in every experiment\n",
    "    :param weights_0: np.array (n_experiments, n_users), веса пользователей в контрольной группе\n",
    "    :param ctrs_1: np.array (n_experiments, n_users), CTRs of every user from treatment group in every experiment\n",
    "    :param weights_1: np.array (n_experiments, n_users), веса пользователей в целевой группе\n",
    "    :param n_buckets: int, кол-во бакетов\n",
    "    :return: np.array shape (n_experiments), средневзвешенные метрики в каждом бакете\n",
    "    \"\"\"\n",
    "\n",
    "    n_experiments, n_users = ctrs_0.shape\n",
    "\n",
    "    values_0 = np.zeros((n_experiments, n_buckets))\n",
    "    values_1 = np.zeros((n_experiments, n_buckets))\n",
    "\n",
    "    for b in np.arange(n_buckets):\n",
    "        ind = np.arange(b * n_users / n_buckets, b * n_users / n_buckets + n_users / n_buckets).astype(np.int)\n",
    "        values_0[:, b] = np.sum(ctrs_0[:, ind] * weights_0[:, ind], axis=1) / np.sum(weights_0[:, ind], axis=1)\n",
    "        values_1[:, b] = np.sum(ctrs_1[:, ind] * weights_1[:, ind], axis=1) / np.sum(weights_1[:, ind], axis=1)\n",
    "\n",
    "    return values_0, values_1"
   ]
  },
  {
   "cell_type": "code",
   "execution_count": null,
   "metadata": {},
   "outputs": [],
   "source": [
    "# t-тест поверх бакетов\n",
    "def t_test_buckets(ctrs_0, weights_0, ctrs_1, weights_1, n_buckets=50):\n",
    "    return t_test(*bucketization(ctrs_0, weights_0, ctrs_1, weights_1, n_buckets))\n",
    "\n",
    "# тест Манна-Уитни поверх бакетов\n",
    "def mannwhitney_buckets(ctrs_0, weights_0, ctrs_1, weights_1, n_buckets=50):\n",
    "    return mannwhitney(*bucketization(ctrs_0, weights_0, ctrs_1, weights_1, n_buckets))"
   ]
  },
  {
   "cell_type": "markdown",
   "metadata": {},
   "source": [
    "Варьируем $\\sigma$"
   ]
  },
  {
   "cell_type": "code",
   "execution_count": null,
   "metadata": {},
   "outputs": [],
   "source": [
    "os.chdir('..')"
   ]
  },
  {
   "cell_type": "code",
   "execution_count": null,
   "metadata": {},
   "outputs": [],
   "source": [
    "os.getcwd()"
   ]
  },
  {
   "cell_type": "code",
   "execution_count": null,
   "metadata": {},
   "outputs": [],
   "source": [
    "for sigma2 in sigma_list:\n",
    "    folder_path = f'test_data/experimens={2000}/sample_size={5000}/uplift={0.2}/success_rate={0.02}/beta={1000}/skew={sigma2}'\n",
    "    views_a_1, views_a_2, views_b,\\\n",
    "        success_rate_a_1, success_rate_a_2, success_rate_b,\\\n",
    "        clicks_a_1, clicks_a_2, clicks_b = data_loader(folder_path)\n",
    "    \n",
    "    p_values_aa = t_test_buckets(\n",
    "        clicks_a_1 / views_a_1, views_a_1,\n",
    "        clicks_a_2 / views_a_2, views_a_2)\n",
    "\n",
    "    p_values_ab = t_test_buckets(\n",
    "        clicks_a_1 / views_a_1, views_a_1,\n",
    "        clicks_b / views_b, views_b)\n",
    "    \n",
    "    p_value_saver(folder_path, 't_test_buckets', p_values_ab, p_values_aa)\n",
    "    \n",
    "    p_values_aa = mannwhitney_buckets(\n",
    "        clicks_a_1 / views_a_1, views_a_1,\n",
    "        clicks_a_2 / views_a_2, views_a_2)\n",
    "\n",
    "    p_values_ab = mannwhitney_buckets(\n",
    "        clicks_a_1 / views_a_1, views_a_1,\n",
    "        clicks_b / views_b, views_b)\n",
    "    \n",
    "    p_value_saver(folder_path, 'mann_whitney_buckets', p_values_ab, p_values_aa)"
   ]
  },
  {
   "cell_type": "code",
   "execution_count": null,
   "metadata": {},
   "outputs": [],
   "source": [
    "png_list = []\n",
    "for sigma in sigma_list:\n",
    "    png_list.append(compare_tests(\n",
    "        ['mann_whitney', 'bootstrap', 'delta_ctr', 't_test_buckets','mann_whitney_buckets'], sigma2=sigma))"
   ]
  },
  {
   "cell_type": "code",
   "execution_count": null,
   "metadata": {},
   "outputs": [],
   "source": [
    "os.chdir('test_data')"
   ]
  },
  {
   "cell_type": "code",
   "execution_count": null,
   "metadata": {},
   "outputs": [],
   "source": [
    "to_gif(png_list, '../buckets_skew.gif')"
   ]
  },
  {
   "cell_type": "markdown",
   "metadata": {},
   "source": [
    "<img src=\"buckets_skew.gif\" width=\"800\">"
   ]
  },
  {
   "cell_type": "markdown",
   "metadata": {},
   "source": [
    "Варьируем $\\beta$"
   ]
  },
  {
   "cell_type": "code",
   "execution_count": null,
   "metadata": {},
   "outputs": [],
   "source": [
    "for i in os.listdir():\n",
    "    if 'png' in i:\n",
    "        os.remove(i)\n",
    "os.chdir('..')"
   ]
  },
  {
   "cell_type": "code",
   "execution_count": null,
   "metadata": {},
   "outputs": [],
   "source": [
    "for beta in beta_list:\n",
    "    folder_path = f'test_data/experimens={2000}/sample_size={5000}/uplift={0.2}/success_rate={0.02}/beta={beta}/skew={1}'\n",
    "    views_a_1, views_a_2, views_b,\\\n",
    "        success_rate_a_1, success_rate_a_2, success_rate_b,\\\n",
    "        clicks_a_1, clicks_a_2, clicks_b = data_loader(folder_path)\n",
    "    \n",
    "    p_values_aa = t_test_buckets(\n",
    "        clicks_a_1 / views_a_1, views_a_1,\n",
    "        clicks_a_2 / views_a_2, views_a_2)\n",
    "\n",
    "    p_values_ab = t_test_buckets(\n",
    "        clicks_a_1 / views_a_1, views_a_1,\n",
    "        clicks_b / views_b, views_b)\n",
    "    \n",
    "    p_value_saver(folder_path, 't_test_buckets', p_values_ab, p_values_aa)\n",
    "    \n",
    "    p_values_aa = mannwhitney_buckets(\n",
    "        clicks_a_1 / views_a_1, views_a_1,\n",
    "        clicks_a_2 / views_a_2, views_a_2)\n",
    "\n",
    "    p_values_ab = mannwhitney_buckets(\n",
    "        clicks_a_1 / views_a_1, views_a_1,\n",
    "        clicks_b / views_b, views_b)\n",
    "    \n",
    "    p_value_saver(folder_path, 'mann_whitney_buckets', p_values_ab, p_values_aa)"
   ]
  },
  {
   "cell_type": "code",
   "execution_count": null,
   "metadata": {},
   "outputs": [],
   "source": [
    "png_list = []\n",
    "for beta in beta_list:\n",
    "    png_list.append(compare_tests(\n",
    "        ['mann_whitney', 'bootstrap', 'delta_ctr', 't_test_buckets','mann_whitney_buckets'], beta=beta))"
   ]
  },
  {
   "cell_type": "code",
   "execution_count": null,
   "metadata": {},
   "outputs": [],
   "source": [
    "to_gif(['test_data/'+x for x in png_list], 'buckets_beta.gif')"
   ]
  },
  {
   "cell_type": "markdown",
   "metadata": {},
   "source": [
    "<img src=\"buckets_beta.gif\" width=\"800\">"
   ]
  },
  {
   "cell_type": "markdown",
   "metadata": {},
   "source": [
    "# Линеаризация\n",
    "\n",
    "Еще один крутой метод для метрик-отношений это линеаризация. Посмотреть описание можно\n",
    "[тут](https://research.yandex.com/publications/148). \n",
    "\n",
    "**Предположение:** Мы не влияем экспериментом на просмотры\n",
    "\n",
    "Очевидно, что клики и просмотры скоррелированны: больше просмотров - больше кликов. Построим линейную аппроксимацию кликов с помощью просмотров в контрольной группе (А если не говорить умными словами, это просто сумма кликов, деленная на сумму просмотров), то есть:\n",
    "$$clicks = k*views$$\n",
    "\n",
    "\n",
    "Посчитаем для каждого пользователя \"линеаризованные\" клики:\n",
    "\n",
    "$$LinearizedClicks = Clicks - k*views$$\n",
    "\n",
    "А на этой метрике сосчитаем обычный t-тест и, например, Манна-Уитни. Если мы своим тестом не влияем на просмотры, есть теоретические гарантии, что изменение в линеаризованных кликах будет сонаправленным с изменением в общегрупповом $CTR$ и в кликах. "
   ]
  },
  {
   "cell_type": "code",
   "execution_count": null,
   "metadata": {},
   "outputs": [],
   "source": [
    "def linearization_of_clicks(clicks_0, views_0, clicks_1, views_1):\n",
    "    \"\"\"\n",
    "    Находим коэффициент k для контрольной группы, такой что clicks = k * views \n",
    "    и возвращаем метрику clicks - k * views \n",
    "    :param clicks_0: np.array видв(n_experiments, n_users), clicks of every user from control group in every experiment\n",
    "    :param views_0: np.array shape (n_experiments, n_users), views of every user from control group in every experiment\n",
    "    :param clicks_1: np.array shape (n_experiments, n_users), clicks of every user from treatment group in every experiment\n",
    "    :param views_1: np.array shape (n_experiments, n_users), views of every user from treatment group in every experiment\n",
    "    :return: (np.array, np_array) shape (n_experiments), linearized clicks for every user in every experiment\n",
    "    \"\"\"\n",
    "    k = clicks_0.sum(axis=1) / views_0.sum(axis=1)\n",
    "    L_0 = clicks_0 - (k*views_0.T).T\n",
    "    L_1 = clicks_1 - (k*views_1.T).T\n",
    "    return L_0, L_1"
   ]
  },
  {
   "cell_type": "markdown",
   "metadata": {},
   "source": [
    "Варьируем $\\sigma$"
   ]
  },
  {
   "cell_type": "code",
   "execution_count": null,
   "metadata": {},
   "outputs": [],
   "source": [
    "for sigma2 in sigma_list:\n",
    "    folder_path = f'test_data/experimens={2000}/sample_size={5000}/uplift={0.2}/success_rate={0.02}/beta={1000}/skew={sigma2}'\n",
    "    views_a_1, views_a_2, views_b,\\\n",
    "        success_rate_a_1, success_rate_a_2, success_rate_b,\\\n",
    "        clicks_a_1, clicks_a_2, clicks_b = data_loader(folder_path)\n",
    "    \n",
    "    p_values_aa = t_test(*linearization_of_clicks(clicks_a_1, views_a_1, clicks_a_2, views_a_2))\n",
    "\n",
    "    p_values_ab = t_test(*linearization_of_clicks(clicks_a_1, views_a_1, clicks_b, views_b))\n",
    "    \n",
    "    p_value_saver(folder_path, 't_test_linearized', p_values_ab, p_values_aa)\n",
    "    \n",
    "    p_values_aa = mannwhitney(*linearization_of_clicks(clicks_a_1, views_a_1, clicks_a_2, views_a_2))\n",
    "\n",
    "    p_values_ab = mannwhitney(*linearization_of_clicks(clicks_a_1, views_a_1, clicks_b, views_b))\n",
    "    \n",
    "    \n",
    "    p_value_saver(folder_path, 'mann_whitney_linearized', p_values_ab, p_values_aa)"
   ]
  },
  {
   "cell_type": "code",
   "execution_count": null,
   "metadata": {},
   "outputs": [],
   "source": [
    "png_list = []\n",
    "for sigma in sigma_list:\n",
    "    png_list.append(compare_tests(\n",
    "        ['mann_whitney', 'bootstrap', 'mann_whitney_buckets', 't_test_linearized','mann_whitney_linearized'], sigma2=sigma))"
   ]
  },
  {
   "cell_type": "code",
   "execution_count": null,
   "metadata": {},
   "outputs": [],
   "source": [
    "to_gif(['test_data/'+x for x in png_list], 'linearization_skew.gif')"
   ]
  },
  {
   "cell_type": "markdown",
   "metadata": {},
   "source": [
    "<img src=\"linearization_skew.gif\" width=\"800\">"
   ]
  },
  {
   "cell_type": "markdown",
   "metadata": {},
   "source": [
    "При достаточно высокой скошенности линеаризация работает примерно так же, как бутстреп, но при очень высокой асимметрии производительность линеаризации падает. Обратите внимание, что p-value при очень высокой асимметрии перестает контролировать FPR. Зато в этот момент получше сработал тест манна-уитни на линеаризованной метрике, но, как видите, Манн-Уитни поверх бакетов здесь себя показывает весьма хорошо даже при серьезной асимметрии.\n",
    "\n",
    "Варьируем $\\beta$"
   ]
  },
  {
   "cell_type": "code",
   "execution_count": null,
   "metadata": {},
   "outputs": [],
   "source": [
    "for beta in beta_list:\n",
    "    folder_path = f'test_data/experimens={2000}/sample_size={5000}/uplift={0.2}/success_rate={0.02}/beta={beta}/skew={1}'\n",
    "    views_a_1, views_a_2, views_b,\\\n",
    "        success_rate_a_1, success_rate_a_2, success_rate_b,\\\n",
    "        clicks_a_1, clicks_a_2, clicks_b = data_loader(folder_path)\n",
    "    \n",
    "    p_values_aa = t_test(*linearization_of_clicks(clicks_a_1, views_a_1, clicks_a_2, views_a_2))\n",
    "\n",
    "    p_values_ab = t_test(*linearization_of_clicks(clicks_a_1, views_a_1, clicks_b, views_b))\n",
    "    \n",
    "    p_value_saver(folder_path, 't_test_linearized', p_values_ab, p_values_aa)\n",
    "    \n",
    "    p_values_aa = mannwhitney(*linearization_of_clicks(clicks_a_1, views_a_1, clicks_a_2, views_a_2))\n",
    "\n",
    "    p_values_ab = mannwhitney(*linearization_of_clicks(clicks_a_1, views_a_1, clicks_b, views_b))\n",
    "    \n",
    "    \n",
    "    p_value_saver(folder_path, 'mann_whitney_linearized', p_values_ab, p_values_aa)"
   ]
  },
  {
   "cell_type": "code",
   "execution_count": null,
   "metadata": {},
   "outputs": [],
   "source": [
    "png_list = []\n",
    "for beta in beta_list:\n",
    "    png_list.append(compare_tests(\n",
    "        ['mann_whitney', 'bootstrap', 'mann_whitney_buckets', 't_test_linearized','mann_whitney_linearized'], beta=beta))"
   ]
  },
  {
   "cell_type": "code",
   "execution_count": null,
   "metadata": {},
   "outputs": [],
   "source": [
    "to_gif(['test_data/'+x for x in png_list], 'linearization_beta.gif')"
   ]
  },
  {
   "cell_type": "markdown",
   "metadata": {},
   "source": [
    "<img src=\"linearization_beta.gif\" width=\"800\">"
   ]
  },
  {
   "cell_type": "markdown",
   "metadata": {},
   "source": [
    "Здесь линеаризация с t-тестом по качеству похожа на бутстреп. Манн-уитни на линеаризованной метрике работает так себе (подумайте, почему).\n",
    "В целом производительность линеаризации сопоставима с бутстрепом, дельта-методом и разбиением на бакеты. Все они учитывают просмотры пользователей, что повышает производительность при умеренной дисперсии CTR . Тем не менее, вы всегда должны проверять их работоспособность на своих данных.\n",
    "\n",
    "В голосовом помощнике Маруся мы обычно используем тест Манна-Уитни поверх бакетов для быстрого анализа показателей. Для приемки поисковых экспериментов и для двойной проверки особенно важных экспериментов мы используем Пуассоновский бутстреп."
   ]
  },
  {
   "cell_type": "markdown",
   "metadata": {},
   "source": [
    "# Поюзерные метрики\n",
    "\n",
    "Как видите, с общегрупповым CTR может быть непросто. Z-тест для них напрямую, так как предположения Z-теста часто нарушаются. Поэтому мы и стали изобретать бутстреп, дельта-метод и т.д. На самом деле мы можем ставить тесты над наблюдаемыми пользовательскими CTR. Кажется, что если срежний поюзерный CTR увеличится, то увеличится и общее количество кликов, но это НЕ ТАК. Это будет так только при важном дополнении – поюзерный CTR и его uplift НЕ ЗАВИСИТ от просмотров.\n",
    "\n",
    "На всякий случай, вот пример, когда среднего рост поюзерного CTR не приводит к росту кликов. \n",
    "Пусть в тестовой группе 100 человек: у 99 из них по 100 просмотров, а у одного – 100000. Пусть начальный CTR каждого пользователя составляет 2%. \n",
    "\n",
    "Увеличим CTR 99 пользователей (у которых по 100 просмотров) в 2 раза, а у пользователя с 100000 просмотров – уменьшим CTR в 2 раза. Средний CTR пользователя увеличится примерно в 2 раза, а общее количество кликов упадет, потому что почти все принес пользователь с 100000 просмотров. \n",
    "\n",
    "Если в ваших данных есть зависимость CTR пользователей от просмотров (например, более активные пользователи имеют существенно более высокий CTR), то для вас такие методы не подойдут.\n",
    "\n",
    "Во всех дальнейших тестах мы будем предполагать, что CTR пользователей (и uplift в CTR пользователей) и просмотры независимы."
   ]
  },
  {
   "cell_type": "markdown",
   "metadata": {},
   "source": [
    "# t-тест на поюзерном CTR\n",
    "\n",
    "В прошлый раз мы считали t-тест на кликах. Точно таким же образом его можно посчитать на пользовательских CTR."
   ]
  },
  {
   "cell_type": "markdown",
   "metadata": {},
   "source": [
    "Считается очень просто: по каждому пользователю получаем $$CTR_u = \\dfrac{clicks_u}{views_u}$$ и уже над этой метрикой запускаем t-тест.\n",
    "\n",
    "Сразу разберем еще один трюк - сглаживание CTR.\n",
    "\n",
    "**Дополнительные предположения:**\n",
    "\n",
    "* мы не влияем на просмотры\n",
    "* CTR не зависит от просмотров\n",
    "\n",
    "Для CTR пользователей предположение о \"независимых, одинаково распределенных случайных величинах\" как будто бы справедливо, потому что пользователи независимы, поэтому можно попробовать использовать t-тест. Мы ожидаем, что мощность этого теста будет низкой, потому что пользователи с небольшим количеством просмотров (и, как следствие, зашумленной оценкой CTR пользователей) могут иметь такой же CTR, как и пользователи с большим количеством просмотров."
   ]
  },
  {
   "cell_type": "markdown",
   "metadata": {},
   "source": [
    "# t-тест на сглаженном CTR пользователей\n",
    "\n",
    "**Предположения**: \n",
    "* Поюзерный CTR (и его uplift) не зависит от просмотров\n",
    "* Мы своим тестом не влияем на просмотры\n",
    "\n",
    "**Проблемы**:\n",
    "* Нет теоретических гарантий\n",
    "\n",
    "Проблема t-тестом на поюзерном CTR в том, что у нас есть пользователи с небольшим количеством просмотров, а их CTR сильно зашумлен. Мы почти ничего не знаем о CTR пользователей, у с 3 просмотрами, независимо от количества их кликов. Когда у пользователя есть 20 просмотров, мы можем сделать приемлемую оценку CTR этого пользователя. А если у пользователя 200 просмотров, мы можем $\\pm$ точно оценить его CTR.\n",
    "\n",
    "В бутстрепе мы с вами вводили \"веса\" для учета количества просмотров в тесте и фактически получили общегрупповой CTR. Здесь будет нечто похожее. Давайте \"сгладим\" наши оценки CTR (это называется сглаживанием Лапласа. История его крутая. Читать про задачу о восходе Солнца, где появилось Лапласовское сглаживание [тут](https://en.wikipedia.org/wiki/Sunrise_problem)):\n",
    "\n",
    "$$smoothed\\_CTR_u = \\dfrac{clicks_u+\\alpha*globalCTR}{views_u + \\alpha}$$\n",
    "\n",
    "$\\alpha$ - гиперпараметр. Идея достаточно проста: когда просмотров много, сглаженный CTR почти равен CTR пользователя. Когда просмотров мало, сглаженный CTR почти равен общегрупповому CTR. Иначе говоря, если у пользователя много просмотров, мы можем быть уверены, что клики / просмотры - хорошая оценка его CTR , а когда у пользователя просмотров мало, мы устанавливаем в качестве оценки общегрупповой CTR.\n",
    "\n",
    "Хоть идея сглаженного CTR интуитивно понятно, теоретической гарантии, что его направленность совпадает с направленностью общего количества кликов нет. Я бы сказал, что это основная причина такое НЕ использовать, но идея интересная.\n",
    "\n"
   ]
  },
  {
   "cell_type": "code",
   "execution_count": null,
   "metadata": {},
   "outputs": [],
   "source": [
    "def get_smoothed_ctrs(clicks_0, views_0, clicks_1, views_1, smothing_factor=200.):\n",
    "    \"\"\"\n",
    "    Calculates smoothed ctr for every user in every experiment both in treatment and control groups\n",
    "    Smoothed_ctr = (user_clicks + smothing_factor * global_ctr) / (user_views + smothing_factor)\n",
    "    :param clicks_0: np.array shape (n_experiments, n_users), clicks of every user from control group in every experiment\n",
    "    :param views_0: np.array shape (n_experiments, n_users), views of every user from control group in every experiment\n",
    "    :param clicks_1: np.array shape (n_experiments, n_users), clicks of every user from treatment group in every experiment\n",
    "    :param views_1: np.array shape (n_experiments, n_users), views of every user from treatment group in every experiment\n",
    "    :param smothing_factor: float\n",
    "    :return: (np.array, np.array) shape (n_experiments, n_users), smoothed ctrs for every user in every experiment\n",
    "    \"\"\"\n",
    "    global_ctr = (np.sum(clicks_0, axis=1) / np.sum(views_0, axis=1)).reshape(-1, 1)\n",
    "    ctrs_0 = (clicks_0 + smothing_factor * global_ctr) / (views_0 + smothing_factor)\n",
    "    ctrs_1 = (clicks_1 + smothing_factor * global_ctr) / (views_1 + smothing_factor)\n",
    "    return ctrs_0, ctrs_1"
   ]
  },
  {
   "cell_type": "code",
   "execution_count": null,
   "metadata": {},
   "outputs": [],
   "source": [
    "for sigma2 in sigma_list:\n",
    "    folder_path = f'test_data/experimens={2000}/sample_size={5000}/uplift={0.2}/success_rate={0.02}/beta={1000}/skew={sigma2}'\n",
    "    views_a_1, views_a_2, views_b,\\\n",
    "        success_rate_a_1, success_rate_a_2, success_rate_b,\\\n",
    "        clicks_a_1, clicks_a_2, clicks_b = data_loader(folder_path)\n",
    "    \n",
    "    p_values_aa = t_test(clicks_a_1/views_a_1, clicks_a_2/views_a_2)\n",
    "\n",
    "    p_values_ab = t_test(clicks_a_1/views_a_1, clicks_b/views_b)\n",
    "    \n",
    "    p_value_saver(folder_path, 't_test_ctr', p_values_ab, p_values_aa)\n",
    "    \n",
    "    p_values_aa = t_test(*get_smoothed_ctrs(clicks_a_1, views_a_1, clicks_a_2, views_a_2))\n",
    "\n",
    "    p_values_ab = t_test(*get_smoothed_ctrs(clicks_a_1, views_a_1, clicks_b, views_b))\n",
    "    \n",
    "    \n",
    "    p_value_saver(folder_path, 't_test_smoothed_ctr', p_values_ab, p_values_aa)"
   ]
  },
  {
   "cell_type": "code",
   "execution_count": null,
   "metadata": {},
   "outputs": [],
   "source": [
    "png_list = []\n",
    "for sigma in sigma_list:\n",
    "    png_list.append(compare_tests(\n",
    "        ['mann_whitney', 'bootstrap', 't_test_ctr', 't_test_smoothed_ctr'], sigma2=sigma))"
   ]
  },
  {
   "cell_type": "code",
   "execution_count": null,
   "metadata": {},
   "outputs": [],
   "source": [
    "to_gif(['test_data/'+x for x in png_list], 'smoothed_ctr_skew.gif')"
   ]
  },
  {
   "cell_type": "markdown",
   "metadata": {},
   "source": [
    "<img src=\"smoothed_ctr_skew.gif\" width=\"800\">"
   ]
  },
  {
   "cell_type": "code",
   "execution_count": null,
   "metadata": {},
   "outputs": [],
   "source": [
    "for beta in beta_list:\n",
    "    folder_path = f'test_data/experimens={2000}/sample_size={5000}/uplift={0.2}/success_rate={0.02}/beta={beta}/skew={1}'\n",
    "    views_a_1, views_a_2, views_b,\\\n",
    "        success_rate_a_1, success_rate_a_2, success_rate_b,\\\n",
    "        clicks_a_1, clicks_a_2, clicks_b = data_loader(folder_path)\n",
    "    \n",
    "    p_values_aa = t_test(clicks_a_1/views_a_1, clicks_a_2/views_a_2)\n",
    "\n",
    "    p_values_ab = t_test(clicks_a_1/views_a_1, clicks_b/views_b)\n",
    "    \n",
    "    p_value_saver(folder_path, 't_test_ctr', p_values_ab, p_values_aa)\n",
    "    \n",
    "    p_values_aa = t_test(*get_smoothed_ctrs(clicks_a_1, views_a_1, clicks_a_2, views_a_2))\n",
    "\n",
    "    p_values_ab = t_test(*get_smoothed_ctrs(clicks_a_1, views_a_1, clicks_b, views_b))\n",
    "    \n",
    "    \n",
    "    p_value_saver(folder_path, 't_test_smoothed_ctr', p_values_ab, p_values_aa)"
   ]
  },
  {
   "cell_type": "code",
   "execution_count": null,
   "metadata": {},
   "outputs": [],
   "source": [
    "png_list = []\n",
    "for beta in beta_list:\n",
    "    png_list.append(compare_tests(\n",
    "        ['mann_whitney', 'bootstrap', 't_test_ctr', 't_test_smoothed_ctr'], beta=beta))"
   ]
  },
  {
   "cell_type": "code",
   "execution_count": null,
   "metadata": {},
   "outputs": [],
   "source": [
    "to_gif(['test_data/'+x for x in png_list], 'smoothed_ctr_beta.gif')"
   ]
  },
  {
   "cell_type": "markdown",
   "metadata": {},
   "source": [
    "<img src=\"smoothed_ctr_beta.gif\" width=\"800\">"
   ]
  },
  {
   "cell_type": "markdown",
   "metadata": {},
   "source": [
    "# Перевзвешивание пользователей\n",
    "\n",
    "Направление изменения общегруппового CTR совпадает с направлением изменения общего количества кликов, поскольку мы нашим экспериментом не влияем на просмотры. Если пользовательский CTR и его добавочное значение также не зависят от просмотров , изменение среднего CTR пользователя происходит в ту же сторону. Как мы могли заметить, тесты, работающие с общегрупповым CTR, намного мощнее, чем t-тест на CTR пользователей. Если присмотреться внимательно, то общегрупповой CTR - это средневзвешенное значение CTR пользователей с весом, равным просмотрам. Таким образом, взвешивая CTR пользователей с помощью просмотры, мы получаем существенный выигрыш в эффективности статистических тестов.\n",
    "Но является ли взвешивание по просмотрам оптимальным выбором для статистического теста? Технически мы можем использовать любые веса, если они не зависят от CTR пользователей. Таким образом, мы можем взвесить CTR пользователей с любой положительной функцией просмотров (которые не нарушают предположения \"CTR пользователя не зависит от просмотров\"). Исследователи из eBay нашли наиболее эффективные теоретически обоснованные веса. Эти веса равны [эффективному количеству просмотров на пользователя](https://en.wikipedia.org/wiki/Effective_sample_size):\n",
    "\n",
    "$$w_u = \\dfrac{views_u}{1+\\rho(views_u-1)}$$\n",
    "\n",
    "где $views_u$ - это количество просмотров каждого пользователя, а $\\rho$ - коэффициент \"внутрипользовательской\" корреляции (за подробностями [сюда](https://arxiv.org/abs/1911.03553), смотреть блок про UMVUE). Что это такое, можно увидеть непосредственно в коде. В статье исследователи показывают, что при рассмотрении последовательных визитов и кликов от одного и того же пользователя специальный способ перевзвешивания позволяет получить более точную несмещенную оценку, обладающую меньшей дисперсией :)\n",
    "\n",
    "Так когда внутрипользовательская корреляция равна нулю, вес равен просмотрам, как в случае с глобальным CTR. Когда внутрипользовательская корреляция равна единице, все пользователи будут иметь одинаковый вес, равный единице, как в случае со средним CTR пользователя. В реальной жизни эта корреляция находится где-то между нулем и единицей и должна оцениваться для каждой метрики отдельно.\n",
    "Мы применим эти веса к CTR пользователей и будем использовать их в бутстрепе (обратите внимание, что эти веса также можно использовать при разбиении по бакетам и линеаризации)."
   ]
  },
  {
   "cell_type": "code",
   "execution_count": null,
   "metadata": {},
   "outputs": [],
   "source": [
    "def intra_user_correlation_aware_weights(clicks_0, views_0, views_1):\n",
    "    \"\"\"\n",
    "    Считаем веса с помощью UMVUE оценку CTR в тесте и контроле\n",
    "    :param clicks_0: np.array shape (n_experiments, n_users), clicks of every user from control group in every experiment\n",
    "    :param views_0: np.array shape (n_experiments, n_users), views of every user from control group in every experiment\n",
    "    :param views_1: np.array shape (n_experiments, n_users), views of every user from treatment group in every experiment\n",
    "    :return: (np.array, np.array) shape (n_experiments, n_users), weights for every user in every experiment\n",
    "    \"\"\"\n",
    "    ri = clicks_0 / views_0\n",
    "    s3 = clicks_0 * (1 - ri) ** 2 + (views_0 - clicks_0) * ri ** 2\n",
    "    s3 = np.sum(s3, axis=1) / np.sum(views_0 - 1, axis=1)\n",
    "\n",
    "    rb = np.mean(clicks_0 / views_0, axis=1).reshape(-1, 1)\n",
    "    s2 = clicks_0 * (1 - rb) ** 2 + (views_0 - clicks_0) * rb ** 2\n",
    "    s2 = np.sum(s2, axis=1) / (np.sum(views_0, axis=1) - 1)\n",
    "\n",
    "    rho = np.maximum(0, 1 - s3 / s2).reshape(-1, 1)\n",
    "\n",
    "    w_0 = views_0 / (1 + (views_0 - 1) * rho)\n",
    "    w_1 = views_1 / (1 + (views_1 - 1) * rho)\n",
    "    return w_0, w_1"
   ]
  },
  {
   "cell_type": "code",
   "execution_count": null,
   "metadata": {},
   "outputs": [],
   "source": [
    "for sigma2 in sigma_list:\n",
    "    folder_path = f'test_data/experimens={2000}/sample_size={5000}/uplift={0.2}/success_rate={0.02}/beta={1000}/skew={sigma2}'\n",
    "    print('Processing sigma2=',sigma2)\n",
    "    views_a_1, views_a_2, views_b,\\\n",
    "        success_rate_a_1, success_rate_a_2, success_rate_b,\\\n",
    "        clicks_a_1, clicks_a_2, clicks_b = data_loader(folder_path)\n",
    "\n",
    "    corr_aware_w_aa_0, corr_aware_w_1_aa_1 = intra_user_correlation_aware_weights(clicks_a_1, views_a_1,\n",
    "                                                                                  views_a_2)\n",
    "    corr_aware_w_ab_0, corr_aware_w_1_ab_1 = intra_user_correlation_aware_weights(clicks_a_1, views_a_1,\n",
    "                                                                                  views_b)\n",
    "    \n",
    "    p_values_aa_bootstrap_weighted = bootstrap(\n",
    "        clicks_a_1 / views_a_1, corr_aware_w_aa_0, clicks_a_2 / views_a_2, corr_aware_w_1_aa_1)\n",
    "\n",
    "    p_values_ab_bootstrap_weighted = bootstrap(\n",
    "        clicks_a_1 / views_a_1, corr_aware_w_ab_0, clicks_b / views_b, corr_aware_w_1_ab_1)\n",
    "\n",
    "    p_value_saver(folder_path, 'weighted_bootstrap',\n",
    "                  p_values_ab_bootstrap_weighted, p_values_aa_bootstrap_weighted)"
   ]
  },
  {
   "cell_type": "code",
   "execution_count": null,
   "metadata": {},
   "outputs": [],
   "source": [
    "png_list = []\n",
    "for sigma in sigma_list:\n",
    "    png_list.append(compare_tests(\n",
    "        ['mann_whitney', 'bootstrap', 'weighted_bootstrap', 't_test_smoothed_ctr'], sigma2=sigma))\n",
    "to_gif(['test_data/'+x for x in png_list], 'weighted_bootstrap_skew.gif')"
   ]
  },
  {
   "cell_type": "markdown",
   "metadata": {},
   "source": [
    "<img src=\"weighted_bootstrap_skew.gif\" width=\"800\">"
   ]
  },
  {
   "cell_type": "code",
   "execution_count": null,
   "metadata": {},
   "outputs": [],
   "source": [
    "for beta in beta_list:\n",
    "    folder_path = f'test_data/experimens={2000}/sample_size={5000}/uplift={0.2}/success_rate={0.02}/beta={beta}/skew={1}'\n",
    "    \n",
    "    views_a_1, views_a_2, views_b,\\\n",
    "        success_rate_a_1, success_rate_a_2, success_rate_b,\\\n",
    "        clicks_a_1, clicks_a_2, clicks_b = data_loader(folder_path)\n",
    "\n",
    "    corr_aware_w_aa_0, corr_aware_w_1_aa_1 = intra_user_correlation_aware_weights(clicks_a_1, views_a_1,\n",
    "                                                                                  views_a_2)\n",
    "    corr_aware_w_ab_0, corr_aware_w_1_ab_1 = intra_user_correlation_aware_weights(clicks_a_1, views_a_1,\n",
    "                                                                                  views_b)\n",
    "    \n",
    "    p_values_aa_bootstrap_weighted = bootstrap(\n",
    "        clicks_a_1 / views_a_1, corr_aware_w_aa_0, clicks_a_2 / views_a_2, corr_aware_w_1_aa_1)\n",
    "\n",
    "    p_values_ab_bootstrap_weighted = bootstrap(\n",
    "        clicks_a_1 / views_a_1, corr_aware_w_ab_0, clicks_b / views_b, corr_aware_w_1_ab_1)\n",
    "\n",
    "    p_value_saver(folder_path, 'weighted_bootstrap',\n",
    "                  p_values_ab_bootstrap_weighted, p_values_aa_bootstrap_weighted)"
   ]
  },
  {
   "cell_type": "code",
   "execution_count": null,
   "metadata": {},
   "outputs": [],
   "source": [
    "png_list = []\n",
    "for beta in beta_list:\n",
    "    png_list.append(compare_tests(\n",
    "        ['mann_whitney', 'bootstrap', 'weighted_bootstrap', 't_test_smoothed_ctr'], beta=beta))\n",
    "to_gif(['test_data/'+x for x in png_list], 'weighted_bootstrap_beta.gif')"
   ]
  },
  {
   "cell_type": "markdown",
   "metadata": {},
   "source": [
    "<img src=\"weighted_bootstrap_beta.gif\" width=\"800\">"
   ]
  },
  {
   "cell_type": "markdown",
   "metadata": {},
   "source": [
    "# Общие выводы\n",
    "\n",
    "Для вашей задачи можно сгенерировать синтетические данные, которые похожи на ваши, и проверить качество тестов, которые мы обсуждали. При этом важно помнить о предположениях, которые делают тесты, поскольку они очень важны.\n",
    "\n",
    "Если не хочется долго крутить (а я очень рекомендую это делать), вот некоторый список правил.\n",
    "\n",
    "* Независимо от того, какой тест вы выберете, всегда проверяйте его количество ложных срабатываний при справедливости H0. Самый простой способ сделать это - запустить один A / A-тест и собрать из него метрики. Затем вы можете сгенерировать из него бесконечное количество A / A-тестов, случайным образом разделив пользователей на две группы. Нужно, чтобы результат CDF стремился к диагонали.\n",
    "\n",
    "При выборе теста сначала следует проверить дополнительные предположения:\n",
    "\n",
    "* Ваш эксперимент не влияет на просмотры.\n",
    "* CTR пользователей в ваших данных не зависит от просмотров, и разница в CTR между группами (эффект вашего эксперимента) тоже не зависит от просмотров.\n",
    "\n",
    "1) Если ни первое, ни второе не выполнено, проводите тест на кликах. Я бы выбирал между t-тестом для кликов и тестом Манна-Уитни для кликов. Тест Манна-Уитни, в целом, более стабилен, но если ваши данные околонормальные (или слабо скошенные),то лучшим вариантом может быть t-тест. Также имейте в виду, что тест Манна-Уитни требует больше вычислительных ресурсов, что может иметь решающее значение при работе с большими данными.\n",
    "\n",
    "2) Если первое выполняется, а второе - нет, можно использовать методы для общегруппового CTR. На наших синтетических данных бутстрап кажется лучшим выбором. Если в вашем случае это невозможно с вычислительной точки зрения, вам следует рассмотреть такие альтернативы, как дельта-метод, разбиение на бакеты или линеаризацию.\n",
    "\n",
    "3) Если и первое, и второе выполнено, вы можете использовать \"усложнения\". В нашем моделировании лучше всего работает взвешенный бутстреп. Также похоже, что t-тест на сглаженном CTR тоже работает хорошо, но имейте в виду, что у него нет теоретических гарантий.\n",
    "\n",
    "4) При использовании статистического теста важно помнить, что  его нужно сравнивать с базовыми методами. Как вы могли заметить, в некоторых случаях классический тест Манна-Уитни превосходит замороченные взвешенные бутстрепы. Но в других случаях эти \"навороченные\" методы давали существенный прирост мощности.\n",
    "\n",
    "5) В общем, лучший вариант для вас в основном зависит от распределения данных, и стоит попытаться воспроизвести распределение данных в моделировании и выбрать вариант, который работает лучше всего."
   ]
  }
 ],
 "metadata": {
  "kernelspec": {
   "display_name": "Python 3 (ipykernel)",
   "language": "python",
   "name": "python3"
  },
  "language_info": {
   "codemirror_mode": {
    "name": "ipython",
    "version": 3
   },
   "file_extension": ".py",
   "mimetype": "text/x-python",
   "name": "python",
   "nbconvert_exporter": "python",
   "pygments_lexer": "ipython3",
   "version": "3.9.7"
  }
 },
 "nbformat": 4,
 "nbformat_minor": 4
}
