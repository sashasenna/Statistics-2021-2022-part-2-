{
 "cells": [
  {
   "cell_type": "markdown",
   "metadata": {},
   "source": [
    "# Лекция 5: Квантили, доверительные интервалы и распределения, производные от нормального."
   ]
  },
  {
   "cell_type": "markdown",
   "metadata": {},
   "source": [
    "### Пример для узнаваемости продукта:"
   ]
  },
  {
   "cell_type": "markdown",
   "metadata": {},
   "source": [
    "Представим, что вы сделали некий новый продукт, например специальный вид матраца для качественного сна, и хотите выяснить, насколько хорошо людям ваш продукт известен. Можно определить бинарную случайную величину, которая эту ситуацию будет описывать: пусть эта величина - $X = 1$, если член целевой аудитории знает о вашем продукте, и $X = 0$, если член целевой аудитории не знает о вашем продукте. Такие исследования часто называют \"измерениями узнаваемости бренда\". Это величина с распределением Бернулли и параметром $p$ (вероятность узнавания), который вы хотите измерить.\n",
    "\n",
    "Соберем выборку респондентов (Она должна быть репрезентативной, то есть отражать параметры генеральной совокупности) и зададим им вопрос : \"Знаете ли вы о наших чудо-матрацах?\". Ответы респондентов составят выборку из нашего распределения Бернулли - список из нулей и единиц. Тогда наша оценка узнаваемости – доля единиц в выборке. Возникает вопрос: а сколько респондентов нам нужно опросить? \n",
    "\n",
    "Давайте попробуем несколько вариантов. Мы опросили сначала 20 человек, 10 из них о наших матрацах знают, тогда оценка нашего $p$ по выборке есть $\\frac{1}{2}$. Затем опросим 200 человек. И из них уже 90 знает о наших матрацах. Наша оценка $p$ по другой выборке есть $0.45$. Какой из вариантов нам больше подойдет? Какой из них точнее? Здравый смысл подсказывает, что второй – там же больше наблюдений. Для оценки этой точности нам поможет понятие доверительного интервала:\n",
    "\n",
    "**Определение** Доверительным интервалом для параметра $\\theta$ называют такую пару статистик $l$ и $r$, что $P(l\\le\\theta\\le r)\\ge 1-\\alpha$. \n",
    "\n",
    "Здесь $\\theta$ - наш оцениваемый параметр, а $1-\\alpha$ называют уровнем доверия.\n",
    "\n",
    "Смысл здесь такой: Если повторять наш эксперимент бесконечно (чтобы частотные оценки превратились в вероятности), то наш доверительный интервал будет включать в себя истинное значение $\\theta$ в $100(1-\\alpha)$ процентах случаев."
   ]
  },
  {
   "cell_type": "markdown",
   "metadata": {},
   "source": [
    "Наша оценка – выборочное среднее, а если респондентов много, можно применить центральную предельную теорему:\n",
    "$$p\\approx N(E(X),\\frac{\\sigma^2(X)}{n})$$"
   ]
  },
  {
   "cell_type": "markdown",
   "metadata": {},
   "source": [
    "Для распределения Бернулли $E(X) = p$ , а $\\sigma^2(X)=p(1-p)$"
   ]
  },
  {
   "cell_type": "markdown",
   "metadata": {},
   "source": [
    "**ВНИМАНИЕ!** $p$ нам неизвестно, самое лучшее, что мы о нем можем сказать – дать оценку p по выборке, то есть заменить в формуле нормального распределения $p$ на $\\overline{p}$. И тогда получаем:\n",
    "$$p\\approx N(\\bar{p},\\frac{\\bar{p}(1-\\bar{p})}{n})$$\n",
    "\n",
    "А теперь \"правило двух сигм\" (там было как раз 95% вероятностной массы):\n",
    "\n",
    "$$P(\\overline{p}-2\\sqrt{\\frac{\\bar{p}(1-\\bar{p})}{n}} \\le p \\le \\overline{p}+2\\sqrt{\\frac{\\bar{p}(1-\\bar{p})}{n}})\\approx 0.95$$ "
   ]
  },
  {
   "cell_type": "markdown",
   "metadata": {},
   "source": [
    "А значит теперь мы получаем оценки доверительных интервалов для наших случаев:\n",
    "* Для выборки из 20 наблюдений интервал имеет вид: "
   ]
  },
  {
   "cell_type": "code",
   "execution_count": 1,
   "metadata": {},
   "outputs": [
    {
     "name": "stdout",
     "output_type": "stream",
     "text": [
      "[0.27639320225002106, 0.7236067977499789]\n"
     ]
    }
   ],
   "source": [
    "from math import sqrt\n",
    "p = 0.5\n",
    "n = 20\n",
    "interval = 2*sqrt(p*(1-p)/n)\n",
    "\n",
    "print(f'[{p-interval}, {p+interval}]')"
   ]
  },
  {
   "cell_type": "markdown",
   "metadata": {},
   "source": [
    "* Для выборки из 200 наблюдений интервал имеет вид: "
   ]
  },
  {
   "cell_type": "code",
   "execution_count": 2,
   "metadata": {},
   "outputs": [
    {
     "name": "stdout",
     "output_type": "stream",
     "text": [
      "[0.37964376360264857, 0.5203562363973515]\n"
     ]
    }
   ],
   "source": [
    "p = 0.45\n",
    "n = 200\n",
    "interval = 2*sqrt(p*(1-p)/n)\n",
    "\n",
    "print(f'[{p-interval}, {p+interval}]')"
   ]
  },
  {
   "cell_type": "markdown",
   "metadata": {},
   "source": [
    "Доверительный интервал указывает на неопределенность в нашей оценке параметра. Заметьте, что с увеличением количества наблюдений интервал становится уже, а это и означает, что чем больше наблюдений, тем выше точность. Вообще говоря, не обязательно использовать ЦПТ для построения интервалов - часто, когда распределение известно, можно найти метод получше, но метод оценки через ЦПТ довольно универсален и часто будет вам пригождаться."
   ]
  },
  {
   "cell_type": "markdown",
   "metadata": {},
   "source": [
    "# Интервальные оценки\n",
    "Здесь мы с вами использовали правило \"двух сигм\" для построения доверительного интервала для Бернуллиевской случайной величины с помощью нормального приближения (Центральной Предельной Теоремы). \n",
    "<img src=\"https://upload.wikimedia.org/wikipedia/commons/thumb/3/37/Standard_deviation_diagram_%28decimal_comma%29.svg/325px-Standard_deviation_diagram_%28decimal_comma%29.svg.png\" width=\"500\">\n",
    "\n",
    "На самом деле \"два сигма\" это приближенное значение. Попробуем его уточнить. Для этого надо дать вероятностное определение квантиля (Напоминаю, что для выборок мы договорились, что n-процентный квантиль - такое число, что ниже него лежит n процентов наблюдений в выборке)"
   ]
  },
  {
   "cell_type": "markdown",
   "metadata": {},
   "source": [
    "Квантилем порядка $\\alpha$ называют такую величину  $X_{\\alpha}$, что $$P(X\\le X_{\\alpha})\\ge \\alpha$$ и $$P(X\\ge X_{\\alpha})\\ge 1-\\alpha$$"
   ]
  },
  {
   "cell_type": "markdown",
   "metadata": {},
   "source": [
    "Тогда для правила \"двух сигм\" наши границы интервала $$P(l\\le X \\le r) = 1-\\alpha$$  \n",
    "Будут в точности равны $X_{0.025}$ и $X_{0.975}$, то есть:\n",
    "$$P(X_{0.025}\\le X \\le X_{0.975}) = 0.95$$"
   ]
  },
  {
   "cell_type": "markdown",
   "metadata": {},
   "source": [
    "Тогда для произвольного квантиля ситуация будет такая:\n",
    "\n",
    "$$P(X_{\\frac{\\alpha}{2}} \\le X \\le X_{1-\\frac{\\alpha}{2}}) = 1-\\alpha$$"
   ]
  },
  {
   "cell_type": "markdown",
   "metadata": {},
   "source": [
    "Полученный нами интервал называют предсказательным интервалом $[X_{\\frac{\\alpha}{2}},X_{1-\\frac{\\alpha}{2}}]$\n",
    "Заметьте, что здесь случайной является величина в центре, а границы задаются параметрами распределения генеральной совокупности.\n",
    "\n",
    "В случае нормального распределения $X \\sim N(\\mu,\\sigma^2)$ этот интервал можно выразить через соответствующие квантили стандартного нормального распределения, то есть $N(0,1)$ в таком виде:\n",
    "\n"
   ]
  },
  {
   "cell_type": "markdown",
   "metadata": {},
   "source": [
    "$$P(\\mu - z_{1-\\frac{\\alpha}{2}}\\sigma \\le X \\le \\mu + z_{1-\\frac{\\alpha}{2}}\\sigma) = 1-\\alpha$$\n",
    "\n",
    "где $z_{1-\\frac{\\alpha}{2}}=z_{\\frac{\\alpha}{2}}$ - квантиль стандартного нормального распределения.\n",
    "\n",
    "А равенство выше выполняется из-за того, что нормальное распределение симметрично."
   ]
  },
  {
   "cell_type": "markdown",
   "metadata": {},
   "source": [
    "Как раз $z_{0.025}\\approx 1.96 \\approx 2$\n",
    "\n",
    "Вот оно - правило двух сигм :)"
   ]
  },
  {
   "cell_type": "markdown",
   "metadata": {},
   "source": [
    "В свою очередь доверительный интервал для мат.ожидания (интервальная оценка характеристики генеральной совокупности, сделанная по выборке), примет такой вид:"
   ]
  },
  {
   "cell_type": "markdown",
   "metadata": {},
   "source": [
    "$$P(\\overline{X_n} - z_{1-\\frac{\\alpha}{2}}\\frac{\\sigma}{\\sqrt{n}} \\le \\mu \\le \\overline{X_n} + z_{1-\\frac{\\alpha}{2}}\\frac{\\sigma}{\\sqrt{n}}) = 1-\\alpha$$\n",
    "\n",
    "Еще раз, предсказательный интервал говорит, где будет находиться наша случайная величина при условии знания распределения генеральной совокупности(ее дисперсии и математического ожидания), а доверительный – где будет находиться значение статистики в генеральной совокупности(ее мат.ожидание) при условии знания выборки :)\n",
    "\n",
    "Здесь мы взяли какую-то оценку $\\mu$, а именно - выборочное среднее, а $\\sqrt{n}$ появился как следствие центральной предельной теоремы для среднего (по выборке длины n стандартное отклонение уменьшается в $\\sqrt{n}$ раз)"
   ]
  },
  {
   "cell_type": "markdown",
   "metadata": {},
   "source": [
    "# Распределения, производные от нормального"
   ]
  },
  {
   "cell_type": "markdown",
   "metadata": {},
   "source": [
    "## Хи-квадрат\n",
    "\n",
    "Пусть у нас есть k независимых случайных величин, распределенных стандартно нормально:\n",
    "$$X_1...X_n \\sim N(0,1)$$\n",
    "\n",
    "Тогда говорят, что величина $$X = \\sum_{i=1}^k{X_i^2}$$ \n",
    "имеет распределение Хи-квадрат с k степенями свободы.\n",
    "\n",
    "плотность распределения имеет жутковатый вид, поэтому мы выписывать такое не будем. Но пользоваться им это нам не помешает. При разных k графики функции распределения имеют различный вид. Ниже приведены графики для k = 1,2,3,4"
   ]
  },
  {
   "cell_type": "code",
   "execution_count": 3,
   "metadata": {
    "scrolled": false
   },
   "outputs": [
    {
     "data": {
      "text/plain": [
       "[<matplotlib.lines.Line2D at 0x7fddc3a4d970>]"
      ]
     },
     "execution_count": 3,
     "metadata": {},
     "output_type": "execute_result"
    },
    {
     "data": {
      "image/png": "[encoded data removed]",
      "text/plain": [
       "<Figure size 864x504 with 4 Axes>"
      ]
     },
     "metadata": {
      "needs_background": "light"
     },
     "output_type": "display_data"
    }
   ],
   "source": [
    "from scipy.stats import chi2\n",
    "import scipy\n",
    "import numpy as np\n",
    "import matplotlib.pyplot as plt\n",
    "\n",
    "df = [3,4,5,6]\n",
    "\n",
    "fig, ax = plt.subplots(2, 2, figsize=(12,7))\n",
    "x = []\n",
    "pdf = []\n",
    "# for i in df:   \n",
    "x = np.linspace(chi2.ppf(0.01, 3),chi2.ppf(0.99, 3), 100)\n",
    "ax[0,0].plot(x, chi2.pdf(x, 3),c='red', lw=2, alpha=0.6, label='chi2 pdf')\n",
    "x = np.linspace(chi2.ppf(0.01, 4),chi2.ppf(0.99, 4), 100)\n",
    "ax[0,1].plot(x, chi2.pdf(x, 4),c='violet', lw=2, alpha=0.6, label='chi2 pdf')\n",
    "x = np.linspace(chi2.ppf(0.01, 5),chi2.ppf(0.99, 5), 100)\n",
    "ax[1,0].plot(x, chi2.pdf(x, 5),c='blue', lw=2, alpha=0.6, label='chi2 pdf')\n",
    "x = np.linspace(chi2.ppf(0.01, 6),chi2.ppf(0.99, 6), 100)\n",
    "ax[1,1].plot(x, chi2.pdf(x, 6),c='green', lw=2, alpha=0.6, label='chi2 pdf')"
   ]
  },
  {
   "cell_type": "markdown",
   "metadata": {},
   "source": [
    "## Распределение Стьюдента\n",
    "\n",
    "Пусть у нас есть стандартная нормальная случайная величина и величина, распределенная по хи-квадрат с k степенями свободы:\n",
    "$$X \\sim N(0,1)$$\n",
    "$$Y \\sim \\chi_k^2$$\n",
    "\n",
    "Тогда говорят, что величина $$\\phi = \\frac{X}{\\sqrt{Y/k}}$$ \n",
    "имеет распределение Стьюдента с k степенями свободы.\n",
    "\n",
    "Ниже приведены графики для k = 1,2,3,4"
   ]
  },
  {
   "cell_type": "code",
   "execution_count": 4,
   "metadata": {},
   "outputs": [
    {
     "data": {
      "text/plain": [
       "[<matplotlib.lines.Line2D at 0x7fddc3fe0550>]"
      ]
     },
     "execution_count": 4,
     "metadata": {},
     "output_type": "execute_result"
    },
    {
     "data": {
      "image/png": "[encoded data removed]",
      "text/plain": [
       "<Figure size 720x360 with 1 Axes>"
      ]
     },
     "metadata": {
      "needs_background": "light"
     },
     "output_type": "display_data"
    }
   ],
   "source": [
    "from scipy.stats import t\n",
    "import numpy as np\n",
    "import matplotlib.pyplot as plt\n",
    "\n",
    "df = [1,2,3,4]\n",
    "\n",
    "fig, ax = plt.subplots(1, 1, figsize=(10,5))\n",
    "x = []\n",
    "pdf = []\n",
    "# for i in df:   \n",
    "x = np.linspace(t.ppf(0.01, 1),t.ppf(0.99, 1), 100)\n",
    "ax.plot(x, t.pdf(x, 1),c='red', lw=2, alpha=0.6, label='student pdf')\n",
    "x = np.linspace(t.ppf(0.01, 2),t.ppf(0.99, 2), 100)\n",
    "ax.plot(x, t.pdf(x, 2),c='violet', lw=2, alpha=0.6, label='student pdf')\n",
    "x = np.linspace(t.ppf(0.01, 3),t.ppf(0.99, 3), 100)\n",
    "ax.plot(x, t.pdf(x, 3),c='blue', lw=2, alpha=0.6, label='student pdf')\n",
    "x = np.linspace(t.ppf(0.01, 4),t.ppf(0.99, 4), 100)\n",
    "ax.plot(x, t.pdf(x, 4),c='green', lw=2, alpha=0.6, label='student pdf')"
   ]
  },
  {
   "cell_type": "markdown",
   "metadata": {},
   "source": [
    "Такое распределение всегда имеет центр в нуле и , хотя и похоже на нормальное, имеет \"более тяжелые хвосты\". Так говорят, когда вероятность значений сильно отклоняющихся от среднего, выше, чем у нормального. При больших k распределение Стьюдента слабо отличается от нормального распределения (при k > 30-40 на глаз не отличишь)"
   ]
  },
  {
   "cell_type": "markdown",
   "metadata": {},
   "source": [
    "## Распределение Фишера\n",
    "\n",
    "Пусть у нас есть две независимые случайные величины, распределенные по хи-квадрат с k и m степенями свободы соответственно:\n",
    "$$X \\sim \\chi_k^2$$\n",
    "$$Y \\sim \\chi_m^2$$\n",
    "\n",
    "Тогда говорят, что величина $$\\psi = \\frac{X/k}{Y/m}$$ \n",
    "имеет распределение Фишера с параметрами k и m.\n",
    "\n",
    "плотность распределения имеет жутковатый вид, поэтому мы выписывать такое не будем. Но пользоваться им это нам не помешает. При разных k графики функции распределения имеют различный вид. Ниже приведены графики для (1,1) (2,2) (3,3) и (4,4)"
   ]
  },
  {
   "cell_type": "code",
   "execution_count": 5,
   "metadata": {},
   "outputs": [
    {
     "name": "stderr",
     "output_type": "stream",
     "text": [
      "/var/folders/l3/413_5fb13_gbwljv15vg8kqm0000gn/T/ipykernel_71136/35959885.py:11: UserWarning: color is redundantly defined by the 'color' keyword argument and the fmt string \"r-\" (-> color='r'). The keyword argument will take precedence.\n",
      "  ax[0,0].plot(x, f.pdf(x, 1,1),'r-',c='red', lw=2, alpha=0.6, label='student pdf')\n",
      "/var/folders/l3/413_5fb13_gbwljv15vg8kqm0000gn/T/ipykernel_71136/35959885.py:13: UserWarning: color is redundantly defined by the 'color' keyword argument and the fmt string \"r-\" (-> color='r'). The keyword argument will take precedence.\n",
      "  ax[0,1].plot(x, f.pdf(x, 2,2),'r-',c='violet', lw=2, alpha=0.6, label='student pdf')\n",
      "/var/folders/l3/413_5fb13_gbwljv15vg8kqm0000gn/T/ipykernel_71136/35959885.py:15: UserWarning: color is redundantly defined by the 'color' keyword argument and the fmt string \"r-\" (-> color='r'). The keyword argument will take precedence.\n",
      "  ax[1,0].plot(x, f.pdf(x, 3,3),'r-',c='blue', lw=2, alpha=0.6, label='student pdf')\n",
      "/var/folders/l3/413_5fb13_gbwljv15vg8kqm0000gn/T/ipykernel_71136/35959885.py:17: UserWarning: color is redundantly defined by the 'color' keyword argument and the fmt string \"r-\" (-> color='r'). The keyword argument will take precedence.\n",
      "  ax[1,1].plot(x, f.pdf(x, 4,4),'r-',c='green', lw=2, alpha=0.6, label='student pdf')\n"
     ]
    },
    {
     "data": {
      "text/plain": [
       "[<matplotlib.lines.Line2D at 0x7fddc427e220>]"
      ]
     },
     "execution_count": 5,
     "metadata": {},
     "output_type": "execute_result"
    },
    {
     "data": {
      "image/png": "[encoded data removed]",
      "text/plain": [
       "<Figure size 720x360 with 4 Axes>"
      ]
     },
     "metadata": {
      "needs_background": "light"
     },
     "output_type": "display_data"
    }
   ],
   "source": [
    "from scipy.stats import f\n",
    "import numpy as np\n",
    "import matplotlib.pyplot as plt\n",
    "\n",
    "df = [1,2,3,4]\n",
    "\n",
    "fig, ax = plt.subplots(2, 2, figsize=(10,5))\n",
    "x = []\n",
    "pdf = []\n",
    "x = np.linspace(f.ppf(0.01, 1,1),f.ppf(0.99, 1,1), 100)\n",
    "ax[0,0].plot(x, f.pdf(x, 1,1),'r-',c='red', lw=2, alpha=0.6, label='student pdf')\n",
    "x = np.linspace(f.ppf(0.01, 2,2),f.ppf(0.99, 2,2), 100)\n",
    "ax[0,1].plot(x, f.pdf(x, 2,2),'r-',c='violet', lw=2, alpha=0.6, label='student pdf')\n",
    "x = np.linspace(f.ppf(0.01, 3,3),f.ppf(0.99, 3,3), 100)\n",
    "ax[1,0].plot(x, f.pdf(x, 3,3),'r-',c='blue', lw=2, alpha=0.6, label='student pdf')\n",
    "x = np.linspace(f.ppf(0.01, 4,4),f.ppf(0.99, 4,4), 100)\n",
    "ax[1,1].plot(x, f.pdf(x, 4,4),'r-',c='green', lw=2, alpha=0.6, label='student pdf')"
   ]
  },
  {
   "cell_type": "markdown",
   "metadata": {},
   "source": [
    "# Зачем мы городили огород?\n",
    "\n",
    "Взглянем еще раз на нормальное распределение.\n",
    "Если $$X \\sim N(\\mu,\\sigma^2)$$\n",
    "\n",
    "То выборочное среднее $$\\overline{X_n} \\sim N(\\mu,\\frac{\\sigma^2}{n})$$\n",
    "\n",
    "А выборочная дисперсия имеет вид:$$S_n^2 = \\frac{1}{n-1}\\sum(X_i-\\overline{X_n})^2$$\n",
    "\n",
    "В скобках стоит сумма квадратов нормально распределенных случайных величин! Следовательно выборочная дисперсия имеет распределение хи-квадрат с точностью до нормировки, а именно:\n",
    "$$(n-1)\\frac{S_n^2}{\\sigma^2} \\sim \\chi^2_{n-1}$$\n",
    "\n",
    "Еще одна крайне полезная величина, получаемая из нормального распределения, имеет распределение Стьюдента. Это так называемая T-статистика:\n",
    "$$\\frac{\\bar{X_n} - \\mu}{S_n/\\sqrt{n}} \\sim St(n-1)$$\n",
    "\n",
    "Ну а если у нас будет две нормальные выборки вида:\n",
    "$$X_1 \\sim N(\\mu_1,\\sigma_1^2)$$\n",
    "$$X_2 \\sim N(\\mu_2,\\sigma_2^2)$$\n",
    "\n",
    "Тогда величина $$\\frac{S_1^2/\\sigma_1^2}{S_2^2/\\sigma_2^2} \\sim Fisher(n_1-1,n_2-1)$$"
   ]
  },
  {
   "cell_type": "markdown",
   "metadata": {},
   "source": [
    "Ну а теперь, когда мы знаем многие необходимые распределения, займемся построением доверительных интервалов."
   ]
  },
  {
   "cell_type": "markdown",
   "metadata": {},
   "source": [
    "## Доверительный интервал для среднего:"
   ]
  },
  {
   "cell_type": "code",
   "execution_count": 6,
   "metadata": {},
   "outputs": [],
   "source": [
    "from statsmodels.stats.weightstats import _zconfint_generic, _tconfint_generic"
   ]
  },
  {
   "cell_type": "markdown",
   "metadata": {},
   "source": [
    "Представим, что у нас есть выборка из большой группы людей, у которых мы измеряем вес. Вес в этой группе распределен нормально со средним 70 кг и стандартным отклонением 5 кг."
   ]
  },
  {
   "cell_type": "code",
   "execution_count": 7,
   "metadata": {},
   "outputs": [],
   "source": [
    "import numpy as np\n",
    "from numpy.random import normal\n",
    "from scipy.stats import norm"
   ]
  },
  {
   "cell_type": "code",
   "execution_count": 8,
   "metadata": {},
   "outputs": [
    {
     "data": {
      "text/plain": [
       "Text(0.5, 1.0, 'Normal distribution pdf')"
      ]
     },
     "execution_count": 8,
     "metadata": {},
     "output_type": "execute_result"
    },
    {
     "data": {
      "image/png": "[encoded data removed]",
      "text/plain": [
       "<Figure size 720x360 with 1 Axes>"
      ]
     },
     "metadata": {
      "needs_background": "light"
     },
     "output_type": "display_data"
    }
   ],
   "source": [
    "# Случайная выборка\n",
    "sample = np.array([normal(70,5) for _ in range(1000)])\n",
    "\n",
    "fig, ax = plt.subplots(1, 1, figsize=(10,5))\n",
    "x = []\n",
    "pdf = []\n",
    "x = np.linspace(norm.ppf(0.01, 70,5),norm.ppf(0.99, 70,5), 100)\n",
    "ax.plot(x, norm.pdf(x, 70,5),c='red', lw=2, alpha=0.6, label='Norm pdf')\n",
    "ax.set_title('Normal distribution pdf')"
   ]
  },
  {
   "cell_type": "markdown",
   "metadata": {},
   "source": [
    "### Точечная оценка"
   ]
  },
  {
   "cell_type": "code",
   "execution_count": 9,
   "metadata": {},
   "outputs": [
    {
     "name": "stdout",
     "output_type": "stream",
     "text": [
      "Среднее 70.03127498789527, Стандартное отклонение 4.926981213795784\n"
     ]
    }
   ],
   "source": [
    "print(f\"Среднее {sample.mean()}, Стандартное отклонение {sample.std(ddof=1)}\")"
   ]
  },
  {
   "cell_type": "markdown",
   "metadata": {},
   "source": [
    "### Интервальная оценка\n",
    "\n",
    "#### z-интервал\n",
    "Если нам вдруг нам стало известно значение дисперсии в генеральной совокупности, то интервал для среднего в выборке можно получить как:\n",
    "\n",
    "$$\\bar{X}_n \\pm z_{1-\\frac{\\alpha}{2}} \\frac{\\sigma}{\\sqrt{n}}$$"
   ]
  },
  {
   "cell_type": "code",
   "execution_count": 10,
   "metadata": {},
   "outputs": [
    {
     "name": "stdout",
     "output_type": "stream",
     "text": [
      "95% Доверительный интервал для среднего (69.8926846054603, 70.16986537033024)\n"
     ]
    }
   ],
   "source": [
    "sigma = 5\n",
    "print(\"95% Доверительный интервал для среднего\", _zconfint_generic(sample.mean(), \n",
    "                                                                  np.sqrt(5/len(sample)), \n",
    "                                                                  0.05, 'two-sided'))"
   ]
  },
  {
   "cell_type": "markdown",
   "metadata": {},
   "source": [
    "#### t-интервал\n",
    "В действительности дисперсия нам неизвестна. И поэтому вместо дисперсии генеральной совокупности нам надо подставить ее выборочную оценку, а вместо квантиля нормального распределения - квантиль распределения Стьюдента.\n",
    "$$\\bar{X}_n \\pm t_{1-\\frac{\\alpha}{2}} \\frac{S}{\\sqrt{n}}$$\n",
    "\n",
    "Еще раз отметим, что при количестве наблюдений > 30-40 распределение Стьюдента почти не отличается от нормального, так что можно вместо $t_{1-\\frac{\\alpha}{2}}$ брать $z_{1-\\frac{\\alpha}{2}}$"
   ]
  },
  {
   "cell_type": "code",
   "execution_count": 11,
   "metadata": {},
   "outputs": [],
   "source": [
    "sample_std = sample.std(ddof=1)/sqrt(len(sample))"
   ]
  },
  {
   "cell_type": "code",
   "execution_count": 12,
   "metadata": {},
   "outputs": [
    {
     "name": "stdout",
     "output_type": "stream",
     "text": [
      "95% Доверительный интервал для среднего (69.7255330883742, 70.33701688741634)\n"
     ]
    }
   ],
   "source": [
    "print(\"95% Доверительный интервал для среднего\", _tconfint_generic(sample.mean(), sample_std,\n",
    "                                                                       len(sample),\n",
    "                                                                       0.05, 'two-sided'))"
   ]
  },
  {
   "cell_type": "code",
   "execution_count": 13,
   "metadata": {},
   "outputs": [
    {
     "data": {
      "text/plain": [
       "69.8926846054603"
      ]
     },
     "execution_count": 13,
     "metadata": {},
     "output_type": "execute_result"
    }
   ],
   "source": [
    "np.mean(sample) - scipy.stats.norm.ppf(1-0.05/2)*np.sqrt(5/len(sample))"
   ]
  },
  {
   "cell_type": "code",
   "execution_count": 14,
   "metadata": {},
   "outputs": [
    {
     "data": {
      "text/plain": [
       "-1.9599639845400545"
      ]
     },
     "execution_count": 14,
     "metadata": {},
     "output_type": "execute_result"
    }
   ],
   "source": [
    "scipy.stats.norm.ppf(0.05/2)"
   ]
  },
  {
   "cell_type": "markdown",
   "metadata": {},
   "source": [
    "## Доверительный интервал для доли \n",
    "\n",
    "Некоторые часто встречающиеся случайные величины имеют бинарные значения (клики в рекламные баннеры, отток пользователей, возвращаемость на сайт в течение недели и многое другое). Для них тоже нужно уметь строить доверительные интервалы."
   ]
  },
  {
   "cell_type": "code",
   "execution_count": 15,
   "metadata": {},
   "outputs": [],
   "source": [
    "general = [0,0,0,0,0,0,0,0,0,0,0,0,0,0,0,0,0,0,0,0,0,0,0,0,1]\n",
    "\n",
    "sample = np.random.choice(general, size = 5047, replace = True)"
   ]
  },
  {
   "cell_type": "code",
   "execution_count": 16,
   "metadata": {},
   "outputs": [
    {
     "data": {
      "text/plain": [
       "25"
      ]
     },
     "execution_count": 16,
     "metadata": {},
     "output_type": "execute_result"
    }
   ],
   "source": [
    "len(general)"
   ]
  },
  {
   "cell_type": "code",
   "execution_count": 17,
   "metadata": {},
   "outputs": [
    {
     "data": {
      "text/plain": [
       "5047"
      ]
     },
     "execution_count": 17,
     "metadata": {},
     "output_type": "execute_result"
    }
   ],
   "source": [
    "len(sample)"
   ]
  },
  {
   "cell_type": "markdown",
   "metadata": {},
   "source": [
    "Истинное значение доли в генеральной совокупности есть"
   ]
  },
  {
   "cell_type": "code",
   "execution_count": 18,
   "metadata": {},
   "outputs": [
    {
     "data": {
      "text/plain": [
       "0.04"
      ]
     },
     "execution_count": 18,
     "metadata": {},
     "output_type": "execute_result"
    }
   ],
   "source": [
    "np.mean(general)"
   ]
  },
  {
   "cell_type": "markdown",
   "metadata": {},
   "source": [
    "Давайте посмотроим доверительный интервал для этой бернуллиевской случайной величины **на основе нормального распределения (ЦПТ)**:\n",
    "\n",
    "$$p \\pm z_{1-\\frac{\\alpha}{2}} \\sqrt{\\frac{p\\left(1-p\\right)}{n}}$$\n",
    "\n",
    "Здесь *p* - наша оценка доли по выборке."
   ]
  },
  {
   "cell_type": "code",
   "execution_count": 19,
   "metadata": {},
   "outputs": [],
   "source": [
    "from statsmodels.stats.proportion import proportion_confint\n",
    "normal_interval = proportion_confint(sum(sample), len(sample), method = 'normal')"
   ]
  },
  {
   "cell_type": "code",
   "execution_count": 20,
   "metadata": {},
   "outputs": [
    {
     "data": {
      "text/plain": [
       "(0.03721372579491754, 0.048381677414910076)"
      ]
     },
     "execution_count": 20,
     "metadata": {},
     "output_type": "execute_result"
    }
   ],
   "source": [
    "normal_interval"
   ]
  },
  {
   "cell_type": "code",
   "execution_count": 21,
   "metadata": {},
   "outputs": [
    {
     "data": {
      "text/plain": [
       "0.011167951619992539"
      ]
     },
     "execution_count": 21,
     "metadata": {},
     "output_type": "execute_result"
    }
   ],
   "source": [
    "normal_interval[-1]-normal_interval[0]"
   ]
  },
  {
   "cell_type": "markdown",
   "metadata": {},
   "source": [
    "Существует множество методов уточнения этой оценки, один из которых обязатиельно стоит упомянуть - это **метод Уилсона**. Интервал в этом случае примет вид:\n",
    "\n",
    "$$\\frac1{ 1 + \\frac{z^2}{n} } \\left(p + \\frac{z^2}{2n} \\pm z \\sqrt{ \\frac{p\\left(1-p\\right)}{n} + \\frac{\n",
    "z^2}{4n^2} } \\right)$$\n",
    "\n",
    "Здесь $z == z_{1-\\frac{\\alpha}{2}}$ , а *p* - наша оценка доли по выборке."
   ]
  },
  {
   "cell_type": "code",
   "execution_count": 22,
   "metadata": {},
   "outputs": [],
   "source": [
    "normal_interval = proportion_confint(sum(sample), len(sample), method = 'wilson')"
   ]
  },
  {
   "cell_type": "code",
   "execution_count": 23,
   "metadata": {},
   "outputs": [
    {
     "data": {
      "text/plain": [
       "(0.03755275798653159, 0.04873810312524391)"
      ]
     },
     "execution_count": 23,
     "metadata": {},
     "output_type": "execute_result"
    }
   ],
   "source": [
    "normal_interval"
   ]
  },
  {
   "cell_type": "markdown",
   "metadata": {},
   "source": [
    "Еще одно полезное знание, которое мы можем отсюда извлечь - способ расчета размера выборки, необходимого для получения интервала заданой ширины. Сделать это можно с помощью соответствующей функции из statsmodels"
   ]
  },
  {
   "cell_type": "code",
   "execution_count": 24,
   "metadata": {},
   "outputs": [],
   "source": [
    "from statsmodels.stats.proportion import samplesize_confint_proportion"
   ]
  },
  {
   "cell_type": "code",
   "execution_count": 25,
   "metadata": {},
   "outputs": [
    {
     "data": {
      "text/plain": [
       "6295"
      ]
     },
     "execution_count": 25,
     "metadata": {},
     "output_type": "execute_result"
    }
   ],
   "source": [
    "# 0.01 - половина ширины интервала\n",
    "sufficient_size = int(np.ceil(samplesize_confint_proportion(sample.mean(), 0.005))) \n",
    "sufficient_size"
   ]
  },
  {
   "cell_type": "code",
   "execution_count": 26,
   "metadata": {},
   "outputs": [],
   "source": [
    "sample2 = np.random.choice(general, size = sufficient_size)"
   ]
  },
  {
   "cell_type": "code",
   "execution_count": 27,
   "metadata": {},
   "outputs": [],
   "source": [
    "normal_interval2 = proportion_confint(sum(sample2), len(sample2), method = 'normal')"
   ]
  },
  {
   "cell_type": "code",
   "execution_count": 28,
   "metadata": {},
   "outputs": [
    {
     "data": {
      "text/plain": [
       "(0.035189143825897364, 0.04487439866814553)"
      ]
     },
     "execution_count": 28,
     "metadata": {},
     "output_type": "execute_result"
    }
   ],
   "source": [
    "normal_interval2"
   ]
  },
  {
   "cell_type": "code",
   "execution_count": 29,
   "metadata": {},
   "outputs": [
    {
     "data": {
      "text/plain": [
       "0.009685254842248164"
      ]
     },
     "execution_count": 29,
     "metadata": {},
     "output_type": "execute_result"
    }
   ],
   "source": [
    "normal_interval2[-1] - normal_interval2[0]"
   ]
  },
  {
   "cell_type": "markdown",
   "metadata": {},
   "source": [
    "## Доверительный интервал для разности долей в случае двух выборок"
   ]
  },
  {
   "cell_type": "markdown",
   "metadata": {},
   "source": [
    "Пусть проводится тест новой промомеханики: часть пользователей интернет-магазина получает скидку на определенную категорию товаров, а потом измеряется, сделали они заказ в этой категории или нет. Так мы сможем посмотреть, увеличивается ли количество заказов в нашей категории в случае использования промомеханики"
   ]
  },
  {
   "cell_type": "code",
   "execution_count": 30,
   "metadata": {},
   "outputs": [],
   "source": [
    "import scipy"
   ]
  },
  {
   "cell_type": "code",
   "execution_count": 31,
   "metadata": {},
   "outputs": [],
   "source": [
    "np.random.seed(45)\n",
    "group_a = np.random.binomial(n = 1, p = 0.08, size = 1000) \n",
    "group_b = np.random.binomial(n = 1, p = 0.06, size = 1000) "
   ]
  },
  {
   "cell_type": "markdown",
   "metadata": {},
   "source": [
    "Можно построить оценку в виде доверительного интервала Уилсона для каждой из выборок:"
   ]
  },
  {
   "cell_type": "code",
   "execution_count": 32,
   "metadata": {},
   "outputs": [],
   "source": [
    "interval_group_a = proportion_confint(group_a.sum(), len(group_a), method = 'wilson')\n",
    "interval_group_b = proportion_confint(group_b.sum(), len(group_b), method = 'wilson')"
   ]
  },
  {
   "cell_type": "code",
   "execution_count": 33,
   "metadata": {
    "scrolled": true
   },
   "outputs": [
    {
     "name": "stdout",
     "output_type": "stream",
     "text": [
      "Интервальная оценка для А (0.06745502144289929, 0.10173649513405368)\n",
      "Интервальная оценка для В (0.04513327823499824, 0.0742495762662325)\n"
     ]
    }
   ],
   "source": [
    "print('Интервальная оценка для А',interval_group_a)\n",
    "print('Интервальная оценка для В',interval_group_b)"
   ]
  },
  {
   "cell_type": "markdown",
   "metadata": {},
   "source": [
    "Доверительные интервалы пересекаются, значит ли это , что доли в выборках неотличимы?\n",
    "\n",
    "Нет, мы должны построить доверительный интервал для разности:\n",
    "\n",
    "$$p_1 - p_2 \\pm z_{1-\\frac{\\alpha}{2}}\\sqrt{\\frac{p_1(1 - p_1)}{n_1} + \\frac{p_2(1 - p_2)}{n_2}}$$"
   ]
  },
  {
   "cell_type": "code",
   "execution_count": 34,
   "metadata": {},
   "outputs": [],
   "source": [
    "def difference_in_proportions(sample1, sample2, alpha = 0.05):    \n",
    "    z = scipy.stats.norm.ppf(1 - alpha / 2.)   \n",
    "    n1 = len(sample1)\n",
    "    n2 = len(sample2)\n",
    "    p1 = float(sum(sample1)) / n1\n",
    "    p2 = float(sum(sample2)) / n2\n",
    "    \n",
    "    l = (p1 - p2) - z * np.sqrt(p1 * (1 - p1)/ n1 + p2 * (1 - p2)/ n2)\n",
    "    r = (p1 - p2) + z * np.sqrt(p1 * (1 - p1)/ n1 + p2 * (1 - p2)/ n2)\n",
    "    \n",
    "    return (l, r)"
   ]
  },
  {
   "cell_type": "code",
   "execution_count": 35,
   "metadata": {},
   "outputs": [
    {
     "name": "stdout",
     "output_type": "stream",
     "text": [
      "Интервал для разности долей: (0.002588859546437741, 0.04741114045356226)\n"
     ]
    }
   ],
   "source": [
    "print(\"Интервал для разности долей:\", difference_in_proportions(group_a, group_b))"
   ]
  },
  {
   "cell_type": "markdown",
   "metadata": {},
   "source": [
    "Интервал пересекает ноль, значит разность статистически не значима :)"
   ]
  },
  {
   "cell_type": "markdown",
   "metadata": {},
   "source": [
    "До сих пор мы говорили о независимых выборках (пользователи из одной группы получили скидку, а из другой – нет), но так бывает не всегда. Например мы могли показать два разных рекламных баннера одной и той же выборке людей (тогда при оценке интервала надо учесть , что выборки связанные). Делается это так:\n",
    "\n",
    "\n",
    "$X_1$\\ $X_2$ | 1    | 0     | $\\sum$\n",
    "------------ | ---- | ----- | ---\n",
    "1            | a    | b     | a + b\n",
    "0            | c    | d     | c + d\n",
    "$\\sum$       | a + c| b + d | n\n",
    "\n",
    "$$ p_1 = \\frac{a + b}{n}$$\n",
    "\n",
    "$$ p_2 = \\frac{a + c}{n}$$\n",
    "\n",
    "$$ p_1 - p_2 = \\frac{b - c}{n}$$\n",
    "\n",
    "\n",
    "$$ \\frac{b - c}{n} \\pm z_{1-\\frac{\\alpha}{2}}\\sqrt{\\frac{b + c}{n^2} - \\frac{(b - c)^2}{n^3}}$$"
   ]
  },
  {
   "cell_type": "code",
   "execution_count": 36,
   "metadata": {},
   "outputs": [],
   "source": [
    "def difference_related_samples(sample1, sample2, alpha = 0.05):\n",
    "    z = scipy.stats.norm.ppf(1 - alpha / 2.)\n",
    "    sample = list(zip(sample1, sample2))\n",
    "    n = len(sample)\n",
    "        \n",
    "    b = sum([1 if (x[0] == 1 and x[1] == 0) else 0 for x in sample])\n",
    "    c = sum([1 if (x[0] == 0 and x[1] == 1) else 0 for x in sample])\n",
    "    \n",
    "    l = float(b - c) / n  - z * np.sqrt(float((b + c)) / n**2 - float((b - c)**2) / n**3)\n",
    "    r = float(b - c) / n  + z * np.sqrt(float((b + c)) / n**2 - float((b - c)**2) / n**3)\n",
    "    return (l, r)"
   ]
  },
  {
   "cell_type": "code",
   "execution_count": 37,
   "metadata": {},
   "outputs": [
    {
     "data": {
      "text/plain": [
       "(0.013409083935804058, 0.05259091606419594)"
      ]
     },
     "execution_count": 37,
     "metadata": {},
     "output_type": "execute_result"
    }
   ],
   "source": [
    "np.random.seed(45)\n",
    "group_a = np.random.binomial(n = 1, p = 0.07, size = 1000) # Клики группы в первый баннер\n",
    "group_b = np.random.binomial(n = 1, p = 0.04, size = 1000) # Клики группы во второй баннер\n",
    "\n",
    "difference_related_samples(group_a, group_b)"
   ]
  },
  {
   "cell_type": "markdown",
   "metadata": {},
   "source": [
    "Интервал снова не пересекает ноль. Стало быть , тест говорит, что баннер B лучше, чем баннер A."
   ]
  },
  {
   "cell_type": "markdown",
   "metadata": {},
   "source": [
    "## Доверительный интервал c помощью бутстрэпа"
   ]
  },
  {
   "cell_type": "markdown",
   "metadata": {},
   "source": [
    "Представим, что нам нужно построить интервальную оценку для какого-то показателя, о распределении которого мы не знаем ничего. В качестве примера можно взять квантиль 40%. \n",
    "Чтоб такой доверительный интервал построить, нам нужно получить выборочное распределение этой статистики. А что если выборка одна и распределение получить нельзя?"
   ]
  },
  {
   "cell_type": "markdown",
   "metadata": {},
   "source": [
    "Как бы мы получали такое распределение, будь у нас доступ к генеральной совокупности? Понятное дело - мы бы набрали из нее выборок, на каждой из которых посчитали бы искомую статистику, а потом построили соответствующее распределение. Такое нельзя сделать почти никогда.\n",
    "\n",
    "Есть второй вариант – сделать предположение о характере распределения нашей статистики и оценить параметры этого распределения. Это звучит отлично, если у нас есть какой-то способ понять, как распределена наша статистика теоретически (а по условию мы про это распределение ничего не знаем)\n",
    "\n",
    "Вариант номер три – бутстрэп. Поскольку генеральная совокупность нам недоступна, давайте в качестве приближения воспользуемся нашей выборкой и начнем генерировать из нее псевдовыборки размера n с возвращением. Получив некоторое количество таких псевдовыборок, оценим по ним распределение нашей статистики."
   ]
  },
  {
   "cell_type": "markdown",
   "metadata": {},
   "source": [
    "Возьмем датасет об извержениях гейзера Old Faithful:"
   ]
  },
  {
   "cell_type": "code",
   "execution_count": 38,
   "metadata": {},
   "outputs": [
    {
     "data": {
      "text/html": [
       "<div>\n",
       "<style scoped>\n",
       "    .dataframe tbody tr th:only-of-type {\n",
       "        vertical-align: middle;\n",
       "    }\n",
       "\n",
       "    .dataframe tbody tr th {\n",
       "        vertical-align: top;\n",
       "    }\n",
       "\n",
       "    .dataframe thead th {\n",
       "        text-align: right;\n",
       "    }\n",
       "</style>\n",
       "<table border=\"1\" class=\"dataframe\">\n",
       "  <thead>\n",
       "    <tr style=\"text-align: right;\">\n",
       "      <th></th>\n",
       "      <th>eruptions</th>\n",
       "      <th>waiting</th>\n",
       "    </tr>\n",
       "  </thead>\n",
       "  <tbody>\n",
       "    <tr>\n",
       "      <th>0</th>\n",
       "      <td>3.600</td>\n",
       "      <td>79</td>\n",
       "    </tr>\n",
       "    <tr>\n",
       "      <th>1</th>\n",
       "      <td>1.800</td>\n",
       "      <td>54</td>\n",
       "    </tr>\n",
       "    <tr>\n",
       "      <th>2</th>\n",
       "      <td>3.333</td>\n",
       "      <td>74</td>\n",
       "    </tr>\n",
       "    <tr>\n",
       "      <th>3</th>\n",
       "      <td>2.283</td>\n",
       "      <td>62</td>\n",
       "    </tr>\n",
       "    <tr>\n",
       "      <th>4</th>\n",
       "      <td>4.533</td>\n",
       "      <td>85</td>\n",
       "    </tr>\n",
       "    <tr>\n",
       "      <th>...</th>\n",
       "      <td>...</td>\n",
       "      <td>...</td>\n",
       "    </tr>\n",
       "    <tr>\n",
       "      <th>267</th>\n",
       "      <td>4.117</td>\n",
       "      <td>81</td>\n",
       "    </tr>\n",
       "    <tr>\n",
       "      <th>268</th>\n",
       "      <td>2.150</td>\n",
       "      <td>46</td>\n",
       "    </tr>\n",
       "    <tr>\n",
       "      <th>269</th>\n",
       "      <td>4.417</td>\n",
       "      <td>90</td>\n",
       "    </tr>\n",
       "    <tr>\n",
       "      <th>270</th>\n",
       "      <td>1.817</td>\n",
       "      <td>46</td>\n",
       "    </tr>\n",
       "    <tr>\n",
       "      <th>271</th>\n",
       "      <td>4.467</td>\n",
       "      <td>74</td>\n",
       "    </tr>\n",
       "  </tbody>\n",
       "</table>\n",
       "<p>272 rows × 2 columns</p>\n",
       "</div>"
      ],
      "text/plain": [
       "     eruptions  waiting\n",
       "0        3.600       79\n",
       "1        1.800       54\n",
       "2        3.333       74\n",
       "3        2.283       62\n",
       "4        4.533       85\n",
       "..         ...      ...\n",
       "267      4.117       81\n",
       "268      2.150       46\n",
       "269      4.417       90\n",
       "270      1.817       46\n",
       "271      4.467       74\n",
       "\n",
       "[272 rows x 2 columns]"
      ]
     },
     "execution_count": 38,
     "metadata": {},
     "output_type": "execute_result"
    }
   ],
   "source": [
    "import pandas as pd\n",
    "df = pd.read_csv('https://gist.githubusercontent.com/curran/4b59d1046d9e66f2787780ad51a1cd87/raw/9ec906b78a98cf300947a37b56cfe70d01183200/data.tsv', sep='\\t')\n",
    "df"
   ]
  },
  {
   "cell_type": "markdown",
   "metadata": {},
   "source": [
    "переведем длительность извержения в минуты:"
   ]
  },
  {
   "cell_type": "code",
   "execution_count": 39,
   "metadata": {},
   "outputs": [],
   "source": [
    "df['time']=df['eruptions']*60"
   ]
  },
  {
   "cell_type": "code",
   "execution_count": 40,
   "metadata": {},
   "outputs": [
    {
     "name": "stdout",
     "output_type": "stream",
     "text": [
      "Populating the interactive namespace from numpy and matplotlib\n"
     ]
    },
    {
     "name": "stderr",
     "output_type": "stream",
     "text": [
      "/Users/alexandersolomentsev/opt/anaconda3/lib/python3.9/site-packages/IPython/core/magics/pylab.py:159: UserWarning: pylab import has clobbered these variables: ['sqrt', 'norm', 'sample', 'f']\n",
      "`%matplotlib` prevents importing * from pylab and numpy\n",
      "  warn(\"pylab import has clobbered these variables: %s\"  % clobbered +\n"
     ]
    }
   ],
   "source": [
    "%pylab inline"
   ]
  },
  {
   "cell_type": "markdown",
   "metadata": {},
   "source": [
    "Красным цветом на рисунке указана выборочная медиана"
   ]
  },
  {
   "cell_type": "code",
   "execution_count": 41,
   "metadata": {},
   "outputs": [
    {
     "data": {
      "text/plain": [
       "<matplotlib.legend.Legend at 0x7fddc43093d0>"
      ]
     },
     "execution_count": 41,
     "metadata": {},
     "output_type": "execute_result"
    },
    {
     "data": {
      "image/png": "[encoded data removed]",
      "text/plain": [
       "<Figure size 864x360 with 1 Axes>"
      ]
     },
     "metadata": {
      "needs_background": "light"
     },
     "output_type": "display_data"
    }
   ],
   "source": [
    "pylab.figure(figsize(12, 5))\n",
    "pylab.subplot(1,2,1)\n",
    "pylab.hist(df.time, bins = 20, color = 'green', range = (50, 400), label = 'eruptions')\n",
    "pylab.vlines(np.median(df['time']),0,50, color = 'red')\n",
    "pylab.legend()"
   ]
  },
  {
   "cell_type": "code",
   "execution_count": 42,
   "metadata": {},
   "outputs": [
    {
     "data": {
      "text/plain": [
       "240.0"
      ]
     },
     "execution_count": 42,
     "metadata": {},
     "output_type": "execute_result"
    }
   ],
   "source": [
    "np.median(df['time'])"
   ]
  },
  {
   "cell_type": "markdown",
   "metadata": {},
   "source": [
    "Дадим интервальную оценку медианного значения длительности извержения:"
   ]
  },
  {
   "cell_type": "code",
   "execution_count": 43,
   "metadata": {},
   "outputs": [],
   "source": [
    "def bootstrap_samples(data, n_samples):\n",
    "    indices = np.random.randint(0, len(data), (n_samples, len(data)))\n",
    "    samples = data[indices]\n",
    "    return samples"
   ]
  },
  {
   "cell_type": "code",
   "execution_count": 44,
   "metadata": {},
   "outputs": [],
   "source": [
    "def boundaries_with_quantiles(stat, alpha):\n",
    "    lr = np.percentile(stat, [100 * alpha / 2., 100 * (1 - alpha / 2.)])\n",
    "    return lr"
   ]
  },
  {
   "cell_type": "code",
   "execution_count": 45,
   "metadata": {},
   "outputs": [
    {
     "name": "stdout",
     "output_type": "stream",
     "text": [
      "[216.   108.   199.98 136.98 271.98 172.98 282.   216.   117.   261.\n",
      " 109.98 235.02 252.   105.   282.   130.02 105.   288.    96.   255.\n",
      " 108.   105.   207.   184.02 271.98 216.   118.02 244.98 231.   265.98\n",
      " 258.   268.02 202.02 241.98 229.98 121.02 112.02 289.98 109.98 286.98\n",
      " 261.   112.98 274.02 105.   271.98 199.02 229.98 126.   277.98 120.\n",
      " 288.   282.96 109.98 289.98 103.98 292.98 223.02 100.02 274.02 259.02\n",
      " 133.98 270.   105.   288.   109.02 264.   250.02 282.   124.02 282.\n",
      " 241.98 118.02 270.   240.   118.98 304.02 121.02 274.02 232.98 216.\n",
      " 247.98 259.98 246.   157.98 244.02 295.98 237.   271.02 130.02 240.\n",
      " 132.   259.98 112.02 289.02 109.98 258.   280.02 225.   112.02 294.\n",
      " 148.98 262.02 126.   270.   243.   112.02 282.   106.98 291.   220.98\n",
      " 283.98 138.   294.   265.02 102.   277.98 139.02 276.   109.02 265.02\n",
      " 157.02 244.02 255.   118.02 276.   226.02 115.02 270.   136.02 279.\n",
      " 112.02 250.02 168.   259.98 109.98 262.98 112.98 295.98 121.98 223.98\n",
      " 253.98 133.98 271.98 289.02 259.98 118.98 277.98 121.02 306.   108.\n",
      " 301.98 240.   144.   276.   214.02 240.   270.   244.98 108.   238.02\n",
      " 132.   249.   120.   229.98 210.   274.98 142.02 300.   115.98 277.02\n",
      " 115.02 124.98 274.98 199.98 250.02 259.98 270.   145.02 240.   250.02\n",
      " 112.98 274.98 255.   226.02 121.98 265.98 244.98 109.98 265.02 130.98\n",
      " 288.   109.98 288.   246.   237.96 253.98 210.   261.96 135.   280.02\n",
      " 126.   261.   247.98 112.02 276.   106.98 262.02 231.   115.98 270.\n",
      " 142.98 282.   112.02 229.98 205.02 253.98 144.   288.   120.   249.\n",
      " 112.02 256.02 105.   268.98 240.   247.02 244.98 256.02 235.02 273.\n",
      " 244.98 145.02 250.98 133.02 267.   112.98 111.   256.98 237.   139.98\n",
      " 249.   141.   295.98 174.   274.98 229.98 124.98 262.02 127.98 261.\n",
      " 132.   267.   214.02 270.   249.   229.02 235.02 267.   120.   256.98\n",
      " 286.02 271.98 111.   255.   118.98 135.   285.   247.02 129.   265.02\n",
      " 109.02 268.02]\n",
      "95% доверительный интервал для времени извержения Old Faithful: [238.0695 241.8315]\n"
     ]
    }
   ],
   "source": [
    "np.random.seed(42)\n",
    "\n",
    "eruptions = df['time'].values\n",
    "print(eruptions)\n",
    "\n",
    "bootstrapped_medians = list(map(np.median, bootstrap_samples(eruptions, 3)))\n",
    "\n",
    "print(\"95% доверительный интервал для времени извержения Old Faithful:\",  \n",
    "      boundaries_with_quantiles(bootstrapped_medians, 0.05))"
   ]
  },
  {
   "cell_type": "markdown",
   "metadata": {},
   "source": [
    "Если немного потрудиться, можно [отсюда](https://geysertimes.org/geyser.php?id=Beehive) достать времена извержений другого гейзера. Давайте попробуем дать интервальную оценку разности медианных времен извержений этих двух гейзеров."
   ]
  },
  {
   "cell_type": "code",
   "execution_count": 46,
   "metadata": {},
   "outputs": [],
   "source": [
    "data_raw =[\n",
    "'4m 35s',\n",
    "'5m 13s',\n",
    "'4m 55s',\n",
    "'4m 46s',\n",
    "'4m 53s',\n",
    "'4m 58s ',\n",
    "'4m 52s ',\n",
    "'4m 47s ',\n",
    "'4m 47s ',\n",
    "'4m 42s ',\n",
    "'4m 49s ',\n",
    "'4m 45s ',\n",
    "'4m 56s ',\n",
    "'4m 35s ',\n",
    "'4m 51s',\n",
    "'4m 42s',\n",
    "'4m 50',\n",
    "'4m 39s',\n",
    "'4m 52s ',\n",
    "'4m 42s',\n",
    "'5m 18s',\n",
    "'4m 53s',\n",
    "'5m 2s']"
   ]
  },
  {
   "cell_type": "markdown",
   "metadata": {},
   "source": [
    "Распарсим это дело в секунды, а дальше сделаем так же, как в прошлый раз."
   ]
  },
  {
   "cell_type": "code",
   "execution_count": 47,
   "metadata": {},
   "outputs": [],
   "source": [
    "import re\n",
    "def process(x):\n",
    "    st = list(map(int,re.findall(r'\\d+',x)))\n",
    "    return st[0]*60+st[1]\n"
   ]
  },
  {
   "cell_type": "code",
   "execution_count": 48,
   "metadata": {},
   "outputs": [],
   "source": [
    "data_processed = np.array(list(map(process,data_raw)))"
   ]
  },
  {
   "cell_type": "code",
   "execution_count": 49,
   "metadata": {},
   "outputs": [
    {
     "data": {
      "text/plain": [
       "290.0"
      ]
     },
     "execution_count": 49,
     "metadata": {},
     "output_type": "execute_result"
    }
   ],
   "source": [
    "np.median(data_processed)"
   ]
  },
  {
   "cell_type": "code",
   "execution_count": 50,
   "metadata": {},
   "outputs": [
    {
     "name": "stdout",
     "output_type": "stream",
     "text": [
      "95% доверительный интервал для времени извержения Beehive: [286. 293.]\n"
     ]
    }
   ],
   "source": [
    "bootstrapped_medians_2 = list(map(np.median, bootstrap_samples(data_processed, 1000)))\n",
    "\n",
    "print(\"95% доверительный интервал для времени извержения Beehive:\",  \n",
    "      boundaries_with_quantiles(bootstrapped_medians_2, 0.05))"
   ]
  },
  {
   "cell_type": "markdown",
   "metadata": {},
   "source": [
    "Тогда точечная оценка разности медиан:"
   ]
  },
  {
   "cell_type": "code",
   "execution_count": 51,
   "metadata": {},
   "outputs": [
    {
     "name": "stdout",
     "output_type": "stream",
     "text": [
      "Разность: 50.0\n"
     ]
    }
   ],
   "source": [
    "print(\"Разность:\", np.median(data_processed) - np.median(eruptions))"
   ]
  },
  {
   "cell_type": "markdown",
   "metadata": {},
   "source": [
    "А доверительный интервал:"
   ]
  },
  {
   "cell_type": "code",
   "execution_count": 52,
   "metadata": {},
   "outputs": [],
   "source": [
    "median_difference = list(map(lambda x: x[1] - x[0], zip(bootstrapped_medians, \n",
    "                                                        bootstrapped_medians_2)))"
   ]
  },
  {
   "cell_type": "code",
   "execution_count": 53,
   "metadata": {},
   "outputs": [
    {
     "name": "stdout",
     "output_type": "stream",
     "text": [
      "95% доверительный интервал для разности медианных времен извержений [45.2685 52.8305]\n"
     ]
    }
   ],
   "source": [
    "print(\"95% доверительный интервал для разности медианных времен извержений\",  \n",
    "      boundaries_with_quantiles(median_difference, 0.05))"
   ]
  },
  {
   "cell_type": "markdown",
   "metadata": {},
   "source": [
    "Бутстрэп выглядит как совсем магическое ухищрение, но в действительности он очень хорошо работает, а при некоторых ограничениях вид и качество интервала, полученного с помощью бутстрэпа, могут быть оценены в явном виде (но тут уже придется покопаться в математике посерьезнее)\n"
   ]
  }
 ],
 "metadata": {
  "kernelspec": {
   "display_name": "Python 3 (ipykernel)",
   "language": "python",
   "name": "python3"
  },
  "language_info": {
   "codemirror_mode": {
    "name": "ipython",
    "version": 3
   },
   "file_extension": ".py",
   "mimetype": "text/x-python",
   "name": "python",
   "nbconvert_exporter": "python",
   "pygments_lexer": "ipython3",
   "version": "3.9.7"
  }
 },
 "nbformat": 4,
 "nbformat_minor": 4
}
